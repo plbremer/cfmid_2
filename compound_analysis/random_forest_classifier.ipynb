{
 "cells": [
  {
   "cell_type": "code",
   "execution_count": 1,
   "id": "ce904a81",
   "metadata": {},
   "outputs": [],
   "source": [
    "import numpy as np\n",
    "import pandas as pd\n",
    "from sklearn.utils import shuffle\n",
    "from sklearn.ensemble import RandomForestRegressor\n",
    "import matplotlib.pyplot as plt\n",
    "from sklearn.pipeline import Pipeline\n",
    "from sklearn.model_selection import GridSearchCV\n",
    "from sklearn.linear_model import LinearRegression\n",
    "from sklearn.preprocessing import StandardScaler\n",
    "from sklearn.ensemble import RandomForestClassifier\n",
    "from sklearn.metrics import confusion_matrix"
   ]
  },
  {
   "cell_type": "code",
   "execution_count": 2,
   "id": "26f04b98",
   "metadata": {},
   "outputs": [],
   "source": [
    "cohort_input_address='/home/rictuar/coding_projects/fiehn_work/cfmid/cfmid_redo/results/compound_exploration/[M+H]+_hcd_cohort_fingerprints.bin'"
   ]
  },
  {
   "cell_type": "code",
   "execution_count": 3,
   "id": "926a3178",
   "metadata": {},
   "outputs": [],
   "source": [
    "dataset=pd.read_pickle(cohort_input_address)"
   ]
  },
  {
   "cell_type": "code",
   "execution_count": 4,
   "id": "37279317",
   "metadata": {},
   "outputs": [],
   "source": [
    "dataset=shuffle(dataset,random_state=1337)\n",
    "dataset.reset_index(inplace=True)"
   ]
  },
  {
   "cell_type": "code",
   "execution_count": 5,
   "id": "4249834a",
   "metadata": {},
   "outputs": [],
   "source": [
    "X=np.array(dataset.fingerprint_array.to_list())"
   ]
  },
  {
   "cell_type": "code",
   "execution_count": 6,
   "id": "bfe36320",
   "metadata": {},
   "outputs": [],
   "source": [
    "y=np.array(dataset.dot_product.to_list())\n",
    "y=1-y"
   ]
  },
  {
   "cell_type": "code",
   "execution_count": 7,
   "id": "0f968414",
   "metadata": {},
   "outputs": [
    {
     "data": {
      "image/png": "[encoded data removed]",
      "text/plain": [
       "<Figure size 432x288 with 1 Axes>"
      ]
     },
     "metadata": {
      "needs_background": "light"
     },
     "output_type": "display_data"
    }
   ],
   "source": [
    "plt.hist(y)\n",
    "plt.show()"
   ]
  },
  {
   "cell_type": "code",
   "execution_count": 8,
   "id": "c2d15aba",
   "metadata": {},
   "outputs": [],
   "source": [
    "y[y>=0.7]=1\n",
    "y[y<0.7]=0"
   ]
  },
  {
   "cell_type": "code",
   "execution_count": 9,
   "id": "62c90a9a",
   "metadata": {},
   "outputs": [
    {
     "data": {
      "image/png": "[encoded data removed]",
      "text/plain": [
       "<Figure size 432x288 with 1 Axes>"
      ]
     },
     "metadata": {
      "needs_background": "light"
     },
     "output_type": "display_data"
    }
   ],
   "source": [
    "plt.hist(y)\n",
    "plt.show()"
   ]
  },
  {
   "cell_type": "code",
   "execution_count": 10,
   "id": "cc911934",
   "metadata": {},
   "outputs": [],
   "source": [
    "X_train=X[0:int(np.floor(0.8*len(X)))]\n",
    "y_train=y[0:int(np.floor(0.8*len(y)))]\n",
    "X_test=X[int(np.floor(0.8*len(X))):]\n",
    "y_test=y[int(np.floor(0.8*len(y))):]"
   ]
  },
  {
   "cell_type": "code",
   "execution_count": null,
   "id": "752ab6bd",
   "metadata": {},
   "outputs": [],
   "source": []
  },
  {
   "cell_type": "code",
   "execution_count": 11,
   "id": "62e2c5f1",
   "metadata": {},
   "outputs": [],
   "source": [
    "my_RandomForestClassifier_Pipeline=Pipeline(\n",
    "    [\n",
    "        #('my_StandardScaler',StandardScaler()),\n",
    "        ('my_RandomForestClassifier',RandomForestClassifier())\n",
    "    ]\n",
    ")\n",
    "my_RandomForestClassifier_parameters=[\n",
    "    {\n",
    "        'my_RandomForestClassifier__n_estimators':[10,20,40,100,200],\n",
    "        'my_RandomForestClassifier__n_jobs':[4],\n",
    "        'my_RandomForestClassifier__random_state':[1337]#,\n",
    "        #'my_RandomForestRegressor__max_depth':[5]\n",
    "        \n",
    "    }\n",
    "]"
   ]
  },
  {
   "cell_type": "code",
   "execution_count": 12,
   "id": "7eec4220",
   "metadata": {},
   "outputs": [
    {
     "name": "stdout",
     "output_type": "stream",
     "text": [
      "0.4916946383242268 {'my_RandomForestClassifier__n_estimators': 10, 'my_RandomForestClassifier__n_jobs': 4, 'my_RandomForestClassifier__random_state': 1337}\n",
      "0.5370872783130849 {'my_RandomForestClassifier__n_estimators': 20, 'my_RandomForestClassifier__n_jobs': 4, 'my_RandomForestClassifier__random_state': 1337}\n",
      "0.5362289915966386 {'my_RandomForestClassifier__n_estimators': 40, 'my_RandomForestClassifier__n_jobs': 4, 'my_RandomForestClassifier__random_state': 1337}\n",
      "0.5391266975377198 {'my_RandomForestClassifier__n_estimators': 100, 'my_RandomForestClassifier__n_jobs': 4, 'my_RandomForestClassifier__random_state': 1337}\n",
      "0.5294150294150294 {'my_RandomForestClassifier__n_estimators': 200, 'my_RandomForestClassifier__n_jobs': 4, 'my_RandomForestClassifier__random_state': 1337}\n"
     ]
    }
   ],
   "source": [
    "my_RandomForestClassifier_Gridsearch=GridSearchCV(\n",
    "    my_RandomForestClassifier_Pipeline,\n",
    "    my_RandomForestClassifier_parameters,\n",
    "    cv=5,\n",
    "    scoring='precision',\n",
    "    return_train_score=True\n",
    ")\n",
    "\n",
    "my_RandomForestClassifier_Gridsearch.fit(X_train,y_train)\n",
    "\n",
    "my_RandomForestClassifier_Gridsearch_results=my_RandomForestClassifier_Gridsearch.cv_results_\n",
    "for mean_score, params in zip(my_RandomForestClassifier_Gridsearch_results[\"mean_test_score\"],my_RandomForestClassifier_Gridsearch_results[\"params\"]):\n",
    "    #print(np.sqrt(-mean_score), params)\n",
    "    print(mean_score,params)\n",
    "    \n",
    "winner_RandomForestClassifier=my_RandomForestClassifier_Gridsearch.best_estimator_"
   ]
  },
  {
   "cell_type": "code",
   "execution_count": 13,
   "id": "1af737b1",
   "metadata": {},
   "outputs": [
    {
     "name": "stdout",
     "output_type": "stream",
     "text": [
      "{'mean_fit_time': array([0.29988027, 0.1951674 , 0.24901295, 0.42751942, 0.7163928 ]), 'std_fit_time': array([0.24286926, 0.00384678, 0.00733909, 0.01318346, 0.0156973 ]), 'mean_score_time': array([0.02334847, 0.02665462, 0.04605474, 0.08539772, 0.14800277]), 'std_score_time': array([0.00344871, 0.00794904, 0.00131667, 0.00443423, 0.0072295 ]), 'param_my_RandomForestClassifier__n_estimators': masked_array(data=[10, 20, 40, 100, 200],\n",
      "             mask=[False, False, False, False, False],\n",
      "       fill_value='?',\n",
      "            dtype=object), 'param_my_RandomForestClassifier__n_jobs': masked_array(data=[4, 4, 4, 4, 4],\n",
      "             mask=[False, False, False, False, False],\n",
      "       fill_value='?',\n",
      "            dtype=object), 'param_my_RandomForestClassifier__random_state': masked_array(data=[1337, 1337, 1337, 1337, 1337],\n",
      "             mask=[False, False, False, False, False],\n",
      "       fill_value='?',\n",
      "            dtype=object), 'params': [{'my_RandomForestClassifier__n_estimators': 10, 'my_RandomForestClassifier__n_jobs': 4, 'my_RandomForestClassifier__random_state': 1337}, {'my_RandomForestClassifier__n_estimators': 20, 'my_RandomForestClassifier__n_jobs': 4, 'my_RandomForestClassifier__random_state': 1337}, {'my_RandomForestClassifier__n_estimators': 40, 'my_RandomForestClassifier__n_jobs': 4, 'my_RandomForestClassifier__random_state': 1337}, {'my_RandomForestClassifier__n_estimators': 100, 'my_RandomForestClassifier__n_jobs': 4, 'my_RandomForestClassifier__random_state': 1337}, {'my_RandomForestClassifier__n_estimators': 200, 'my_RandomForestClassifier__n_jobs': 4, 'my_RandomForestClassifier__random_state': 1337}], 'split0_test_score': array([0.48571429, 0.51612903, 0.42857143, 0.48387097, 0.46428571]), 'split1_test_score': array([0.56666667, 0.58333333, 0.6       , 0.57692308, 0.55555556]), 'split2_test_score': array([0.41935484, 0.45454545, 0.46875   , 0.47058824, 0.47222222]), 'split3_test_score': array([0.53846154, 0.57142857, 0.55882353, 0.55555556, 0.56410256]), 'split4_test_score': array([0.44827586, 0.56      , 0.625     , 0.60869565, 0.59090909]), 'mean_test_score': array([0.49169464, 0.53708728, 0.53622899, 0.5391267 , 0.52941503]), 'std_test_score': array([0.05470274, 0.04710715, 0.07563215, 0.05345845, 0.05134378]), 'rank_test_score': array([5, 2, 3, 1, 4], dtype=int32), 'split0_train_score': array([0.98898072, 0.98992443, 0.99278846, 0.9952381 , 0.99760766]), 'split1_train_score': array([0.99453552, 0.995086  , 0.9952381 , 0.99297424, 0.99763593]), 'split2_train_score': array([0.98391421, 0.97820823, 0.98803828, 0.99285714, 0.98820755]), 'split3_train_score': array([0.97560976, 0.97777778, 0.99040767, 0.98820755, 0.98820755]), 'split4_train_score': array([0.9943662 , 0.99244332, 0.99273608, 0.99761905, 0.99061033]), 'mean_train_score': array([0.98748128, 0.98668795, 0.99184172, 0.99337921, 0.9924538 ]), 'std_train_score': array([0.00711435, 0.00728592, 0.00243944, 0.00311815, 0.00430991])}\n"
     ]
    }
   ],
   "source": [
    "print(my_RandomForestClassifier_Gridsearch_results)"
   ]
  },
  {
   "cell_type": "code",
   "execution_count": 14,
   "id": "e0e9256f",
   "metadata": {},
   "outputs": [],
   "source": [
    "y_predict=winner_RandomForestClassifier.predict(X_test)"
   ]
  },
  {
   "cell_type": "code",
   "execution_count": 15,
   "id": "2daab5bc",
   "metadata": {},
   "outputs": [],
   "source": [
    "my_confusion=confusion_matrix(y_test,y_predict)\n"
   ]
  },
  {
   "cell_type": "code",
   "execution_count": 16,
   "id": "cba78939",
   "metadata": {},
   "outputs": [
    {
     "data": {
      "text/plain": [
       "array([[1488,   14],\n",
       "       [ 123,   35]])"
      ]
     },
     "execution_count": 16,
     "metadata": {},
     "output_type": "execute_result"
    }
   ],
   "source": [
    "my_confusion"
   ]
  },
  {
   "cell_type": "code",
   "execution_count": 17,
   "id": "432511d7",
   "metadata": {},
   "outputs": [
    {
     "data": {
      "text/plain": [
       "<AxesSubplot:>"
      ]
     },
     "execution_count": 17,
     "metadata": {},
     "output_type": "execute_result"
    },
    {
     "data": {
      "image/png": "[encoded data removed]",
      "text/plain": [
       "<Figure size 432x288 with 2 Axes>"
      ]
     },
     "metadata": {
      "needs_background": "light"
     },
     "output_type": "display_data"
    }
   ],
   "source": [
    "import seaborn as sns\n",
    "sns.heatmap(my_confusion/np.sum(my_confusion), annot=True, \n",
    "            fmt='.2%', cmap='Blues')"
   ]
  },
  {
   "cell_type": "code",
   "execution_count": 18,
   "id": "b8a6d895",
   "metadata": {},
   "outputs": [],
   "source": [
    "from imblearn.ensemble import BalancedRandomForestClassifier"
   ]
  },
  {
   "cell_type": "code",
   "execution_count": 19,
   "id": "5cbdc783",
   "metadata": {},
   "outputs": [],
   "source": [
    "my_BalancedRandomForestClassifier_Pipeline=Pipeline(\n",
    "    [\n",
    "        #('my_StandardScaler',StandardScaler()),\n",
    "        ('my_BalancedRandomForestClassifier',BalancedRandomForestClassifier())\n",
    "    ]\n",
    ")\n",
    "my_BalancedRandomForestClassifier_parameters=[\n",
    "    {\n",
    "        'my_BalancedRandomForestClassifier__n_estimators':[10,20,40,100,200],\n",
    "        'my_BalancedRandomForestClassifier__n_jobs':[5],\n",
    "        'my_BalancedRandomForestClassifier__random_state':[1337],\n",
    "        'my_BalancedRandomForestClassifier__criterion':['gini','entropy'],\n",
    "        'my_BalancedRandomForestClassifier__sampling_strategy':[\n",
    "            'not majority','not minority','all'\n",
    "        ],\n",
    "        'my_BalancedRandomForestClassifier__replacement':[True,False]\n",
    "        #,\n",
    "        #'my_BalancedRandomForestRegressor__max_depth':[5]\n",
    "        \n",
    "    }\n",
    "]"
   ]
  },
  {
   "cell_type": "code",
   "execution_count": 20,
   "id": "2a246b64",
   "metadata": {},
   "outputs": [
    {
     "name": "stdout",
     "output_type": "stream",
     "text": [
      "0.5483333333333332 {'my_BalancedRandomForestClassifier__criterion': 'gini', 'my_BalancedRandomForestClassifier__n_estimators': 10, 'my_BalancedRandomForestClassifier__n_jobs': 5, 'my_BalancedRandomForestClassifier__random_state': 1337, 'my_BalancedRandomForestClassifier__replacement': True, 'my_BalancedRandomForestClassifier__sampling_strategy': 'not majority'}\n",
      "0.17778685765652216 {'my_BalancedRandomForestClassifier__criterion': 'gini', 'my_BalancedRandomForestClassifier__n_estimators': 10, 'my_BalancedRandomForestClassifier__n_jobs': 5, 'my_BalancedRandomForestClassifier__random_state': 1337, 'my_BalancedRandomForestClassifier__replacement': True, 'my_BalancedRandomForestClassifier__sampling_strategy': 'not minority'}\n",
      "0.1978318715836876 {'my_BalancedRandomForestClassifier__criterion': 'gini', 'my_BalancedRandomForestClassifier__n_estimators': 10, 'my_BalancedRandomForestClassifier__n_jobs': 5, 'my_BalancedRandomForestClassifier__random_state': 1337, 'my_BalancedRandomForestClassifier__replacement': True, 'my_BalancedRandomForestClassifier__sampling_strategy': 'all'}\n",
      "0.47939140655609247 {'my_BalancedRandomForestClassifier__criterion': 'gini', 'my_BalancedRandomForestClassifier__n_estimators': 10, 'my_BalancedRandomForestClassifier__n_jobs': 5, 'my_BalancedRandomForestClassifier__random_state': 1337, 'my_BalancedRandomForestClassifier__replacement': False, 'my_BalancedRandomForestClassifier__sampling_strategy': 'not majority'}\n",
      "0.18285437240370125 {'my_BalancedRandomForestClassifier__criterion': 'gini', 'my_BalancedRandomForestClassifier__n_estimators': 10, 'my_BalancedRandomForestClassifier__n_jobs': 5, 'my_BalancedRandomForestClassifier__random_state': 1337, 'my_BalancedRandomForestClassifier__replacement': False, 'my_BalancedRandomForestClassifier__sampling_strategy': 'not minority'}\n",
      "0.17402524981780526 {'my_BalancedRandomForestClassifier__criterion': 'gini', 'my_BalancedRandomForestClassifier__n_estimators': 10, 'my_BalancedRandomForestClassifier__n_jobs': 5, 'my_BalancedRandomForestClassifier__random_state': 1337, 'my_BalancedRandomForestClassifier__replacement': False, 'my_BalancedRandomForestClassifier__sampling_strategy': 'all'}\n",
      "0.5774538866930171 {'my_BalancedRandomForestClassifier__criterion': 'gini', 'my_BalancedRandomForestClassifier__n_estimators': 20, 'my_BalancedRandomForestClassifier__n_jobs': 5, 'my_BalancedRandomForestClassifier__random_state': 1337, 'my_BalancedRandomForestClassifier__replacement': True, 'my_BalancedRandomForestClassifier__sampling_strategy': 'not majority'}\n",
      "0.17996859281502997 {'my_BalancedRandomForestClassifier__criterion': 'gini', 'my_BalancedRandomForestClassifier__n_estimators': 20, 'my_BalancedRandomForestClassifier__n_jobs': 5, 'my_BalancedRandomForestClassifier__random_state': 1337, 'my_BalancedRandomForestClassifier__replacement': True, 'my_BalancedRandomForestClassifier__sampling_strategy': 'not minority'}\n",
      "0.21193681392643932 {'my_BalancedRandomForestClassifier__criterion': 'gini', 'my_BalancedRandomForestClassifier__n_estimators': 20, 'my_BalancedRandomForestClassifier__n_jobs': 5, 'my_BalancedRandomForestClassifier__random_state': 1337, 'my_BalancedRandomForestClassifier__replacement': True, 'my_BalancedRandomForestClassifier__sampling_strategy': 'all'}\n",
      "0.515406162464986 {'my_BalancedRandomForestClassifier__criterion': 'gini', 'my_BalancedRandomForestClassifier__n_estimators': 20, 'my_BalancedRandomForestClassifier__n_jobs': 5, 'my_BalancedRandomForestClassifier__random_state': 1337, 'my_BalancedRandomForestClassifier__replacement': False, 'my_BalancedRandomForestClassifier__sampling_strategy': 'not majority'}\n",
      "0.18503769433469408 {'my_BalancedRandomForestClassifier__criterion': 'gini', 'my_BalancedRandomForestClassifier__n_estimators': 20, 'my_BalancedRandomForestClassifier__n_jobs': 5, 'my_BalancedRandomForestClassifier__random_state': 1337, 'my_BalancedRandomForestClassifier__replacement': False, 'my_BalancedRandomForestClassifier__sampling_strategy': 'not minority'}\n",
      "0.17824034600737163 {'my_BalancedRandomForestClassifier__criterion': 'gini', 'my_BalancedRandomForestClassifier__n_estimators': 20, 'my_BalancedRandomForestClassifier__n_jobs': 5, 'my_BalancedRandomForestClassifier__random_state': 1337, 'my_BalancedRandomForestClassifier__replacement': False, 'my_BalancedRandomForestClassifier__sampling_strategy': 'all'}\n",
      "0.6249639249639249 {'my_BalancedRandomForestClassifier__criterion': 'gini', 'my_BalancedRandomForestClassifier__n_estimators': 40, 'my_BalancedRandomForestClassifier__n_jobs': 5, 'my_BalancedRandomForestClassifier__random_state': 1337, 'my_BalancedRandomForestClassifier__replacement': True, 'my_BalancedRandomForestClassifier__sampling_strategy': 'not majority'}\n",
      "0.1799340472106728 {'my_BalancedRandomForestClassifier__criterion': 'gini', 'my_BalancedRandomForestClassifier__n_estimators': 40, 'my_BalancedRandomForestClassifier__n_jobs': 5, 'my_BalancedRandomForestClassifier__random_state': 1337, 'my_BalancedRandomForestClassifier__replacement': True, 'my_BalancedRandomForestClassifier__sampling_strategy': 'not minority'}\n",
      "0.22270766311350756 {'my_BalancedRandomForestClassifier__criterion': 'gini', 'my_BalancedRandomForestClassifier__n_estimators': 40, 'my_BalancedRandomForestClassifier__n_jobs': 5, 'my_BalancedRandomForestClassifier__random_state': 1337, 'my_BalancedRandomForestClassifier__replacement': True, 'my_BalancedRandomForestClassifier__sampling_strategy': 'all'}\n",
      "0.527713963963964 {'my_BalancedRandomForestClassifier__criterion': 'gini', 'my_BalancedRandomForestClassifier__n_estimators': 40, 'my_BalancedRandomForestClassifier__n_jobs': 5, 'my_BalancedRandomForestClassifier__random_state': 1337, 'my_BalancedRandomForestClassifier__replacement': False, 'my_BalancedRandomForestClassifier__sampling_strategy': 'not majority'}\n",
      "0.18536774022560426 {'my_BalancedRandomForestClassifier__criterion': 'gini', 'my_BalancedRandomForestClassifier__n_estimators': 40, 'my_BalancedRandomForestClassifier__n_jobs': 5, 'my_BalancedRandomForestClassifier__random_state': 1337, 'my_BalancedRandomForestClassifier__replacement': False, 'my_BalancedRandomForestClassifier__sampling_strategy': 'not minority'}\n",
      "0.18996463913818507 {'my_BalancedRandomForestClassifier__criterion': 'gini', 'my_BalancedRandomForestClassifier__n_estimators': 40, 'my_BalancedRandomForestClassifier__n_jobs': 5, 'my_BalancedRandomForestClassifier__random_state': 1337, 'my_BalancedRandomForestClassifier__replacement': False, 'my_BalancedRandomForestClassifier__sampling_strategy': 'all'}\n",
      "0.6887510013206608 {'my_BalancedRandomForestClassifier__criterion': 'gini', 'my_BalancedRandomForestClassifier__n_estimators': 100, 'my_BalancedRandomForestClassifier__n_jobs': 5, 'my_BalancedRandomForestClassifier__random_state': 1337, 'my_BalancedRandomForestClassifier__replacement': True, 'my_BalancedRandomForestClassifier__sampling_strategy': 'not majority'}\n",
      "0.18780684783574303 {'my_BalancedRandomForestClassifier__criterion': 'gini', 'my_BalancedRandomForestClassifier__n_estimators': 100, 'my_BalancedRandomForestClassifier__n_jobs': 5, 'my_BalancedRandomForestClassifier__random_state': 1337, 'my_BalancedRandomForestClassifier__replacement': True, 'my_BalancedRandomForestClassifier__sampling_strategy': 'not minority'}\n",
      "0.23131830074126275 {'my_BalancedRandomForestClassifier__criterion': 'gini', 'my_BalancedRandomForestClassifier__n_estimators': 100, 'my_BalancedRandomForestClassifier__n_jobs': 5, 'my_BalancedRandomForestClassifier__random_state': 1337, 'my_BalancedRandomForestClassifier__replacement': True, 'my_BalancedRandomForestClassifier__sampling_strategy': 'all'}\n",
      "0.5366764814133236 {'my_BalancedRandomForestClassifier__criterion': 'gini', 'my_BalancedRandomForestClassifier__n_estimators': 100, 'my_BalancedRandomForestClassifier__n_jobs': 5, 'my_BalancedRandomForestClassifier__random_state': 1337, 'my_BalancedRandomForestClassifier__replacement': False, 'my_BalancedRandomForestClassifier__sampling_strategy': 'not majority'}\n",
      "0.19549432483682833 {'my_BalancedRandomForestClassifier__criterion': 'gini', 'my_BalancedRandomForestClassifier__n_estimators': 100, 'my_BalancedRandomForestClassifier__n_jobs': 5, 'my_BalancedRandomForestClassifier__random_state': 1337, 'my_BalancedRandomForestClassifier__replacement': False, 'my_BalancedRandomForestClassifier__sampling_strategy': 'not minority'}\n",
      "0.19176042719392733 {'my_BalancedRandomForestClassifier__criterion': 'gini', 'my_BalancedRandomForestClassifier__n_estimators': 100, 'my_BalancedRandomForestClassifier__n_jobs': 5, 'my_BalancedRandomForestClassifier__random_state': 1337, 'my_BalancedRandomForestClassifier__replacement': False, 'my_BalancedRandomForestClassifier__sampling_strategy': 'all'}\n",
      "0.7123792270531402 {'my_BalancedRandomForestClassifier__criterion': 'gini', 'my_BalancedRandomForestClassifier__n_estimators': 200, 'my_BalancedRandomForestClassifier__n_jobs': 5, 'my_BalancedRandomForestClassifier__random_state': 1337, 'my_BalancedRandomForestClassifier__replacement': True, 'my_BalancedRandomForestClassifier__sampling_strategy': 'not majority'}\n",
      "0.18944667556521883 {'my_BalancedRandomForestClassifier__criterion': 'gini', 'my_BalancedRandomForestClassifier__n_estimators': 200, 'my_BalancedRandomForestClassifier__n_jobs': 5, 'my_BalancedRandomForestClassifier__random_state': 1337, 'my_BalancedRandomForestClassifier__replacement': True, 'my_BalancedRandomForestClassifier__sampling_strategy': 'not minority'}\n",
      "0.23489513811348486 {'my_BalancedRandomForestClassifier__criterion': 'gini', 'my_BalancedRandomForestClassifier__n_estimators': 200, 'my_BalancedRandomForestClassifier__n_jobs': 5, 'my_BalancedRandomForestClassifier__random_state': 1337, 'my_BalancedRandomForestClassifier__replacement': True, 'my_BalancedRandomForestClassifier__sampling_strategy': 'all'}\n",
      "0.5303541530670072 {'my_BalancedRandomForestClassifier__criterion': 'gini', 'my_BalancedRandomForestClassifier__n_estimators': 200, 'my_BalancedRandomForestClassifier__n_jobs': 5, 'my_BalancedRandomForestClassifier__random_state': 1337, 'my_BalancedRandomForestClassifier__replacement': False, 'my_BalancedRandomForestClassifier__sampling_strategy': 'not majority'}\n",
      "0.19511767602775382 {'my_BalancedRandomForestClassifier__criterion': 'gini', 'my_BalancedRandomForestClassifier__n_estimators': 200, 'my_BalancedRandomForestClassifier__n_jobs': 5, 'my_BalancedRandomForestClassifier__random_state': 1337, 'my_BalancedRandomForestClassifier__replacement': False, 'my_BalancedRandomForestClassifier__sampling_strategy': 'not minority'}\n",
      "0.18943791191849935 {'my_BalancedRandomForestClassifier__criterion': 'gini', 'my_BalancedRandomForestClassifier__n_estimators': 200, 'my_BalancedRandomForestClassifier__n_jobs': 5, 'my_BalancedRandomForestClassifier__random_state': 1337, 'my_BalancedRandomForestClassifier__replacement': False, 'my_BalancedRandomForestClassifier__sampling_strategy': 'all'}\n",
      "0.6094639565227801 {'my_BalancedRandomForestClassifier__criterion': 'entropy', 'my_BalancedRandomForestClassifier__n_estimators': 10, 'my_BalancedRandomForestClassifier__n_jobs': 5, 'my_BalancedRandomForestClassifier__random_state': 1337, 'my_BalancedRandomForestClassifier__replacement': True, 'my_BalancedRandomForestClassifier__sampling_strategy': 'not majority'}\n",
      "0.17690743571943396 {'my_BalancedRandomForestClassifier__criterion': 'entropy', 'my_BalancedRandomForestClassifier__n_estimators': 10, 'my_BalancedRandomForestClassifier__n_jobs': 5, 'my_BalancedRandomForestClassifier__random_state': 1337, 'my_BalancedRandomForestClassifier__replacement': True, 'my_BalancedRandomForestClassifier__sampling_strategy': 'not minority'}\n",
      "0.19913999934995882 {'my_BalancedRandomForestClassifier__criterion': 'entropy', 'my_BalancedRandomForestClassifier__n_estimators': 10, 'my_BalancedRandomForestClassifier__n_jobs': 5, 'my_BalancedRandomForestClassifier__random_state': 1337, 'my_BalancedRandomForestClassifier__replacement': True, 'my_BalancedRandomForestClassifier__sampling_strategy': 'all'}\n",
      "0.4903225806451613 {'my_BalancedRandomForestClassifier__criterion': 'entropy', 'my_BalancedRandomForestClassifier__n_estimators': 10, 'my_BalancedRandomForestClassifier__n_jobs': 5, 'my_BalancedRandomForestClassifier__random_state': 1337, 'my_BalancedRandomForestClassifier__replacement': False, 'my_BalancedRandomForestClassifier__sampling_strategy': 'not majority'}\n",
      "0.1825117809681463 {'my_BalancedRandomForestClassifier__criterion': 'entropy', 'my_BalancedRandomForestClassifier__n_estimators': 10, 'my_BalancedRandomForestClassifier__n_jobs': 5, 'my_BalancedRandomForestClassifier__random_state': 1337, 'my_BalancedRandomForestClassifier__replacement': False, 'my_BalancedRandomForestClassifier__sampling_strategy': 'not minority'}\n",
      "0.17801550663303423 {'my_BalancedRandomForestClassifier__criterion': 'entropy', 'my_BalancedRandomForestClassifier__n_estimators': 10, 'my_BalancedRandomForestClassifier__n_jobs': 5, 'my_BalancedRandomForestClassifier__random_state': 1337, 'my_BalancedRandomForestClassifier__replacement': False, 'my_BalancedRandomForestClassifier__sampling_strategy': 'all'}\n",
      "0.5832046214654911 {'my_BalancedRandomForestClassifier__criterion': 'entropy', 'my_BalancedRandomForestClassifier__n_estimators': 20, 'my_BalancedRandomForestClassifier__n_jobs': 5, 'my_BalancedRandomForestClassifier__random_state': 1337, 'my_BalancedRandomForestClassifier__replacement': True, 'my_BalancedRandomForestClassifier__sampling_strategy': 'not majority'}\n",
      "0.18333753663185326 {'my_BalancedRandomForestClassifier__criterion': 'entropy', 'my_BalancedRandomForestClassifier__n_estimators': 20, 'my_BalancedRandomForestClassifier__n_jobs': 5, 'my_BalancedRandomForestClassifier__random_state': 1337, 'my_BalancedRandomForestClassifier__replacement': True, 'my_BalancedRandomForestClassifier__sampling_strategy': 'not minority'}\n",
      "0.2186078464011282 {'my_BalancedRandomForestClassifier__criterion': 'entropy', 'my_BalancedRandomForestClassifier__n_estimators': 20, 'my_BalancedRandomForestClassifier__n_jobs': 5, 'my_BalancedRandomForestClassifier__random_state': 1337, 'my_BalancedRandomForestClassifier__replacement': True, 'my_BalancedRandomForestClassifier__sampling_strategy': 'all'}\n",
      "0.4859808937570348 {'my_BalancedRandomForestClassifier__criterion': 'entropy', 'my_BalancedRandomForestClassifier__n_estimators': 20, 'my_BalancedRandomForestClassifier__n_jobs': 5, 'my_BalancedRandomForestClassifier__random_state': 1337, 'my_BalancedRandomForestClassifier__replacement': False, 'my_BalancedRandomForestClassifier__sampling_strategy': 'not majority'}\n",
      "0.18932617590071935 {'my_BalancedRandomForestClassifier__criterion': 'entropy', 'my_BalancedRandomForestClassifier__n_estimators': 20, 'my_BalancedRandomForestClassifier__n_jobs': 5, 'my_BalancedRandomForestClassifier__random_state': 1337, 'my_BalancedRandomForestClassifier__replacement': False, 'my_BalancedRandomForestClassifier__sampling_strategy': 'not minority'}\n",
      "0.1781745374504557 {'my_BalancedRandomForestClassifier__criterion': 'entropy', 'my_BalancedRandomForestClassifier__n_estimators': 20, 'my_BalancedRandomForestClassifier__n_jobs': 5, 'my_BalancedRandomForestClassifier__random_state': 1337, 'my_BalancedRandomForestClassifier__replacement': False, 'my_BalancedRandomForestClassifier__sampling_strategy': 'all'}\n",
      "0.6682318919470622 {'my_BalancedRandomForestClassifier__criterion': 'entropy', 'my_BalancedRandomForestClassifier__n_estimators': 40, 'my_BalancedRandomForestClassifier__n_jobs': 5, 'my_BalancedRandomForestClassifier__random_state': 1337, 'my_BalancedRandomForestClassifier__replacement': True, 'my_BalancedRandomForestClassifier__sampling_strategy': 'not majority'}\n",
      "0.1872643774114728 {'my_BalancedRandomForestClassifier__criterion': 'entropy', 'my_BalancedRandomForestClassifier__n_estimators': 40, 'my_BalancedRandomForestClassifier__n_jobs': 5, 'my_BalancedRandomForestClassifier__random_state': 1337, 'my_BalancedRandomForestClassifier__replacement': True, 'my_BalancedRandomForestClassifier__sampling_strategy': 'not minority'}\n",
      "0.22134373117928793 {'my_BalancedRandomForestClassifier__criterion': 'entropy', 'my_BalancedRandomForestClassifier__n_estimators': 40, 'my_BalancedRandomForestClassifier__n_jobs': 5, 'my_BalancedRandomForestClassifier__random_state': 1337, 'my_BalancedRandomForestClassifier__replacement': True, 'my_BalancedRandomForestClassifier__sampling_strategy': 'all'}\n",
      "0.5134352825694082 {'my_BalancedRandomForestClassifier__criterion': 'entropy', 'my_BalancedRandomForestClassifier__n_estimators': 40, 'my_BalancedRandomForestClassifier__n_jobs': 5, 'my_BalancedRandomForestClassifier__random_state': 1337, 'my_BalancedRandomForestClassifier__replacement': False, 'my_BalancedRandomForestClassifier__sampling_strategy': 'not majority'}\n",
      "0.19103641761392 {'my_BalancedRandomForestClassifier__criterion': 'entropy', 'my_BalancedRandomForestClassifier__n_estimators': 40, 'my_BalancedRandomForestClassifier__n_jobs': 5, 'my_BalancedRandomForestClassifier__random_state': 1337, 'my_BalancedRandomForestClassifier__replacement': False, 'my_BalancedRandomForestClassifier__sampling_strategy': 'not minority'}\n",
      "0.18878261976820424 {'my_BalancedRandomForestClassifier__criterion': 'entropy', 'my_BalancedRandomForestClassifier__n_estimators': 40, 'my_BalancedRandomForestClassifier__n_jobs': 5, 'my_BalancedRandomForestClassifier__random_state': 1337, 'my_BalancedRandomForestClassifier__replacement': False, 'my_BalancedRandomForestClassifier__sampling_strategy': 'all'}\n",
      "0.7075867269984917 {'my_BalancedRandomForestClassifier__criterion': 'entropy', 'my_BalancedRandomForestClassifier__n_estimators': 100, 'my_BalancedRandomForestClassifier__n_jobs': 5, 'my_BalancedRandomForestClassifier__random_state': 1337, 'my_BalancedRandomForestClassifier__replacement': True, 'my_BalancedRandomForestClassifier__sampling_strategy': 'not majority'}\n",
      "0.18834385703609685 {'my_BalancedRandomForestClassifier__criterion': 'entropy', 'my_BalancedRandomForestClassifier__n_estimators': 100, 'my_BalancedRandomForestClassifier__n_jobs': 5, 'my_BalancedRandomForestClassifier__random_state': 1337, 'my_BalancedRandomForestClassifier__replacement': True, 'my_BalancedRandomForestClassifier__sampling_strategy': 'not minority'}\n",
      "0.23137977208534366 {'my_BalancedRandomForestClassifier__criterion': 'entropy', 'my_BalancedRandomForestClassifier__n_estimators': 100, 'my_BalancedRandomForestClassifier__n_jobs': 5, 'my_BalancedRandomForestClassifier__random_state': 1337, 'my_BalancedRandomForestClassifier__replacement': True, 'my_BalancedRandomForestClassifier__sampling_strategy': 'all'}\n",
      "0.515161421911422 {'my_BalancedRandomForestClassifier__criterion': 'entropy', 'my_BalancedRandomForestClassifier__n_estimators': 100, 'my_BalancedRandomForestClassifier__n_jobs': 5, 'my_BalancedRandomForestClassifier__random_state': 1337, 'my_BalancedRandomForestClassifier__replacement': False, 'my_BalancedRandomForestClassifier__sampling_strategy': 'not majority'}\n",
      "0.1949011488583609 {'my_BalancedRandomForestClassifier__criterion': 'entropy', 'my_BalancedRandomForestClassifier__n_estimators': 100, 'my_BalancedRandomForestClassifier__n_jobs': 5, 'my_BalancedRandomForestClassifier__random_state': 1337, 'my_BalancedRandomForestClassifier__replacement': False, 'my_BalancedRandomForestClassifier__sampling_strategy': 'not minority'}\n",
      "0.188829420672834 {'my_BalancedRandomForestClassifier__criterion': 'entropy', 'my_BalancedRandomForestClassifier__n_estimators': 100, 'my_BalancedRandomForestClassifier__n_jobs': 5, 'my_BalancedRandomForestClassifier__random_state': 1337, 'my_BalancedRandomForestClassifier__replacement': False, 'my_BalancedRandomForestClassifier__sampling_strategy': 'all'}\n",
      "0.6995603089720737 {'my_BalancedRandomForestClassifier__criterion': 'entropy', 'my_BalancedRandomForestClassifier__n_estimators': 200, 'my_BalancedRandomForestClassifier__n_jobs': 5, 'my_BalancedRandomForestClassifier__random_state': 1337, 'my_BalancedRandomForestClassifier__replacement': True, 'my_BalancedRandomForestClassifier__sampling_strategy': 'not majority'}\n",
      "0.18770278632536677 {'my_BalancedRandomForestClassifier__criterion': 'entropy', 'my_BalancedRandomForestClassifier__n_estimators': 200, 'my_BalancedRandomForestClassifier__n_jobs': 5, 'my_BalancedRandomForestClassifier__random_state': 1337, 'my_BalancedRandomForestClassifier__replacement': True, 'my_BalancedRandomForestClassifier__sampling_strategy': 'not minority'}\n",
      "0.2320756053800348 {'my_BalancedRandomForestClassifier__criterion': 'entropy', 'my_BalancedRandomForestClassifier__n_estimators': 200, 'my_BalancedRandomForestClassifier__n_jobs': 5, 'my_BalancedRandomForestClassifier__random_state': 1337, 'my_BalancedRandomForestClassifier__replacement': True, 'my_BalancedRandomForestClassifier__sampling_strategy': 'all'}\n",
      "0.5201981588391325 {'my_BalancedRandomForestClassifier__criterion': 'entropy', 'my_BalancedRandomForestClassifier__n_estimators': 200, 'my_BalancedRandomForestClassifier__n_jobs': 5, 'my_BalancedRandomForestClassifier__random_state': 1337, 'my_BalancedRandomForestClassifier__replacement': False, 'my_BalancedRandomForestClassifier__sampling_strategy': 'not majority'}\n",
      "0.1909742553372457 {'my_BalancedRandomForestClassifier__criterion': 'entropy', 'my_BalancedRandomForestClassifier__n_estimators': 200, 'my_BalancedRandomForestClassifier__n_jobs': 5, 'my_BalancedRandomForestClassifier__random_state': 1337, 'my_BalancedRandomForestClassifier__replacement': False, 'my_BalancedRandomForestClassifier__sampling_strategy': 'not minority'}\n",
      "0.18933281483949002 {'my_BalancedRandomForestClassifier__criterion': 'entropy', 'my_BalancedRandomForestClassifier__n_estimators': 200, 'my_BalancedRandomForestClassifier__n_jobs': 5, 'my_BalancedRandomForestClassifier__random_state': 1337, 'my_BalancedRandomForestClassifier__replacement': False, 'my_BalancedRandomForestClassifier__sampling_strategy': 'all'}\n"
     ]
    }
   ],
   "source": [
    "my_BalancedRandomForestClassifier_Gridsearch=GridSearchCV(\n",
    "    my_BalancedRandomForestClassifier_Pipeline,\n",
    "    my_BalancedRandomForestClassifier_parameters,\n",
    "    cv=5,\n",
    "    scoring='precision',\n",
    "    return_train_score=True\n",
    ")\n",
    "\n",
    "my_BalancedRandomForestClassifier_Gridsearch.fit(X_train,y_train)\n",
    "\n",
    "my_BalancedRandomForestClassifier_Gridsearch_results=my_BalancedRandomForestClassifier_Gridsearch.cv_results_\n",
    "for mean_score, params in zip(my_BalancedRandomForestClassifier_Gridsearch_results[\"mean_test_score\"],my_BalancedRandomForestClassifier_Gridsearch_results[\"params\"]):\n",
    "    #print(np.sqrt(-mean_score), params)\n",
    "    print(mean_score,params)\n",
    "    \n",
    "winner_BalancedRandomForestClassifier=my_BalancedRandomForestClassifier_Gridsearch.best_estimator_"
   ]
  },
  {
   "cell_type": "code",
   "execution_count": 21,
   "id": "31d18a26",
   "metadata": {},
   "outputs": [
    {
     "data": {
      "text/plain": [
       "<AxesSubplot:>"
      ]
     },
     "execution_count": 21,
     "metadata": {},
     "output_type": "execute_result"
    },
    {
     "data": {
      "image/png": "[encoded data removed]",
      "text/plain": [
       "<Figure size 432x288 with 2 Axes>"
      ]
     },
     "metadata": {
      "needs_background": "light"
     },
     "output_type": "display_data"
    }
   ],
   "source": [
    "y_Balancedpredict=winner_BalancedRandomForestClassifier.predict(X_test)\n",
    "my_Balancedconfusion=confusion_matrix(y_test,y_Balancedpredict)\n",
    "import seaborn as sns\n",
    "sns.heatmap(my_Balancedconfusion/np.sum(my_Balancedconfusion), annot=True, \n",
    "            fmt='.2%', cmap='Blues')"
   ]
  },
  {
   "cell_type": "code",
   "execution_count": 22,
   "id": "b4a9321c",
   "metadata": {},
   "outputs": [
    {
     "data": {
      "text/plain": [
       "{'my_BalancedRandomForestClassifier__criterion': 'gini',\n",
       " 'my_BalancedRandomForestClassifier__n_estimators': 200,\n",
       " 'my_BalancedRandomForestClassifier__n_jobs': 5,\n",
       " 'my_BalancedRandomForestClassifier__random_state': 1337,\n",
       " 'my_BalancedRandomForestClassifier__replacement': True,\n",
       " 'my_BalancedRandomForestClassifier__sampling_strategy': 'not majority'}"
      ]
     },
     "execution_count": 22,
     "metadata": {},
     "output_type": "execute_result"
    }
   ],
   "source": [
    "my_BalancedRandomForestClassifier_Gridsearch.best_params_"
   ]
  },
  {
   "cell_type": "code",
   "execution_count": null,
   "id": "eb637434",
   "metadata": {},
   "outputs": [],
   "source": []
  },
  {
   "cell_type": "code",
   "execution_count": 23,
   "id": "2dd629fc",
   "metadata": {},
   "outputs": [
    {
     "data": {
      "text/plain": [
       "0.7123792270531402"
      ]
     },
     "execution_count": 23,
     "metadata": {},
     "output_type": "execute_result"
    }
   ],
   "source": [
    "my_BalancedRandomForestClassifier_Gridsearch.best_score_"
   ]
  },
  {
   "cell_type": "code",
   "execution_count": 24,
   "id": "f4a577b4",
   "metadata": {},
   "outputs": [
    {
     "data": {
      "image/png": "[encoded data removed]",
      "text/plain": [
       "<Figure size 432x288 with 1 Axes>"
      ]
     },
     "metadata": {
      "needs_background": "light"
     },
     "output_type": "display_data"
    }
   ],
   "source": [
    "forest=winner_BalancedRandomForestClassifier['my_BalancedRandomForestClassifier']\n",
    "importances = forest.feature_importances_\n",
    "#feature_names = [f\"feature {i}\" for i in range(X.shape[1])]\n",
    "feature_names = [i for i in range(X.shape[1])]\n",
    "forest_importances = pd.Series(importances, index=feature_names)\n",
    "forest_importances.sort_values(ascending=False,inplace=True)\n",
    "plt.hist(forest_importances,bins=100)\n",
    "plt.show()"
   ]
  },
  {
   "cell_type": "code",
   "execution_count": 25,
   "id": "579e0e1e",
   "metadata": {},
   "outputs": [],
   "source": [
    "forest_importances=forest_importances.iloc[0:50]\n",
    "feature_names=forest_importances.index.to_list()\n",
    "std = np.std([tree.feature_importances_ for tree in forest.estimators_], axis=0)\n",
    "std=std[forest_importances.index]"
   ]
  },
  {
   "cell_type": "code",
   "execution_count": 26,
   "id": "386c18d0",
   "metadata": {},
   "outputs": [
    {
     "data": {
      "image/png": "[encoded data removed]",
      "text/plain": [
       "<Figure size 720x720 with 1 Axes>"
      ]
     },
     "metadata": {
      "needs_background": "light"
     },
     "output_type": "display_data"
    }
   ],
   "source": [
    "fig, ax = plt.subplots(figsize=(10,10))\n",
    "forest_importances.plot.bar(yerr=std, ax=ax)\n",
    "ax.set_title(\"Feature importances using MDI\")\n",
    "ax.set_ylabel(\"Mean decrease in impurity\")\n",
    "fig.tight_layout()"
   ]
  },
  {
   "cell_type": "code",
   "execution_count": 27,
   "id": "d7279025",
   "metadata": {},
   "outputs": [
    {
     "data": {
      "text/plain": [
       "Int64Index([374,   2, 696, 697, 185, 186, 287, 643,  19, 364, 391, 257, 392,\n",
       "             23, 181, 712,  12, 528, 143, 540, 656,  15, 338, 452, 340,   1,\n",
       "            593,  20, 645, 611, 335, 692, 346, 451, 345, 406, 672, 569, 308,\n",
       "            180,   3, 440, 299, 717, 366, 628, 535, 439, 671, 617],\n",
       "           dtype='int64')"
      ]
     },
     "execution_count": 27,
     "metadata": {},
     "output_type": "execute_result"
    }
   ],
   "source": [
    "forest_importances.index"
   ]
  },
  {
   "cell_type": "code",
   "execution_count": null,
   "id": "586404f9",
   "metadata": {},
   "outputs": [],
   "source": []
  },
  {
   "cell_type": "code",
   "execution_count": null,
   "id": "2370ce1f",
   "metadata": {},
   "outputs": [],
   "source": []
  },
  {
   "cell_type": "code",
   "execution_count": null,
   "id": "81faef54",
   "metadata": {},
   "outputs": [],
   "source": []
  },
  {
   "cell_type": "code",
   "execution_count": null,
   "id": "14a50c51",
   "metadata": {},
   "outputs": [],
   "source": []
  },
  {
   "cell_type": "code",
   "execution_count": null,
   "id": "038537de",
   "metadata": {},
   "outputs": [],
   "source": []
  },
  {
   "cell_type": "code",
   "execution_count": null,
   "id": "7e322090",
   "metadata": {},
   "outputs": [],
   "source": []
  },
  {
   "cell_type": "code",
   "execution_count": null,
   "id": "388855fe",
   "metadata": {},
   "outputs": [],
   "source": []
  },
  {
   "cell_type": "code",
   "execution_count": null,
   "id": "33ee4de5",
   "metadata": {},
   "outputs": [],
   "source": []
  },
  {
   "cell_type": "code",
   "execution_count": 28,
   "id": "115151a2",
   "metadata": {},
   "outputs": [
    {
     "data": {
      "text/plain": [
       "<AxesSubplot:>"
      ]
     },
     "execution_count": 28,
     "metadata": {},
     "output_type": "execute_result"
    },
    {
     "data": {
      "image/png": "[encoded data removed]",
      "text/plain": [
       "<Figure size 432x288 with 2 Axes>"
      ]
     },
     "metadata": {
      "needs_background": "light"
     },
     "output_type": "display_data"
    }
   ],
   "source": [
    "y_Balancedpredict=winner_BalancedRandomForestClassifier.predict(X_test)\n",
    "my_Balancedconfusion=confusion_matrix(y_test,y_Balancedpredict)\n",
    "import seaborn as sns\n",
    "sns.heatmap(my_Balancedconfusion/np.sum(my_Balancedconfusion), annot=True, \n",
    "            fmt='.2%', cmap='Blues')"
   ]
  },
  {
   "cell_type": "code",
   "execution_count": 29,
   "id": "589f4ad1",
   "metadata": {},
   "outputs": [
    {
     "data": {
      "image/png": "[encoded data removed]",
      "text/plain": [
       "<Figure size 432x288 with 1 Axes>"
      ]
     },
     "metadata": {
      "needs_background": "light"
     },
     "output_type": "display_data"
    }
   ],
   "source": [
    "forest=winner_BalancedRandomForestClassifier['my_BalancedRandomForestClassifier']\n",
    "importances = forest.feature_importances_\n",
    "#feature_names = [f\"feature {i}\" for i in range(X.shape[1])]\n",
    "feature_names = [i for i in range(X.shape[1])]\n",
    "forest_importances = pd.Series(importances, index=feature_names)\n",
    "forest_importances.sort_values(ascending=False,inplace=True)\n",
    "plt.hist(forest_importances,bins=100)\n",
    "plt.show()"
   ]
  },
  {
   "cell_type": "code",
   "execution_count": 30,
   "id": "c6feb518",
   "metadata": {},
   "outputs": [],
   "source": [
    "forest_importances=forest_importances.iloc[0:50]\n",
    "feature_names=forest_importances.index.to_list()\n",
    "std = np.std([tree.feature_importances_ for tree in forest.estimators_], axis=0)\n",
    "std=std[forest_importances.index]"
   ]
  },
  {
   "cell_type": "code",
   "execution_count": 31,
   "id": "44ae1382",
   "metadata": {},
   "outputs": [
    {
     "data": {
      "image/png": "[encoded data removed]",
      "text/plain": [
       "<Figure size 720x720 with 1 Axes>"
      ]
     },
     "metadata": {
      "needs_background": "light"
     },
     "output_type": "display_data"
    }
   ],
   "source": [
    "fig, ax = plt.subplots(figsize=(10,10))\n",
    "forest_importances.plot.bar(yerr=std, ax=ax)\n",
    "ax.set_title(\"Feature importances using MDI\")\n",
    "ax.set_ylabel(\"Mean decrease in impurity\")\n",
    "fig.tight_layout()"
   ]
  },
  {
   "cell_type": "code",
   "execution_count": 32,
   "id": "e3112d37",
   "metadata": {},
   "outputs": [
    {
     "data": {
      "text/plain": [
       "Int64Index([374,   2, 696, 697, 185, 186, 287, 643,  19, 364, 391, 257, 392,\n",
       "             23, 181, 712,  12, 528, 143, 540, 656,  15, 338, 452, 340,   1,\n",
       "            593,  20, 645, 611, 335, 692, 346, 451, 345, 406, 672, 569, 308,\n",
       "            180,   3, 440, 299, 717, 366, 628, 535, 439, 671, 617],\n",
       "           dtype='int64')"
      ]
     },
     "execution_count": 32,
     "metadata": {},
     "output_type": "execute_result"
    }
   ],
   "source": [
    "forest_importances.index"
   ]
  },
  {
   "cell_type": "code",
   "execution_count": null,
   "id": "fe303d60",
   "metadata": {},
   "outputs": [],
   "source": []
  },
  {
   "cell_type": "code",
   "execution_count": null,
   "id": "badb0338",
   "metadata": {},
   "outputs": [],
   "source": []
  },
  {
   "cell_type": "code",
   "execution_count": null,
   "id": "6b4d95a1",
   "metadata": {},
   "outputs": [],
   "source": []
  },
  {
   "cell_type": "code",
   "execution_count": null,
   "id": "366d45a0",
   "metadata": {},
   "outputs": [],
   "source": []
  },
  {
   "cell_type": "code",
   "execution_count": null,
   "id": "b31b436a",
   "metadata": {},
   "outputs": [],
   "source": []
  },
  {
   "cell_type": "code",
   "execution_count": null,
   "id": "9b8b9941",
   "metadata": {},
   "outputs": [],
   "source": []
  },
  {
   "cell_type": "code",
   "execution_count": 33,
   "id": "b968f219",
   "metadata": {},
   "outputs": [],
   "source": [
    "### BEGIN MONA TEST ###"
   ]
  },
  {
   "cell_type": "code",
   "execution_count": 34,
   "id": "96cc444d",
   "metadata": {},
   "outputs": [],
   "source": [
    "mona_input_address='/home/rictuar/coding_projects/fiehn_work/cfmid/cfmid_redo/results/compound_exploration/mona/[M+H]+_mona_cohort_fingerprints.bin'"
   ]
  },
  {
   "cell_type": "code",
   "execution_count": 35,
   "id": "3cc9a566",
   "metadata": {},
   "outputs": [],
   "source": [
    "mona_dataset=pd.read_pickle(mona_input_address)"
   ]
  },
  {
   "cell_type": "code",
   "execution_count": 36,
   "id": "11cc8480",
   "metadata": {},
   "outputs": [],
   "source": [
    "mona_X=np.array(mona_dataset.fingerprint_array.to_list())\n",
    "mona_y=np.array(mona_dataset.dot_product.to_list())\n",
    "mona_y=1-mona_y"
   ]
  },
  {
   "cell_type": "code",
   "execution_count": 37,
   "id": "7224cb25",
   "metadata": {},
   "outputs": [],
   "source": [
    "#include this cell if you want to subset such that\n",
    "#you only include those lines where the \n",
    "#collision energy is 35 or 45 \n",
    "#and the predicted is close to 40\n",
    "mona_dataset=mona_dataset.loc[\n",
    "    (\n",
    "        (mona_dataset['collision_energy_exp']==35) |\n",
    "        (mona_dataset['collision_energy_exp']==45)\n",
    "    ) &\n",
    "    (\n",
    "        (mona_dataset['predicted_optimal_nce'] > 30) &\n",
    "        (mona_dataset['predicted_optimal_nce'] < 50) \n",
    "    )\n",
    "]"
   ]
  },
  {
   "cell_type": "code",
   "execution_count": 38,
   "id": "63006024",
   "metadata": {},
   "outputs": [
    {
     "data": {
      "image/png": "[encoded data removed]",
      "text/plain": [
       "<Figure size 432x288 with 1 Axes>"
      ]
     },
     "metadata": {
      "needs_background": "light"
     },
     "output_type": "display_data"
    }
   ],
   "source": [
    "plt.hist(mona_y)\n",
    "plt.show()"
   ]
  },
  {
   "cell_type": "code",
   "execution_count": 39,
   "id": "f0d23107",
   "metadata": {},
   "outputs": [],
   "source": [
    "mona_y[mona_y>=0.7]=1\n",
    "mona_y[mona_y<0.7]=0\n"
   ]
  },
  {
   "cell_type": "code",
   "execution_count": 40,
   "id": "f4034454",
   "metadata": {},
   "outputs": [
    {
     "data": {
      "image/png": "[encoded data removed]",
      "text/plain": [
       "<Figure size 432x288 with 1 Axes>"
      ]
     },
     "metadata": {
      "needs_background": "light"
     },
     "output_type": "display_data"
    }
   ],
   "source": [
    "plt.hist(mona_y)\n",
    "plt.show()"
   ]
  },
  {
   "cell_type": "code",
   "execution_count": 41,
   "id": "a0c9105e",
   "metadata": {},
   "outputs": [
    {
     "data": {
      "text/plain": [
       "0.0    581\n",
       "1.0     11\n",
       "dtype: int64"
      ]
     },
     "execution_count": 41,
     "metadata": {},
     "output_type": "execute_result"
    }
   ],
   "source": [
    "pd.value_counts(mona_y)"
   ]
  },
  {
   "cell_type": "code",
   "execution_count": 42,
   "id": "cfac1ad3",
   "metadata": {},
   "outputs": [
    {
     "data": {
      "text/plain": [
       "<AxesSubplot:>"
      ]
     },
     "execution_count": 42,
     "metadata": {},
     "output_type": "execute_result"
    },
    {
     "data": {
      "image/png": "[encoded data removed]",
      "text/plain": [
       "<Figure size 432x288 with 2 Axes>"
      ]
     },
     "metadata": {
      "needs_background": "light"
     },
     "output_type": "display_data"
    }
   ],
   "source": [
    "mona_y_Balancedpredict=winner_BalancedRandomForestClassifier.predict(mona_X)\n",
    "mona_my_Balancedconfusion=confusion_matrix(mona_y,mona_y_Balancedpredict)\n",
    "sns.heatmap(mona_my_Balancedconfusion/np.sum(mona_my_Balancedconfusion), annot=True, \n",
    "            fmt='.2%', cmap='Blues')"
   ]
  },
  {
   "cell_type": "code",
   "execution_count": null,
   "id": "451bd49a",
   "metadata": {},
   "outputs": [],
   "source": []
  },
  {
   "cell_type": "code",
   "execution_count": null,
   "id": "f7c4693d",
   "metadata": {},
   "outputs": [],
   "source": []
  },
  {
   "cell_type": "code",
   "execution_count": 43,
   "id": "462c19fc",
   "metadata": {},
   "outputs": [],
   "source": [
    "mona_dataset=pd.read_pickle(mona_input_address)"
   ]
  },
  {
   "cell_type": "code",
   "execution_count": 44,
   "id": "dd987e79",
   "metadata": {},
   "outputs": [],
   "source": [
    "#include this cell if you want to subset such that\n",
    "#you only include those lines where the \n",
    "#collision energy is 35 or 45 \n",
    "#and the predicted is close to 40\n",
    "mona_dataset=mona_dataset.loc[\n",
    "    (\n",
    "        (mona_dataset['collision_energy_exp'].astype(int)==35) |\n",
    "        (mona_dataset['collision_energy_exp'].astype(int)==45)\n",
    "    ) &\n",
    "    (\n",
    "        (mona_dataset['predicted_optimal_nce'].astype(int) > 25) &\n",
    "        (mona_dataset['predicted_optimal_nce'].astype(int) < 55) \n",
    "    )\n",
    "]"
   ]
  },
  {
   "cell_type": "code",
   "execution_count": 45,
   "id": "cb7119fa",
   "metadata": {},
   "outputs": [
    {
     "data": {
      "text/html": [
       "<div>\n",
       "<style scoped>\n",
       "    .dataframe tbody tr th:only-of-type {\n",
       "        vertical-align: middle;\n",
       "    }\n",
       "\n",
       "    .dataframe tbody tr th {\n",
       "        vertical-align: top;\n",
       "    }\n",
       "\n",
       "    .dataframe thead th {\n",
       "        text-align: right;\n",
       "    }\n",
       "</style>\n",
       "<table border=\"1\" class=\"dataframe\">\n",
       "  <thead>\n",
       "    <tr style=\"text-align: right;\">\n",
       "      <th></th>\n",
       "      <th>InChIKey</th>\n",
       "      <th>inchikey</th>\n",
       "      <th>dot_product</th>\n",
       "      <th>collision_energy_exp</th>\n",
       "      <th>predicted_optimal_nce</th>\n",
       "      <th>fingerprint_array</th>\n",
       "      <th>cactvs_fingerprint</th>\n",
       "    </tr>\n",
       "  </thead>\n",
       "  <tbody>\n",
       "    <tr>\n",
       "      <th>0</th>\n",
       "      <td>VJVGTGQETNCOEX-UHFFFAOYSA-N</td>\n",
       "      <td>VJVGTGQETNCOEX-LQDZTQBFSA-N</td>\n",
       "      <td>0.887818</td>\n",
       "      <td>45</td>\n",
       "      <td>50.582926</td>\n",
       "      <td>[1, 1, 1, 0, 0, 0, 0, 0, 0, 1, 1, 1, 1, 0, 0, ...</td>\n",
       "      <td>1110000001111000001111000000000000000000000000...</td>\n",
       "    </tr>\n",
       "    <tr>\n",
       "      <th>2</th>\n",
       "      <td>MSIMWLAIWYFFLY-UHFFFAOYSA-N</td>\n",
       "      <td>MSIMWLAIWYFFLY-UHFFFAOYSA-N</td>\n",
       "      <td>1.000000</td>\n",
       "      <td>45</td>\n",
       "      <td>41.317807</td>\n",
       "      <td>[1, 1, 1, 1, 0, 0, 0, 0, 0, 1, 1, 1, 1, 0, 1, ...</td>\n",
       "      <td>1111000001111011101110000000000000000000000000...</td>\n",
       "    </tr>\n",
       "    <tr>\n",
       "      <th>4</th>\n",
       "      <td>YKRGDOXKVOZESV-UHFFFAOYSA-N</td>\n",
       "      <td>YKRGDOXKVOZESV-RMNZJSDUSA-N</td>\n",
       "      <td>0.794665</td>\n",
       "      <td>45</td>\n",
       "      <td>43.643579</td>\n",
       "      <td>[1, 1, 1, 0, 0, 0, 0, 0, 0, 1, 1, 1, 1, 0, 0, ...</td>\n",
       "      <td>1110000001111000001111000000000000000000000000...</td>\n",
       "    </tr>\n",
       "    <tr>\n",
       "      <th>11</th>\n",
       "      <td>LCTHKUJMKQOYDY-UHFFFAOYSA-N</td>\n",
       "      <td>LCTHKUJMKQOYDY-ZYIGBFDLSA-N</td>\n",
       "      <td>0.928132</td>\n",
       "      <td>35</td>\n",
       "      <td>39.676572</td>\n",
       "      <td>[1, 1, 1, 1, 0, 0, 0, 0, 0, 1, 1, 1, 1, 0, 0, ...</td>\n",
       "      <td>1111000001111000001111000000000000000000000000...</td>\n",
       "    </tr>\n",
       "    <tr>\n",
       "      <th>12</th>\n",
       "      <td>GLACGTLACKLUJX-UHFFFAOYSA-N</td>\n",
       "      <td>GLACGTLACKLUJX-QNAXTHAFSA-N</td>\n",
       "      <td>0.785210</td>\n",
       "      <td>45</td>\n",
       "      <td>44.952981</td>\n",
       "      <td>[1, 1, 1, 0, 0, 0, 0, 0, 0, 1, 1, 1, 1, 0, 0, ...</td>\n",
       "      <td>1110000001111000001111000000000000000000000000...</td>\n",
       "    </tr>\n",
       "    <tr>\n",
       "      <th>...</th>\n",
       "      <td>...</td>\n",
       "      <td>...</td>\n",
       "      <td>...</td>\n",
       "      <td>...</td>\n",
       "      <td>...</td>\n",
       "      <td>...</td>\n",
       "      <td>...</td>\n",
       "    </tr>\n",
       "    <tr>\n",
       "      <th>588</th>\n",
       "      <td>ZEJXENDZTYVXDP-UHFFFAOYSA-N</td>\n",
       "      <td>ZEJXENDZTYVXDP-CSJHBIPPSA-N</td>\n",
       "      <td>0.986415</td>\n",
       "      <td>35</td>\n",
       "      <td>35.284291</td>\n",
       "      <td>[1, 1, 1, 0, 0, 0, 0, 0, 0, 1, 1, 1, 1, 0, 0, ...</td>\n",
       "      <td>1110000001111000001111000000000000000000000000...</td>\n",
       "    </tr>\n",
       "    <tr>\n",
       "      <th>589</th>\n",
       "      <td>YAEGHQJYDLCTMR-UHFFFAOYSA-N</td>\n",
       "      <td>YAEGHQJYDLCTMR-DCIPZJNNSA-N</td>\n",
       "      <td>0.862621</td>\n",
       "      <td>45</td>\n",
       "      <td>48.249493</td>\n",
       "      <td>[1, 1, 1, 1, 0, 0, 0, 0, 0, 1, 1, 1, 1, 0, 0, ...</td>\n",
       "      <td>1111000001111000001110000000000000000000000000...</td>\n",
       "    </tr>\n",
       "    <tr>\n",
       "      <th>595</th>\n",
       "      <td>PMISPNORJONCHB-UHFFFAOYSA-N</td>\n",
       "      <td>PMISPNORJONCHB-DKBZVKCESA-N</td>\n",
       "      <td>0.804266</td>\n",
       "      <td>45</td>\n",
       "      <td>47.812954</td>\n",
       "      <td>[1, 1, 1, 0, 0, 0, 0, 0, 0, 1, 1, 1, 1, 0, 0, ...</td>\n",
       "      <td>1110000001111000001110000000000000000000000000...</td>\n",
       "    </tr>\n",
       "    <tr>\n",
       "      <th>599</th>\n",
       "      <td>JJSVXWKQLGHFES-UHFFFAOYSA-N</td>\n",
       "      <td>JJSVXWKQLGHFES-QGZYWIHFSA-N</td>\n",
       "      <td>1.000000</td>\n",
       "      <td>35</td>\n",
       "      <td>31.563912</td>\n",
       "      <td>[1, 1, 1, 1, 0, 0, 0, 0, 0, 1, 1, 1, 1, 1, 0, ...</td>\n",
       "      <td>1111000001111100001111000000000000000000000000...</td>\n",
       "    </tr>\n",
       "    <tr>\n",
       "      <th>601</th>\n",
       "      <td>SXTGVXKFOVZYIK-UHFFFAOYSA-N</td>\n",
       "      <td>SXTGVXKFOVZYIK-UHFFFAOYSA-N</td>\n",
       "      <td>1.000000</td>\n",
       "      <td>35</td>\n",
       "      <td>35.754424</td>\n",
       "      <td>[1, 1, 1, 1, 0, 0, 0, 0, 0, 1, 1, 1, 1, 0, 1, ...</td>\n",
       "      <td>1111000001111011101111000000000000000000000000...</td>\n",
       "    </tr>\n",
       "  </tbody>\n",
       "</table>\n",
       "<p>226 rows × 7 columns</p>\n",
       "</div>"
      ],
      "text/plain": [
       "                        InChIKey                     inchikey  dot_product  \\\n",
       "0    VJVGTGQETNCOEX-UHFFFAOYSA-N  VJVGTGQETNCOEX-LQDZTQBFSA-N     0.887818   \n",
       "2    MSIMWLAIWYFFLY-UHFFFAOYSA-N  MSIMWLAIWYFFLY-UHFFFAOYSA-N     1.000000   \n",
       "4    YKRGDOXKVOZESV-UHFFFAOYSA-N  YKRGDOXKVOZESV-RMNZJSDUSA-N     0.794665   \n",
       "11   LCTHKUJMKQOYDY-UHFFFAOYSA-N  LCTHKUJMKQOYDY-ZYIGBFDLSA-N     0.928132   \n",
       "12   GLACGTLACKLUJX-UHFFFAOYSA-N  GLACGTLACKLUJX-QNAXTHAFSA-N     0.785210   \n",
       "..                           ...                          ...          ...   \n",
       "588  ZEJXENDZTYVXDP-UHFFFAOYSA-N  ZEJXENDZTYVXDP-CSJHBIPPSA-N     0.986415   \n",
       "589  YAEGHQJYDLCTMR-UHFFFAOYSA-N  YAEGHQJYDLCTMR-DCIPZJNNSA-N     0.862621   \n",
       "595  PMISPNORJONCHB-UHFFFAOYSA-N  PMISPNORJONCHB-DKBZVKCESA-N     0.804266   \n",
       "599  JJSVXWKQLGHFES-UHFFFAOYSA-N  JJSVXWKQLGHFES-QGZYWIHFSA-N     1.000000   \n",
       "601  SXTGVXKFOVZYIK-UHFFFAOYSA-N  SXTGVXKFOVZYIK-UHFFFAOYSA-N     1.000000   \n",
       "\n",
       "    collision_energy_exp  predicted_optimal_nce  \\\n",
       "0                     45              50.582926   \n",
       "2                     45              41.317807   \n",
       "4                     45              43.643579   \n",
       "11                    35              39.676572   \n",
       "12                    45              44.952981   \n",
       "..                   ...                    ...   \n",
       "588                   35              35.284291   \n",
       "589                   45              48.249493   \n",
       "595                   45              47.812954   \n",
       "599                   35              31.563912   \n",
       "601                   35              35.754424   \n",
       "\n",
       "                                     fingerprint_array  \\\n",
       "0    [1, 1, 1, 0, 0, 0, 0, 0, 0, 1, 1, 1, 1, 0, 0, ...   \n",
       "2    [1, 1, 1, 1, 0, 0, 0, 0, 0, 1, 1, 1, 1, 0, 1, ...   \n",
       "4    [1, 1, 1, 0, 0, 0, 0, 0, 0, 1, 1, 1, 1, 0, 0, ...   \n",
       "11   [1, 1, 1, 1, 0, 0, 0, 0, 0, 1, 1, 1, 1, 0, 0, ...   \n",
       "12   [1, 1, 1, 0, 0, 0, 0, 0, 0, 1, 1, 1, 1, 0, 0, ...   \n",
       "..                                                 ...   \n",
       "588  [1, 1, 1, 0, 0, 0, 0, 0, 0, 1, 1, 1, 1, 0, 0, ...   \n",
       "589  [1, 1, 1, 1, 0, 0, 0, 0, 0, 1, 1, 1, 1, 0, 0, ...   \n",
       "595  [1, 1, 1, 0, 0, 0, 0, 0, 0, 1, 1, 1, 1, 0, 0, ...   \n",
       "599  [1, 1, 1, 1, 0, 0, 0, 0, 0, 1, 1, 1, 1, 1, 0, ...   \n",
       "601  [1, 1, 1, 1, 0, 0, 0, 0, 0, 1, 1, 1, 1, 0, 1, ...   \n",
       "\n",
       "                                    cactvs_fingerprint  \n",
       "0    1110000001111000001111000000000000000000000000...  \n",
       "2    1111000001111011101110000000000000000000000000...  \n",
       "4    1110000001111000001111000000000000000000000000...  \n",
       "11   1111000001111000001111000000000000000000000000...  \n",
       "12   1110000001111000001111000000000000000000000000...  \n",
       "..                                                 ...  \n",
       "588  1110000001111000001111000000000000000000000000...  \n",
       "589  1111000001111000001110000000000000000000000000...  \n",
       "595  1110000001111000001110000000000000000000000000...  \n",
       "599  1111000001111100001111000000000000000000000000...  \n",
       "601  1111000001111011101111000000000000000000000000...  \n",
       "\n",
       "[226 rows x 7 columns]"
      ]
     },
     "execution_count": 45,
     "metadata": {},
     "output_type": "execute_result"
    }
   ],
   "source": [
    "mona_dataset"
   ]
  },
  {
   "cell_type": "code",
   "execution_count": 46,
   "id": "bf3a1196",
   "metadata": {},
   "outputs": [],
   "source": [
    "mona_X=np.array(mona_dataset.fingerprint_array.to_list())\n",
    "mona_y=np.array(mona_dataset.dot_product.to_list())\n",
    "mona_y=1-mona_y"
   ]
  },
  {
   "cell_type": "code",
   "execution_count": 47,
   "id": "8ea89323",
   "metadata": {},
   "outputs": [
    {
     "data": {
      "image/png": "[encoded data removed]",
      "text/plain": [
       "<Figure size 432x288 with 1 Axes>"
      ]
     },
     "metadata": {
      "needs_background": "light"
     },
     "output_type": "display_data"
    }
   ],
   "source": [
    "plt.hist(mona_y)\n",
    "plt.show()"
   ]
  },
  {
   "cell_type": "code",
   "execution_count": 48,
   "id": "db14ce1e",
   "metadata": {},
   "outputs": [],
   "source": [
    "mona_y[mona_y>=0.7]=1\n",
    "mona_y[mona_y<0.7]=0"
   ]
  },
  {
   "cell_type": "code",
   "execution_count": 49,
   "id": "c3e0f4c9",
   "metadata": {},
   "outputs": [
    {
     "data": {
      "image/png": "[encoded data removed]",
      "text/plain": [
       "<Figure size 432x288 with 1 Axes>"
      ]
     },
     "metadata": {
      "needs_background": "light"
     },
     "output_type": "display_data"
    }
   ],
   "source": [
    "plt.hist(mona_y)\n",
    "plt.show()"
   ]
  },
  {
   "cell_type": "code",
   "execution_count": 50,
   "id": "59059954",
   "metadata": {},
   "outputs": [
    {
     "data": {
      "text/plain": [
       "<AxesSubplot:>"
      ]
     },
     "execution_count": 50,
     "metadata": {},
     "output_type": "execute_result"
    },
    {
     "data": {
      "image/png": "[encoded data removed]",
      "text/plain": [
       "<Figure size 432x288 with 2 Axes>"
      ]
     },
     "metadata": {
      "needs_background": "light"
     },
     "output_type": "display_data"
    }
   ],
   "source": [
    "mona_y_Balancedpredict=winner_BalancedRandomForestClassifier.predict(mona_X)\n",
    "mona_my_Balancedconfusion=confusion_matrix(mona_y,mona_y_Balancedpredict)\n",
    "sns.heatmap(mona_my_Balancedconfusion/np.sum(mona_my_Balancedconfusion), annot=True, \n",
    "            fmt='.2%', cmap='Blues')"
   ]
  },
  {
   "cell_type": "code",
   "execution_count": null,
   "id": "96b7ff5a",
   "metadata": {},
   "outputs": [],
   "source": []
  },
  {
   "cell_type": "code",
   "execution_count": 51,
   "id": "7fc313e6",
   "metadata": {},
   "outputs": [
    {
     "data": {
      "text/plain": [
       "<AxesSubplot:>"
      ]
     },
     "execution_count": 51,
     "metadata": {},
     "output_type": "execute_result"
    },
    {
     "data": {
      "image/png": "[encoded data removed]",
      "text/plain": [
       "<Figure size 432x288 with 3 Axes>"
      ]
     },
     "metadata": {
      "needs_background": "light"
     },
     "output_type": "display_data"
    }
   ],
   "source": [
    "y_Balancedpredict=winner_BalancedRandomForestClassifier.predict(X_test)\n",
    "my_Balancedconfusion=confusion_matrix(y_test,y_Balancedpredict)\n",
    "sns.heatmap(my_Balancedconfusion/np.sum(my_Balancedconfusion), annot=True, \n",
    "            fmt='.2%', cmap='Blues')\n",
    "\n",
    "mona_y_Balancedpredict=winner_BalancedRandomForestClassifier.predict(mona_X)\n",
    "mona_my_Balancedconfusion=confusion_matrix(mona_y,mona_y_Balancedpredict)\n",
    "sns.heatmap(mona_my_Balancedconfusion/np.sum(mona_my_Balancedconfusion), annot=True, \n",
    "            fmt='.2%', cmap='Blues')"
   ]
  },
  {
   "cell_type": "code",
   "execution_count": 52,
   "id": "c10b5e1a",
   "metadata": {},
   "outputs": [
    {
     "data": {
      "image/png": "[encoded data removed]",
      "text/plain": [
       "<Figure size 432x288 with 2 Axes>"
      ]
     },
     "metadata": {
      "needs_background": "light"
     },
     "output_type": "display_data"
    }
   ],
   "source": [
    "fig,ax=plt.subplots(1,2)"
   ]
  },
  {
   "cell_type": "code",
   "execution_count": 60,
   "id": "1e28c04e",
   "metadata": {},
   "outputs": [
    {
     "data": {
      "image/png": "[encoded data removed]",
      "text/plain": [
       "<Figure size 481.89x864 with 2 Axes>"
      ]
     },
     "metadata": {},
     "output_type": "display_data"
    }
   ],
   "source": [
    "plt.rcParams['font.size']=14\n",
    "plt.rcParams['font.family']='Arial'\n",
    "fig,ax=plt.subplots(2,1,figsize=(6.69292, 12),facecolor='w')\n",
    "ax[0].set_title('NIST')\n",
    "make_confusion_matrix(\n",
    "    my_Balancedconfusion,\n",
    "    ax[0],\n",
    "    cbar=False,\n",
    "    categories=['Cosine > 700', 'Cosine < 700']\n",
    ")\n",
    "ax[1].set_title('MoNA')\n",
    "make_confusion_matrix(\n",
    "    mona_my_Balancedconfusion,\n",
    "    ax[1],\n",
    "    cbar=False,\n",
    "    categories=['Cosine > 700', 'Cosine < 700']\n",
    ")\n",
    "fig.suptitle('Predictive Model Confusion Matrices')\n",
    "fig.supylabel('Actual Class')\n",
    "fig.supxlabel('Predicted Class')\n",
    "\n",
    "plt.savefig('../../../results/final_figures/submitted_to_manuscript/confusion_matrices.png',\n",
    "           facecolor=fig.get_facecolor())\n",
    "plt.savefig('../../../results/final_figures/submitted_to_manuscript/confusion_matrices.eps',\n",
    "           facecolor=fig.get_facecolor())"
   ]
  },
  {
   "cell_type": "code",
   "execution_count": null,
   "id": "9990c957",
   "metadata": {},
   "outputs": [],
   "source": []
  },
  {
   "cell_type": "code",
   "execution_count": null,
   "id": "60e4401d",
   "metadata": {},
   "outputs": [],
   "source": []
  },
  {
   "cell_type": "code",
   "execution_count": 59,
   "id": "0f4290ff",
   "metadata": {},
   "outputs": [],
   "source": [
    "def make_confusion_matrix(cf,\n",
    "                          temp_ax,\n",
    "                          group_names=None,\n",
    "                          categories='auto',\n",
    "                          count=True,\n",
    "                          percent=True,\n",
    "                          cbar=True,\n",
    "                          xyticks=True,\n",
    "                          xyplotlabels=True,\n",
    "                          sum_stats=True,\n",
    "                          figsize=None,\n",
    "                          cmap='flare',\n",
    "                          title=None,\n",
    "                         ):\n",
    "    '''\n",
    "    This function will make a pretty plot of an sklearn Confusion Matrix cm using a Seaborn heatmap visualization.\n",
    "    Arguments\n",
    "    ---------\n",
    "    cf:            confusion matrix to be passed in\n",
    "    group_names:   List of strings that represent the labels row by row to be shown in each square.\n",
    "    categories:    List of strings containing the categories to be displayed on the x,y axis. Default is 'auto'\n",
    "    count:         If True, show the raw number in the confusion matrix. Default is True.\n",
    "    normalize:     If True, show the proportions for each category. Default is True.\n",
    "    cbar:          If True, show the color bar. The cbar values are based off the values in the confusion matrix.\n",
    "                   Default is True.\n",
    "    xyticks:       If True, show x and y ticks. Default is True.\n",
    "    xyplotlabels:  If True, show 'True Label' and 'Predicted Label' on the figure. Default is True.\n",
    "    sum_stats:     If True, display summary statistics below the figure. Default is True.\n",
    "    figsize:       Tuple representing the figure size. Default will be the matplotlib rcParams value.\n",
    "    cmap:          Colormap of the values displayed from matplotlib.pyplot.cm. Default is 'Blues'\n",
    "                   See http://matplotlib.org/examples/color/colormaps_reference.html\n",
    "                   \n",
    "    title:         Title for the heatmap. Default is None.\n",
    "    '''\n",
    "\n",
    "\n",
    "    # CODE TO GENERATE TEXT INSIDE EACH SQUARE\n",
    "    blanks = ['' for i in range(cf.size)]\n",
    "\n",
    "    if group_names and len(group_names)==cf.size:\n",
    "        group_labels = [\"{}\\n\".format(value) for value in group_names]\n",
    "    else:\n",
    "        group_labels = blanks\n",
    "\n",
    "    if count:\n",
    "        group_counts = [\"{0:0.0f}\\n\".format(value) for value in cf.flatten()]\n",
    "    else:\n",
    "        group_counts = blanks\n",
    "\n",
    "    if percent:\n",
    "        group_percentages = [\"{0:.2%}\".format(value) for value in cf.flatten()/np.sum(cf)]\n",
    "    else:\n",
    "        group_percentages = blanks\n",
    "\n",
    "    box_labels = [f\"{v1}{v2}{v3}\".strip() for v1, v2, v3 in zip(group_labels,group_counts,group_percentages)]\n",
    "    box_labels = np.asarray(box_labels).reshape(cf.shape[0],cf.shape[1])\n",
    "\n",
    "\n",
    "    # CODE TO GENERATE SUMMARY STATISTICS & TEXT FOR SUMMARY STATS\n",
    "    if sum_stats:\n",
    "        #Accuracy is sum of diagonal divided by total observations\n",
    "        accuracy  = np.trace(cf) / float(np.sum(cf))\n",
    "\n",
    "        #if it is a binary confusion matrix, show some more stats\n",
    "        if len(cf)==2:\n",
    "            #Metrics for Binary Confusion Matrices\n",
    "            precision = cf[1,1] / sum(cf[:,1])\n",
    "            recall    = cf[1,1] / sum(cf[1,:])\n",
    "            f1_score  = 2*precision*recall / (precision + recall)\n",
    "            stats_text = \"\\n\\nAccuracy={:0.3f}\\nPrecision={:0.3f}\\nRecall={:0.3f}\\nF1 Score={:0.3f}\".format(\n",
    "                accuracy,precision,recall,f1_score)\n",
    "        else:\n",
    "            stats_text = \"\\n\\nAccuracy={:0.3f}\".format(accuracy)\n",
    "    else:\n",
    "        stats_text = \"\"\n",
    "\n",
    "\n",
    "    # SET FIGURE PARAMETERS ACCORDING TO OTHER ARGUMENTS\n",
    "    if figsize==None:\n",
    "        #Get default figure size if not set\n",
    "        figsize = plt.rcParams.get('figure.figsize')\n",
    "\n",
    "    if xyticks==False:\n",
    "        #Do not show categories if xyticks is False\n",
    "        categories=False\n",
    "\n",
    "\n",
    "    # MAKE THE HEATMAP VISUALIZATION\n",
    "    #plt.figure(figsize=figsize)\n",
    "    sns.heatmap(cf,\n",
    "                annot=box_labels,\n",
    "                fmt=\"\",\n",
    "                cmap=cmap,\n",
    "                cbar=cbar,\n",
    "                xticklabels=categories,\n",
    "                yticklabels=categories,\n",
    "                ax=temp_ax\n",
    "               )\n",
    "\n",
    "#     if xyplotlabels:\n",
    "#         plt.ylabel('True label')\n",
    "#         plt.xlabel('Predicted label' + stats_text)\n",
    "#     else:\n",
    "#         plt.xlabel(stats_text)\n",
    "    \n",
    "#     if title:\n",
    "#         plt.title(title)"
   ]
  }
 ],
 "metadata": {
  "kernelspec": {
   "display_name": "Python 3",
   "language": "python",
   "name": "python3"
  },
  "language_info": {
   "codemirror_mode": {
    "name": "ipython",
    "version": 3
   },
   "file_extension": ".py",
   "mimetype": "text/x-python",
   "name": "python",
   "nbconvert_exporter": "python",
   "pygments_lexer": "ipython3",
   "version": "3.8.8"
  }
 },
 "nbformat": 4,
 "nbformat_minor": 5
}
