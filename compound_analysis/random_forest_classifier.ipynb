{
 "cells": [
  {
   "cell_type": "code",
   "execution_count": 1,
   "id": "ce904a81",
   "metadata": {},
   "outputs": [],
   "source": [
    "import numpy as np\n",
    "import pandas as pd\n",
    "from sklearn.utils import shuffle\n",
    "from sklearn.ensemble import RandomForestRegressor\n",
    "import matplotlib.pyplot as plt\n",
    "from sklearn.pipeline import Pipeline\n",
    "from sklearn.model_selection import GridSearchCV\n",
    "from sklearn.linear_model import LinearRegression\n",
    "from sklearn.preprocessing import StandardScaler\n",
    "from sklearn.ensemble import RandomForestClassifier\n",
    "from sklearn.metrics import confusion_matrix"
   ]
  },
  {
   "cell_type": "code",
   "execution_count": 2,
   "id": "26f04b98",
   "metadata": {},
   "outputs": [],
   "source": [
    "cohort_input_address='/home/rictuar/coding_projects/fiehn_work/cfmid/cfmid_redo/results/compound_exploration/[M+H]+_hcd_cohort_fingerprints.bin'"
   ]
  },
  {
   "cell_type": "code",
   "execution_count": 3,
   "id": "926a3178",
   "metadata": {},
   "outputs": [],
   "source": [
    "dataset=pd.read_pickle(cohort_input_address)"
   ]
  },
  {
   "cell_type": "code",
   "execution_count": 4,
   "id": "37279317",
   "metadata": {},
   "outputs": [],
   "source": [
    "dataset=shuffle(dataset,random_state=1337)\n",
    "dataset.reset_index(inplace=True)"
   ]
  },
  {
   "cell_type": "code",
   "execution_count": 5,
   "id": "4249834a",
   "metadata": {},
   "outputs": [],
   "source": [
    "X=np.array(dataset.fingerprint_array.to_list())"
   ]
  },
  {
   "cell_type": "code",
   "execution_count": 6,
   "id": "bfe36320",
   "metadata": {},
   "outputs": [],
   "source": [
    "y=np.array(dataset.dot_product.to_list())\n",
    "y=1-y"
   ]
  },
  {
   "cell_type": "code",
   "execution_count": 7,
   "id": "0f968414",
   "metadata": {},
   "outputs": [
    {
     "data": {
      "image/png": "[encoded data removed]",
      "text/plain": [
       "<Figure size 432x288 with 1 Axes>"
      ]
     },
     "metadata": {
      "needs_background": "light"
     },
     "output_type": "display_data"
    }
   ],
   "source": [
    "plt.hist(y)\n",
    "plt.show()"
   ]
  },
  {
   "cell_type": "code",
   "execution_count": 8,
   "id": "c2d15aba",
   "metadata": {},
   "outputs": [],
   "source": [
    "y[y>=0.7]=1\n",
    "y[y<0.7]=0"
   ]
  },
  {
   "cell_type": "code",
   "execution_count": 9,
   "id": "62c90a9a",
   "metadata": {},
   "outputs": [
    {
     "data": {
      "image/png": "[encoded data removed]",
      "text/plain": [
       "<Figure size 432x288 with 1 Axes>"
      ]
     },
     "metadata": {
      "needs_background": "light"
     },
     "output_type": "display_data"
    }
   ],
   "source": [
    "plt.hist(y)\n",
    "plt.show()"
   ]
  },
  {
   "cell_type": "code",
   "execution_count": 10,
   "id": "cc911934",
   "metadata": {},
   "outputs": [],
   "source": [
    "X_train=X[0:int(np.floor(0.8*len(X)))]\n",
    "y_train=y[0:int(np.floor(0.8*len(y)))]\n",
    "X_test=X[int(np.floor(0.8*len(X))):]\n",
    "y_test=y[int(np.floor(0.8*len(y))):]"
   ]
  },
  {
   "cell_type": "code",
   "execution_count": null,
   "id": "752ab6bd",
   "metadata": {},
   "outputs": [],
   "source": []
  },
  {
   "cell_type": "code",
   "execution_count": 11,
   "id": "62e2c5f1",
   "metadata": {},
   "outputs": [],
   "source": [
    "my_RandomForestClassifier_Pipeline=Pipeline(\n",
    "    [\n",
    "        #('my_StandardScaler',StandardScaler()),\n",
    "        ('my_RandomForestClassifier',RandomForestClassifier())\n",
    "    ]\n",
    ")\n",
    "my_RandomForestClassifier_parameters=[\n",
    "    {\n",
    "        'my_RandomForestClassifier__n_estimators':[10,20,40,100,200],\n",
    "        'my_RandomForestClassifier__n_jobs':[4],\n",
    "        'my_RandomForestClassifier__random_state':[1337]#,\n",
    "        #'my_RandomForestRegressor__max_depth':[5]\n",
    "        \n",
    "    }\n",
    "]"
   ]
  },
  {
   "cell_type": "code",
   "execution_count": 43,
   "id": "7eec4220",
   "metadata": {},
   "outputs": [
    {
     "name": "stdout",
     "output_type": "stream",
     "text": [
      "0.4916946383242268 {'my_RandomForestClassifier__n_estimators': 10, 'my_RandomForestClassifier__n_jobs': 4, 'my_RandomForestClassifier__random_state': 1337}\n",
      "0.5370872783130849 {'my_RandomForestClassifier__n_estimators': 20, 'my_RandomForestClassifier__n_jobs': 4, 'my_RandomForestClassifier__random_state': 1337}\n",
      "0.5362289915966386 {'my_RandomForestClassifier__n_estimators': 40, 'my_RandomForestClassifier__n_jobs': 4, 'my_RandomForestClassifier__random_state': 1337}\n",
      "0.5391266975377198 {'my_RandomForestClassifier__n_estimators': 100, 'my_RandomForestClassifier__n_jobs': 4, 'my_RandomForestClassifier__random_state': 1337}\n",
      "0.5294150294150294 {'my_RandomForestClassifier__n_estimators': 200, 'my_RandomForestClassifier__n_jobs': 4, 'my_RandomForestClassifier__random_state': 1337}\n"
     ]
    }
   ],
   "source": [
    "my_RandomForestClassifier_Gridsearch=GridSearchCV(\n",
    "    my_RandomForestClassifier_Pipeline,\n",
    "    my_RandomForestClassifier_parameters,\n",
    "    cv=5,\n",
    "    scoring='precision',\n",
    "    return_train_score=True\n",
    ")\n",
    "\n",
    "my_RandomForestClassifier_Gridsearch.fit(X_train,y_train)\n",
    "\n",
    "my_RandomForestClassifier_Gridsearch_results=my_RandomForestClassifier_Gridsearch.cv_results_\n",
    "for mean_score, params in zip(my_RandomForestClassifier_Gridsearch_results[\"mean_test_score\"],my_RandomForestClassifier_Gridsearch_results[\"params\"]):\n",
    "    #print(np.sqrt(-mean_score), params)\n",
    "    print(mean_score,params)\n",
    "    \n",
    "winner_RandomForestClassifier=my_RandomForestClassifier_Gridsearch.best_estimator_"
   ]
  },
  {
   "cell_type": "code",
   "execution_count": 13,
   "id": "1af737b1",
   "metadata": {},
   "outputs": [
    {
     "name": "stdout",
     "output_type": "stream",
     "text": [
      "{'mean_fit_time': array([0.29696426, 0.20729585, 0.25881953, 0.44448361, 0.73318009]), 'std_fit_time': array([0.23225599, 0.00954466, 0.01032701, 0.02006517, 0.03233989]), 'mean_score_time': array([0.0250411 , 0.03146367, 0.04676266, 0.08764844, 0.16941752]), 'std_score_time': array([0.00304537, 0.00115956, 0.0004692 , 0.00762656, 0.00462094]), 'param_my_RandomForestClassifier__n_estimators': masked_array(data=[10, 20, 40, 100, 200],\n",
      "             mask=[False, False, False, False, False],\n",
      "       fill_value='?',\n",
      "            dtype=object), 'param_my_RandomForestClassifier__n_jobs': masked_array(data=[4, 4, 4, 4, 4],\n",
      "             mask=[False, False, False, False, False],\n",
      "       fill_value='?',\n",
      "            dtype=object), 'param_my_RandomForestClassifier__random_state': masked_array(data=[1337, 1337, 1337, 1337, 1337],\n",
      "             mask=[False, False, False, False, False],\n",
      "       fill_value='?',\n",
      "            dtype=object), 'params': [{'my_RandomForestClassifier__n_estimators': 10, 'my_RandomForestClassifier__n_jobs': 4, 'my_RandomForestClassifier__random_state': 1337}, {'my_RandomForestClassifier__n_estimators': 20, 'my_RandomForestClassifier__n_jobs': 4, 'my_RandomForestClassifier__random_state': 1337}, {'my_RandomForestClassifier__n_estimators': 40, 'my_RandomForestClassifier__n_jobs': 4, 'my_RandomForestClassifier__random_state': 1337}, {'my_RandomForestClassifier__n_estimators': 100, 'my_RandomForestClassifier__n_jobs': 4, 'my_RandomForestClassifier__random_state': 1337}, {'my_RandomForestClassifier__n_estimators': 200, 'my_RandomForestClassifier__n_jobs': 4, 'my_RandomForestClassifier__random_state': 1337}], 'split0_test_score': array([0.23943662, 0.23188406, 0.21126761, 0.2173913 , 0.19259259]), 'split1_test_score': array([0.24817518, 0.21374046, 0.22727273, 0.22556391, 0.2238806 ]), 'split2_test_score': array([0.1884058 , 0.21428571, 0.21582734, 0.22695035, 0.23776224]), 'split3_test_score': array([0.28767123, 0.28169014, 0.26950355, 0.27972028, 0.30136986]), 'split4_test_score': array([0.19117647, 0.21212121, 0.22900763, 0.21538462, 0.20155039]), 'mean_test_score': array([0.23097306, 0.23074432, 0.23057577, 0.23300209, 0.23143114]), 'std_test_score': array([0.03735764, 0.02647116, 0.02058671, 0.02378492, 0.03844427]), 'rank_test_score': array([3, 4, 5, 1, 2], dtype=int32), 'split0_train_score': array([0.90771176, 0.95272727, 0.97867299, 0.98584906, 0.9858156 ]), 'split1_train_score': array([0.91687657, 0.97005988, 0.98584906, 0.99181287, 0.99177438]), 'split2_train_score': array([0.91635456, 0.960761  , 0.97635934, 0.98349057, 0.98356808]), 'split3_train_score': array([0.9033877 , 0.95078031, 0.97751479, 0.98356808, 0.98356808]), 'split4_train_score': array([0.90166028, 0.95515152, 0.97502973, 0.98820755, 0.9882904 ]), 'mean_train_score': array([0.90919817, 0.957896  , 0.97868518, 0.98658562, 0.98660331]), 'std_train_score': array([0.00637122, 0.00694333, 0.00378055, 0.00313631, 0.00311872])}\n"
     ]
    }
   ],
   "source": [
    "print(my_RandomForestClassifier_Gridsearch_results)"
   ]
  },
  {
   "cell_type": "code",
   "execution_count": 44,
   "id": "e0e9256f",
   "metadata": {},
   "outputs": [],
   "source": [
    "y_predict=winner_RandomForestClassifier.predict(X_test)"
   ]
  },
  {
   "cell_type": "code",
   "execution_count": 45,
   "id": "2daab5bc",
   "metadata": {},
   "outputs": [],
   "source": [
    "my_confusion=confusion_matrix(y_test,y_predict)\n"
   ]
  },
  {
   "cell_type": "code",
   "execution_count": 46,
   "id": "cba78939",
   "metadata": {},
   "outputs": [
    {
     "data": {
      "text/plain": [
       "array([[1488,   14],\n",
       "       [ 123,   35]])"
      ]
     },
     "execution_count": 46,
     "metadata": {},
     "output_type": "execute_result"
    }
   ],
   "source": [
    "my_confusion"
   ]
  },
  {
   "cell_type": "code",
   "execution_count": 47,
   "id": "432511d7",
   "metadata": {},
   "outputs": [
    {
     "data": {
      "text/plain": [
       "<AxesSubplot:>"
      ]
     },
     "execution_count": 47,
     "metadata": {},
     "output_type": "execute_result"
    },
    {
     "data": {
      "image/png": "[encoded data removed]",
      "text/plain": [
       "<Figure size 432x288 with 2 Axes>"
      ]
     },
     "metadata": {
      "needs_background": "light"
     },
     "output_type": "display_data"
    }
   ],
   "source": [
    "import seaborn as sns\n",
    "sns.heatmap(my_confusion/np.sum(my_confusion), annot=True, \n",
    "            fmt='.2%', cmap='Blues')"
   ]
  },
  {
   "cell_type": "code",
   "execution_count": 18,
   "id": "b8a6d895",
   "metadata": {},
   "outputs": [],
   "source": [
    "from imblearn.ensemble import BalancedRandomForestClassifier"
   ]
  },
  {
   "cell_type": "code",
   "execution_count": 19,
   "id": "5cbdc783",
   "metadata": {},
   "outputs": [],
   "source": [
    "my_BalancedRandomForestClassifier_Pipeline=Pipeline(\n",
    "    [\n",
    "        #('my_StandardScaler',StandardScaler()),\n",
    "        ('my_BalancedRandomForestClassifier',BalancedRandomForestClassifier())\n",
    "    ]\n",
    ")\n",
    "my_BalancedRandomForestClassifier_parameters=[\n",
    "    {\n",
    "        'my_BalancedRandomForestClassifier__n_estimators':[10,20,40,100,200],\n",
    "        'my_BalancedRandomForestClassifier__n_jobs':[5],\n",
    "        'my_BalancedRandomForestClassifier__random_state':[1337],\n",
    "        'my_BalancedRandomForestClassifier__criterion':['gini','entropy'],\n",
    "        'my_BalancedRandomForestClassifier__sampling_strategy':[\n",
    "            'not majority','not minority','all'\n",
    "        ],\n",
    "        'my_BalancedRandomForestClassifier__replacement':[True,False]\n",
    "        #,\n",
    "        #'my_BalancedRandomForestRegressor__max_depth':[5]\n",
    "        \n",
    "    }\n",
    "]"
   ]
  },
  {
   "cell_type": "code",
   "execution_count": 20,
   "id": "2a246b64",
   "metadata": {},
   "outputs": [
    {
     "name": "stdout",
     "output_type": "stream",
     "text": [
      "0.5388095238095237 {'my_BalancedRandomForestClassifier__criterion': 'gini', 'my_BalancedRandomForestClassifier__n_estimators': 10, 'my_BalancedRandomForestClassifier__n_jobs': 5, 'my_BalancedRandomForestClassifier__random_state': 1337, 'my_BalancedRandomForestClassifier__replacement': True, 'my_BalancedRandomForestClassifier__sampling_strategy': 'not majority'}\n",
      "0.17778685765652216 {'my_BalancedRandomForestClassifier__criterion': 'gini', 'my_BalancedRandomForestClassifier__n_estimators': 10, 'my_BalancedRandomForestClassifier__n_jobs': 5, 'my_BalancedRandomForestClassifier__random_state': 1337, 'my_BalancedRandomForestClassifier__replacement': True, 'my_BalancedRandomForestClassifier__sampling_strategy': 'not minority'}\n",
      "0.1978318715836876 {'my_BalancedRandomForestClassifier__criterion': 'gini', 'my_BalancedRandomForestClassifier__n_estimators': 10, 'my_BalancedRandomForestClassifier__n_jobs': 5, 'my_BalancedRandomForestClassifier__random_state': 1337, 'my_BalancedRandomForestClassifier__replacement': True, 'my_BalancedRandomForestClassifier__sampling_strategy': 'all'}\n",
      "0.47939140655609247 {'my_BalancedRandomForestClassifier__criterion': 'gini', 'my_BalancedRandomForestClassifier__n_estimators': 10, 'my_BalancedRandomForestClassifier__n_jobs': 5, 'my_BalancedRandomForestClassifier__random_state': 1337, 'my_BalancedRandomForestClassifier__replacement': False, 'my_BalancedRandomForestClassifier__sampling_strategy': 'not majority'}\n",
      "0.18285437240370125 {'my_BalancedRandomForestClassifier__criterion': 'gini', 'my_BalancedRandomForestClassifier__n_estimators': 10, 'my_BalancedRandomForestClassifier__n_jobs': 5, 'my_BalancedRandomForestClassifier__random_state': 1337, 'my_BalancedRandomForestClassifier__replacement': False, 'my_BalancedRandomForestClassifier__sampling_strategy': 'not minority'}\n",
      "0.17402524981780526 {'my_BalancedRandomForestClassifier__criterion': 'gini', 'my_BalancedRandomForestClassifier__n_estimators': 10, 'my_BalancedRandomForestClassifier__n_jobs': 5, 'my_BalancedRandomForestClassifier__random_state': 1337, 'my_BalancedRandomForestClassifier__replacement': False, 'my_BalancedRandomForestClassifier__sampling_strategy': 'all'}\n",
      "0.5774538866930171 {'my_BalancedRandomForestClassifier__criterion': 'gini', 'my_BalancedRandomForestClassifier__n_estimators': 20, 'my_BalancedRandomForestClassifier__n_jobs': 5, 'my_BalancedRandomForestClassifier__random_state': 1337, 'my_BalancedRandomForestClassifier__replacement': True, 'my_BalancedRandomForestClassifier__sampling_strategy': 'not majority'}\n",
      "0.17996859281502997 {'my_BalancedRandomForestClassifier__criterion': 'gini', 'my_BalancedRandomForestClassifier__n_estimators': 20, 'my_BalancedRandomForestClassifier__n_jobs': 5, 'my_BalancedRandomForestClassifier__random_state': 1337, 'my_BalancedRandomForestClassifier__replacement': True, 'my_BalancedRandomForestClassifier__sampling_strategy': 'not minority'}\n",
      "0.21193681392643932 {'my_BalancedRandomForestClassifier__criterion': 'gini', 'my_BalancedRandomForestClassifier__n_estimators': 20, 'my_BalancedRandomForestClassifier__n_jobs': 5, 'my_BalancedRandomForestClassifier__random_state': 1337, 'my_BalancedRandomForestClassifier__replacement': True, 'my_BalancedRandomForestClassifier__sampling_strategy': 'all'}\n",
      "0.515406162464986 {'my_BalancedRandomForestClassifier__criterion': 'gini', 'my_BalancedRandomForestClassifier__n_estimators': 20, 'my_BalancedRandomForestClassifier__n_jobs': 5, 'my_BalancedRandomForestClassifier__random_state': 1337, 'my_BalancedRandomForestClassifier__replacement': False, 'my_BalancedRandomForestClassifier__sampling_strategy': 'not majority'}\n",
      "0.18503769433469408 {'my_BalancedRandomForestClassifier__criterion': 'gini', 'my_BalancedRandomForestClassifier__n_estimators': 20, 'my_BalancedRandomForestClassifier__n_jobs': 5, 'my_BalancedRandomForestClassifier__random_state': 1337, 'my_BalancedRandomForestClassifier__replacement': False, 'my_BalancedRandomForestClassifier__sampling_strategy': 'not minority'}\n",
      "0.17824034600737163 {'my_BalancedRandomForestClassifier__criterion': 'gini', 'my_BalancedRandomForestClassifier__n_estimators': 20, 'my_BalancedRandomForestClassifier__n_jobs': 5, 'my_BalancedRandomForestClassifier__random_state': 1337, 'my_BalancedRandomForestClassifier__replacement': False, 'my_BalancedRandomForestClassifier__sampling_strategy': 'all'}\n",
      "0.6249639249639249 {'my_BalancedRandomForestClassifier__criterion': 'gini', 'my_BalancedRandomForestClassifier__n_estimators': 40, 'my_BalancedRandomForestClassifier__n_jobs': 5, 'my_BalancedRandomForestClassifier__random_state': 1337, 'my_BalancedRandomForestClassifier__replacement': True, 'my_BalancedRandomForestClassifier__sampling_strategy': 'not majority'}\n",
      "0.1799340472106728 {'my_BalancedRandomForestClassifier__criterion': 'gini', 'my_BalancedRandomForestClassifier__n_estimators': 40, 'my_BalancedRandomForestClassifier__n_jobs': 5, 'my_BalancedRandomForestClassifier__random_state': 1337, 'my_BalancedRandomForestClassifier__replacement': True, 'my_BalancedRandomForestClassifier__sampling_strategy': 'not minority'}\n",
      "0.22270766311350756 {'my_BalancedRandomForestClassifier__criterion': 'gini', 'my_BalancedRandomForestClassifier__n_estimators': 40, 'my_BalancedRandomForestClassifier__n_jobs': 5, 'my_BalancedRandomForestClassifier__random_state': 1337, 'my_BalancedRandomForestClassifier__replacement': True, 'my_BalancedRandomForestClassifier__sampling_strategy': 'all'}\n",
      "0.527713963963964 {'my_BalancedRandomForestClassifier__criterion': 'gini', 'my_BalancedRandomForestClassifier__n_estimators': 40, 'my_BalancedRandomForestClassifier__n_jobs': 5, 'my_BalancedRandomForestClassifier__random_state': 1337, 'my_BalancedRandomForestClassifier__replacement': False, 'my_BalancedRandomForestClassifier__sampling_strategy': 'not majority'}\n",
      "0.18536774022560426 {'my_BalancedRandomForestClassifier__criterion': 'gini', 'my_BalancedRandomForestClassifier__n_estimators': 40, 'my_BalancedRandomForestClassifier__n_jobs': 5, 'my_BalancedRandomForestClassifier__random_state': 1337, 'my_BalancedRandomForestClassifier__replacement': False, 'my_BalancedRandomForestClassifier__sampling_strategy': 'not minority'}\n",
      "0.18996463913818507 {'my_BalancedRandomForestClassifier__criterion': 'gini', 'my_BalancedRandomForestClassifier__n_estimators': 40, 'my_BalancedRandomForestClassifier__n_jobs': 5, 'my_BalancedRandomForestClassifier__random_state': 1337, 'my_BalancedRandomForestClassifier__replacement': False, 'my_BalancedRandomForestClassifier__sampling_strategy': 'all'}\n",
      "0.6887510013206608 {'my_BalancedRandomForestClassifier__criterion': 'gini', 'my_BalancedRandomForestClassifier__n_estimators': 100, 'my_BalancedRandomForestClassifier__n_jobs': 5, 'my_BalancedRandomForestClassifier__random_state': 1337, 'my_BalancedRandomForestClassifier__replacement': True, 'my_BalancedRandomForestClassifier__sampling_strategy': 'not majority'}\n",
      "0.18780684783574303 {'my_BalancedRandomForestClassifier__criterion': 'gini', 'my_BalancedRandomForestClassifier__n_estimators': 100, 'my_BalancedRandomForestClassifier__n_jobs': 5, 'my_BalancedRandomForestClassifier__random_state': 1337, 'my_BalancedRandomForestClassifier__replacement': True, 'my_BalancedRandomForestClassifier__sampling_strategy': 'not minority'}\n",
      "0.23131830074126275 {'my_BalancedRandomForestClassifier__criterion': 'gini', 'my_BalancedRandomForestClassifier__n_estimators': 100, 'my_BalancedRandomForestClassifier__n_jobs': 5, 'my_BalancedRandomForestClassifier__random_state': 1337, 'my_BalancedRandomForestClassifier__replacement': True, 'my_BalancedRandomForestClassifier__sampling_strategy': 'all'}\n",
      "0.5366764814133236 {'my_BalancedRandomForestClassifier__criterion': 'gini', 'my_BalancedRandomForestClassifier__n_estimators': 100, 'my_BalancedRandomForestClassifier__n_jobs': 5, 'my_BalancedRandomForestClassifier__random_state': 1337, 'my_BalancedRandomForestClassifier__replacement': False, 'my_BalancedRandomForestClassifier__sampling_strategy': 'not majority'}\n",
      "0.19549432483682833 {'my_BalancedRandomForestClassifier__criterion': 'gini', 'my_BalancedRandomForestClassifier__n_estimators': 100, 'my_BalancedRandomForestClassifier__n_jobs': 5, 'my_BalancedRandomForestClassifier__random_state': 1337, 'my_BalancedRandomForestClassifier__replacement': False, 'my_BalancedRandomForestClassifier__sampling_strategy': 'not minority'}\n",
      "0.19176042719392733 {'my_BalancedRandomForestClassifier__criterion': 'gini', 'my_BalancedRandomForestClassifier__n_estimators': 100, 'my_BalancedRandomForestClassifier__n_jobs': 5, 'my_BalancedRandomForestClassifier__random_state': 1337, 'my_BalancedRandomForestClassifier__replacement': False, 'my_BalancedRandomForestClassifier__sampling_strategy': 'all'}\n",
      "0.7123792270531402 {'my_BalancedRandomForestClassifier__criterion': 'gini', 'my_BalancedRandomForestClassifier__n_estimators': 200, 'my_BalancedRandomForestClassifier__n_jobs': 5, 'my_BalancedRandomForestClassifier__random_state': 1337, 'my_BalancedRandomForestClassifier__replacement': True, 'my_BalancedRandomForestClassifier__sampling_strategy': 'not majority'}\n",
      "0.18944667556521883 {'my_BalancedRandomForestClassifier__criterion': 'gini', 'my_BalancedRandomForestClassifier__n_estimators': 200, 'my_BalancedRandomForestClassifier__n_jobs': 5, 'my_BalancedRandomForestClassifier__random_state': 1337, 'my_BalancedRandomForestClassifier__replacement': True, 'my_BalancedRandomForestClassifier__sampling_strategy': 'not minority'}\n",
      "0.23489513811348486 {'my_BalancedRandomForestClassifier__criterion': 'gini', 'my_BalancedRandomForestClassifier__n_estimators': 200, 'my_BalancedRandomForestClassifier__n_jobs': 5, 'my_BalancedRandomForestClassifier__random_state': 1337, 'my_BalancedRandomForestClassifier__replacement': True, 'my_BalancedRandomForestClassifier__sampling_strategy': 'all'}\n",
      "0.5303541530670072 {'my_BalancedRandomForestClassifier__criterion': 'gini', 'my_BalancedRandomForestClassifier__n_estimators': 200, 'my_BalancedRandomForestClassifier__n_jobs': 5, 'my_BalancedRandomForestClassifier__random_state': 1337, 'my_BalancedRandomForestClassifier__replacement': False, 'my_BalancedRandomForestClassifier__sampling_strategy': 'not majority'}\n",
      "0.19511767602775382 {'my_BalancedRandomForestClassifier__criterion': 'gini', 'my_BalancedRandomForestClassifier__n_estimators': 200, 'my_BalancedRandomForestClassifier__n_jobs': 5, 'my_BalancedRandomForestClassifier__random_state': 1337, 'my_BalancedRandomForestClassifier__replacement': False, 'my_BalancedRandomForestClassifier__sampling_strategy': 'not minority'}\n",
      "0.18943791191849935 {'my_BalancedRandomForestClassifier__criterion': 'gini', 'my_BalancedRandomForestClassifier__n_estimators': 200, 'my_BalancedRandomForestClassifier__n_jobs': 5, 'my_BalancedRandomForestClassifier__random_state': 1337, 'my_BalancedRandomForestClassifier__replacement': False, 'my_BalancedRandomForestClassifier__sampling_strategy': 'all'}\n",
      "0.6094639565227801 {'my_BalancedRandomForestClassifier__criterion': 'entropy', 'my_BalancedRandomForestClassifier__n_estimators': 10, 'my_BalancedRandomForestClassifier__n_jobs': 5, 'my_BalancedRandomForestClassifier__random_state': 1337, 'my_BalancedRandomForestClassifier__replacement': True, 'my_BalancedRandomForestClassifier__sampling_strategy': 'not majority'}\n",
      "0.17690743571943396 {'my_BalancedRandomForestClassifier__criterion': 'entropy', 'my_BalancedRandomForestClassifier__n_estimators': 10, 'my_BalancedRandomForestClassifier__n_jobs': 5, 'my_BalancedRandomForestClassifier__random_state': 1337, 'my_BalancedRandomForestClassifier__replacement': True, 'my_BalancedRandomForestClassifier__sampling_strategy': 'not minority'}\n",
      "0.19913999934995882 {'my_BalancedRandomForestClassifier__criterion': 'entropy', 'my_BalancedRandomForestClassifier__n_estimators': 10, 'my_BalancedRandomForestClassifier__n_jobs': 5, 'my_BalancedRandomForestClassifier__random_state': 1337, 'my_BalancedRandomForestClassifier__replacement': True, 'my_BalancedRandomForestClassifier__sampling_strategy': 'all'}\n",
      "0.4903225806451613 {'my_BalancedRandomForestClassifier__criterion': 'entropy', 'my_BalancedRandomForestClassifier__n_estimators': 10, 'my_BalancedRandomForestClassifier__n_jobs': 5, 'my_BalancedRandomForestClassifier__random_state': 1337, 'my_BalancedRandomForestClassifier__replacement': False, 'my_BalancedRandomForestClassifier__sampling_strategy': 'not majority'}\n",
      "0.1825117809681463 {'my_BalancedRandomForestClassifier__criterion': 'entropy', 'my_BalancedRandomForestClassifier__n_estimators': 10, 'my_BalancedRandomForestClassifier__n_jobs': 5, 'my_BalancedRandomForestClassifier__random_state': 1337, 'my_BalancedRandomForestClassifier__replacement': False, 'my_BalancedRandomForestClassifier__sampling_strategy': 'not minority'}\n",
      "0.17801550663303423 {'my_BalancedRandomForestClassifier__criterion': 'entropy', 'my_BalancedRandomForestClassifier__n_estimators': 10, 'my_BalancedRandomForestClassifier__n_jobs': 5, 'my_BalancedRandomForestClassifier__random_state': 1337, 'my_BalancedRandomForestClassifier__replacement': False, 'my_BalancedRandomForestClassifier__sampling_strategy': 'all'}\n",
      "0.5832046214654911 {'my_BalancedRandomForestClassifier__criterion': 'entropy', 'my_BalancedRandomForestClassifier__n_estimators': 20, 'my_BalancedRandomForestClassifier__n_jobs': 5, 'my_BalancedRandomForestClassifier__random_state': 1337, 'my_BalancedRandomForestClassifier__replacement': True, 'my_BalancedRandomForestClassifier__sampling_strategy': 'not majority'}\n",
      "0.18333753663185326 {'my_BalancedRandomForestClassifier__criterion': 'entropy', 'my_BalancedRandomForestClassifier__n_estimators': 20, 'my_BalancedRandomForestClassifier__n_jobs': 5, 'my_BalancedRandomForestClassifier__random_state': 1337, 'my_BalancedRandomForestClassifier__replacement': True, 'my_BalancedRandomForestClassifier__sampling_strategy': 'not minority'}\n",
      "0.2186078464011282 {'my_BalancedRandomForestClassifier__criterion': 'entropy', 'my_BalancedRandomForestClassifier__n_estimators': 20, 'my_BalancedRandomForestClassifier__n_jobs': 5, 'my_BalancedRandomForestClassifier__random_state': 1337, 'my_BalancedRandomForestClassifier__replacement': True, 'my_BalancedRandomForestClassifier__sampling_strategy': 'all'}\n",
      "0.4859808937570348 {'my_BalancedRandomForestClassifier__criterion': 'entropy', 'my_BalancedRandomForestClassifier__n_estimators': 20, 'my_BalancedRandomForestClassifier__n_jobs': 5, 'my_BalancedRandomForestClassifier__random_state': 1337, 'my_BalancedRandomForestClassifier__replacement': False, 'my_BalancedRandomForestClassifier__sampling_strategy': 'not majority'}\n",
      "0.18932617590071935 {'my_BalancedRandomForestClassifier__criterion': 'entropy', 'my_BalancedRandomForestClassifier__n_estimators': 20, 'my_BalancedRandomForestClassifier__n_jobs': 5, 'my_BalancedRandomForestClassifier__random_state': 1337, 'my_BalancedRandomForestClassifier__replacement': False, 'my_BalancedRandomForestClassifier__sampling_strategy': 'not minority'}\n",
      "0.1781745374504557 {'my_BalancedRandomForestClassifier__criterion': 'entropy', 'my_BalancedRandomForestClassifier__n_estimators': 20, 'my_BalancedRandomForestClassifier__n_jobs': 5, 'my_BalancedRandomForestClassifier__random_state': 1337, 'my_BalancedRandomForestClassifier__replacement': False, 'my_BalancedRandomForestClassifier__sampling_strategy': 'all'}\n",
      "0.6682318919470622 {'my_BalancedRandomForestClassifier__criterion': 'entropy', 'my_BalancedRandomForestClassifier__n_estimators': 40, 'my_BalancedRandomForestClassifier__n_jobs': 5, 'my_BalancedRandomForestClassifier__random_state': 1337, 'my_BalancedRandomForestClassifier__replacement': True, 'my_BalancedRandomForestClassifier__sampling_strategy': 'not majority'}\n",
      "0.1872643774114728 {'my_BalancedRandomForestClassifier__criterion': 'entropy', 'my_BalancedRandomForestClassifier__n_estimators': 40, 'my_BalancedRandomForestClassifier__n_jobs': 5, 'my_BalancedRandomForestClassifier__random_state': 1337, 'my_BalancedRandomForestClassifier__replacement': True, 'my_BalancedRandomForestClassifier__sampling_strategy': 'not minority'}\n",
      "0.22134373117928793 {'my_BalancedRandomForestClassifier__criterion': 'entropy', 'my_BalancedRandomForestClassifier__n_estimators': 40, 'my_BalancedRandomForestClassifier__n_jobs': 5, 'my_BalancedRandomForestClassifier__random_state': 1337, 'my_BalancedRandomForestClassifier__replacement': True, 'my_BalancedRandomForestClassifier__sampling_strategy': 'all'}\n",
      "0.5134352825694082 {'my_BalancedRandomForestClassifier__criterion': 'entropy', 'my_BalancedRandomForestClassifier__n_estimators': 40, 'my_BalancedRandomForestClassifier__n_jobs': 5, 'my_BalancedRandomForestClassifier__random_state': 1337, 'my_BalancedRandomForestClassifier__replacement': False, 'my_BalancedRandomForestClassifier__sampling_strategy': 'not majority'}\n",
      "0.19103641761392 {'my_BalancedRandomForestClassifier__criterion': 'entropy', 'my_BalancedRandomForestClassifier__n_estimators': 40, 'my_BalancedRandomForestClassifier__n_jobs': 5, 'my_BalancedRandomForestClassifier__random_state': 1337, 'my_BalancedRandomForestClassifier__replacement': False, 'my_BalancedRandomForestClassifier__sampling_strategy': 'not minority'}\n",
      "0.18878261976820424 {'my_BalancedRandomForestClassifier__criterion': 'entropy', 'my_BalancedRandomForestClassifier__n_estimators': 40, 'my_BalancedRandomForestClassifier__n_jobs': 5, 'my_BalancedRandomForestClassifier__random_state': 1337, 'my_BalancedRandomForestClassifier__replacement': False, 'my_BalancedRandomForestClassifier__sampling_strategy': 'all'}\n",
      "0.7075867269984917 {'my_BalancedRandomForestClassifier__criterion': 'entropy', 'my_BalancedRandomForestClassifier__n_estimators': 100, 'my_BalancedRandomForestClassifier__n_jobs': 5, 'my_BalancedRandomForestClassifier__random_state': 1337, 'my_BalancedRandomForestClassifier__replacement': True, 'my_BalancedRandomForestClassifier__sampling_strategy': 'not majority'}\n",
      "0.18834385703609685 {'my_BalancedRandomForestClassifier__criterion': 'entropy', 'my_BalancedRandomForestClassifier__n_estimators': 100, 'my_BalancedRandomForestClassifier__n_jobs': 5, 'my_BalancedRandomForestClassifier__random_state': 1337, 'my_BalancedRandomForestClassifier__replacement': True, 'my_BalancedRandomForestClassifier__sampling_strategy': 'not minority'}\n",
      "0.23137977208534366 {'my_BalancedRandomForestClassifier__criterion': 'entropy', 'my_BalancedRandomForestClassifier__n_estimators': 100, 'my_BalancedRandomForestClassifier__n_jobs': 5, 'my_BalancedRandomForestClassifier__random_state': 1337, 'my_BalancedRandomForestClassifier__replacement': True, 'my_BalancedRandomForestClassifier__sampling_strategy': 'all'}\n",
      "0.515161421911422 {'my_BalancedRandomForestClassifier__criterion': 'entropy', 'my_BalancedRandomForestClassifier__n_estimators': 100, 'my_BalancedRandomForestClassifier__n_jobs': 5, 'my_BalancedRandomForestClassifier__random_state': 1337, 'my_BalancedRandomForestClassifier__replacement': False, 'my_BalancedRandomForestClassifier__sampling_strategy': 'not majority'}\n",
      "0.1949011488583609 {'my_BalancedRandomForestClassifier__criterion': 'entropy', 'my_BalancedRandomForestClassifier__n_estimators': 100, 'my_BalancedRandomForestClassifier__n_jobs': 5, 'my_BalancedRandomForestClassifier__random_state': 1337, 'my_BalancedRandomForestClassifier__replacement': False, 'my_BalancedRandomForestClassifier__sampling_strategy': 'not minority'}\n",
      "0.188829420672834 {'my_BalancedRandomForestClassifier__criterion': 'entropy', 'my_BalancedRandomForestClassifier__n_estimators': 100, 'my_BalancedRandomForestClassifier__n_jobs': 5, 'my_BalancedRandomForestClassifier__random_state': 1337, 'my_BalancedRandomForestClassifier__replacement': False, 'my_BalancedRandomForestClassifier__sampling_strategy': 'all'}\n",
      "0.6995603089720737 {'my_BalancedRandomForestClassifier__criterion': 'entropy', 'my_BalancedRandomForestClassifier__n_estimators': 200, 'my_BalancedRandomForestClassifier__n_jobs': 5, 'my_BalancedRandomForestClassifier__random_state': 1337, 'my_BalancedRandomForestClassifier__replacement': True, 'my_BalancedRandomForestClassifier__sampling_strategy': 'not majority'}\n",
      "0.1877785152159385 {'my_BalancedRandomForestClassifier__criterion': 'entropy', 'my_BalancedRandomForestClassifier__n_estimators': 200, 'my_BalancedRandomForestClassifier__n_jobs': 5, 'my_BalancedRandomForestClassifier__random_state': 1337, 'my_BalancedRandomForestClassifier__replacement': True, 'my_BalancedRandomForestClassifier__sampling_strategy': 'not minority'}\n",
      "0.2320756053800348 {'my_BalancedRandomForestClassifier__criterion': 'entropy', 'my_BalancedRandomForestClassifier__n_estimators': 200, 'my_BalancedRandomForestClassifier__n_jobs': 5, 'my_BalancedRandomForestClassifier__random_state': 1337, 'my_BalancedRandomForestClassifier__replacement': True, 'my_BalancedRandomForestClassifier__sampling_strategy': 'all'}\n",
      "0.5201981588391325 {'my_BalancedRandomForestClassifier__criterion': 'entropy', 'my_BalancedRandomForestClassifier__n_estimators': 200, 'my_BalancedRandomForestClassifier__n_jobs': 5, 'my_BalancedRandomForestClassifier__random_state': 1337, 'my_BalancedRandomForestClassifier__replacement': False, 'my_BalancedRandomForestClassifier__sampling_strategy': 'not majority'}\n",
      "0.1909742553372457 {'my_BalancedRandomForestClassifier__criterion': 'entropy', 'my_BalancedRandomForestClassifier__n_estimators': 200, 'my_BalancedRandomForestClassifier__n_jobs': 5, 'my_BalancedRandomForestClassifier__random_state': 1337, 'my_BalancedRandomForestClassifier__replacement': False, 'my_BalancedRandomForestClassifier__sampling_strategy': 'not minority'}\n",
      "0.18933281483949002 {'my_BalancedRandomForestClassifier__criterion': 'entropy', 'my_BalancedRandomForestClassifier__n_estimators': 200, 'my_BalancedRandomForestClassifier__n_jobs': 5, 'my_BalancedRandomForestClassifier__random_state': 1337, 'my_BalancedRandomForestClassifier__replacement': False, 'my_BalancedRandomForestClassifier__sampling_strategy': 'all'}\n"
     ]
    }
   ],
   "source": [
    "my_BalancedRandomForestClassifier_Gridsearch=GridSearchCV(\n",
    "    my_BalancedRandomForestClassifier_Pipeline,\n",
    "    my_BalancedRandomForestClassifier_parameters,\n",
    "    cv=5,\n",
    "    scoring='precision',\n",
    "    return_train_score=True\n",
    ")\n",
    "\n",
    "my_BalancedRandomForestClassifier_Gridsearch.fit(X_train,y_train)\n",
    "\n",
    "my_BalancedRandomForestClassifier_Gridsearch_results=my_BalancedRandomForestClassifier_Gridsearch.cv_results_\n",
    "for mean_score, params in zip(my_BalancedRandomForestClassifier_Gridsearch_results[\"mean_test_score\"],my_BalancedRandomForestClassifier_Gridsearch_results[\"params\"]):\n",
    "    #print(np.sqrt(-mean_score), params)\n",
    "    print(mean_score,params)\n",
    "    \n",
    "winner_BalancedRandomForestClassifier=my_BalancedRandomForestClassifier_Gridsearch.best_estimator_"
   ]
  },
  {
   "cell_type": "code",
   "execution_count": 21,
   "id": "31d18a26",
   "metadata": {},
   "outputs": [
    {
     "data": {
      "text/plain": [
       "<AxesSubplot:>"
      ]
     },
     "execution_count": 21,
     "metadata": {},
     "output_type": "execute_result"
    },
    {
     "data": {
      "image/png": "[encoded data removed]",
      "text/plain": [
       "<Figure size 432x288 with 2 Axes>"
      ]
     },
     "metadata": {
      "needs_background": "light"
     },
     "output_type": "display_data"
    }
   ],
   "source": [
    "y_Balancedpredict=winner_BalancedRandomForestClassifier.predict(X_test)\n",
    "my_Balancedconfusion=confusion_matrix(y_test,y_Balancedpredict)\n",
    "import seaborn as sns\n",
    "sns.heatmap(my_Balancedconfusion/np.sum(my_Balancedconfusion), annot=True, \n",
    "            fmt='.2%', cmap='Blues')"
   ]
  },
  {
   "cell_type": "code",
   "execution_count": 22,
   "id": "b4a9321c",
   "metadata": {},
   "outputs": [
    {
     "data": {
      "text/plain": [
       "{'my_BalancedRandomForestClassifier__criterion': 'gini',\n",
       " 'my_BalancedRandomForestClassifier__n_estimators': 200,\n",
       " 'my_BalancedRandomForestClassifier__n_jobs': 5,\n",
       " 'my_BalancedRandomForestClassifier__random_state': 1337,\n",
       " 'my_BalancedRandomForestClassifier__replacement': True,\n",
       " 'my_BalancedRandomForestClassifier__sampling_strategy': 'not majority'}"
      ]
     },
     "execution_count": 22,
     "metadata": {},
     "output_type": "execute_result"
    }
   ],
   "source": [
    "my_BalancedRandomForestClassifier_Gridsearch.best_params_"
   ]
  },
  {
   "cell_type": "code",
   "execution_count": null,
   "id": "eb637434",
   "metadata": {},
   "outputs": [],
   "source": []
  },
  {
   "cell_type": "code",
   "execution_count": 23,
   "id": "2dd629fc",
   "metadata": {},
   "outputs": [
    {
     "data": {
      "text/plain": [
       "0.7123792270531402"
      ]
     },
     "execution_count": 23,
     "metadata": {},
     "output_type": "execute_result"
    }
   ],
   "source": [
    "my_BalancedRandomForestClassifier_Gridsearch.best_score_"
   ]
  },
  {
   "cell_type": "code",
   "execution_count": 24,
   "id": "f4a577b4",
   "metadata": {},
   "outputs": [
    {
     "data": {
      "image/png": "[encoded data removed]",
      "text/plain": [
       "<Figure size 432x288 with 1 Axes>"
      ]
     },
     "metadata": {
      "needs_background": "light"
     },
     "output_type": "display_data"
    }
   ],
   "source": [
    "forest=winner_BalancedRandomForestClassifier['my_BalancedRandomForestClassifier']\n",
    "importances = forest.feature_importances_\n",
    "#feature_names = [f\"feature {i}\" for i in range(X.shape[1])]\n",
    "feature_names = [i for i in range(X.shape[1])]\n",
    "forest_importances = pd.Series(importances, index=feature_names)\n",
    "forest_importances.sort_values(ascending=False,inplace=True)\n",
    "plt.hist(forest_importances,bins=100)\n",
    "plt.show()"
   ]
  },
  {
   "cell_type": "code",
   "execution_count": 25,
   "id": "579e0e1e",
   "metadata": {},
   "outputs": [],
   "source": [
    "forest_importances=forest_importances.iloc[0:50]\n",
    "feature_names=forest_importances.index.to_list()\n",
    "std = np.std([tree.feature_importances_ for tree in forest.estimators_], axis=0)\n",
    "std=std[forest_importances.index]"
   ]
  },
  {
   "cell_type": "code",
   "execution_count": 26,
   "id": "386c18d0",
   "metadata": {},
   "outputs": [
    {
     "data": {
      "image/png": "[encoded data removed]",
      "text/plain": [
       "<Figure size 720x720 with 1 Axes>"
      ]
     },
     "metadata": {
      "needs_background": "light"
     },
     "output_type": "display_data"
    }
   ],
   "source": [
    "fig, ax = plt.subplots(figsize=(10,10))\n",
    "forest_importances.plot.bar(yerr=std, ax=ax)\n",
    "ax.set_title(\"Feature importances using MDI\")\n",
    "ax.set_ylabel(\"Mean decrease in impurity\")\n",
    "fig.tight_layout()"
   ]
  },
  {
   "cell_type": "code",
   "execution_count": 27,
   "id": "d7279025",
   "metadata": {},
   "outputs": [
    {
     "data": {
      "text/plain": [
       "Int64Index([374,   2, 696, 697, 185, 186, 287, 643,  19, 364, 391, 257, 392,\n",
       "             23, 181, 712,  12, 528, 143, 540, 656,  15, 338, 452, 340,   1,\n",
       "            593,  20, 645, 611, 335, 692, 346, 451, 345, 406, 672, 569, 308,\n",
       "            180,   3, 440, 299, 717, 366, 628, 535, 439, 671, 617],\n",
       "           dtype='int64')"
      ]
     },
     "execution_count": 27,
     "metadata": {},
     "output_type": "execute_result"
    }
   ],
   "source": [
    "forest_importances.index"
   ]
  },
  {
   "cell_type": "code",
   "execution_count": null,
   "id": "586404f9",
   "metadata": {},
   "outputs": [],
   "source": []
  },
  {
   "cell_type": "code",
   "execution_count": null,
   "id": "2370ce1f",
   "metadata": {},
   "outputs": [],
   "source": []
  },
  {
   "cell_type": "code",
   "execution_count": null,
   "id": "81faef54",
   "metadata": {},
   "outputs": [],
   "source": []
  },
  {
   "cell_type": "code",
   "execution_count": null,
   "id": "14a50c51",
   "metadata": {},
   "outputs": [],
   "source": []
  },
  {
   "cell_type": "code",
   "execution_count": null,
   "id": "038537de",
   "metadata": {},
   "outputs": [],
   "source": []
  },
  {
   "cell_type": "code",
   "execution_count": null,
   "id": "7e322090",
   "metadata": {},
   "outputs": [],
   "source": []
  },
  {
   "cell_type": "code",
   "execution_count": null,
   "id": "388855fe",
   "metadata": {},
   "outputs": [],
   "source": []
  },
  {
   "cell_type": "code",
   "execution_count": 28,
   "id": "33ee4de5",
   "metadata": {},
   "outputs": [
    {
     "ename": "KeyboardInterrupt",
     "evalue": "",
     "output_type": "error",
     "traceback": [
      "\u001b[0;31m---------------------------------------------------------------------------\u001b[0m",
      "\u001b[0;31mKeyboardInterrupt\u001b[0m                         Traceback (most recent call last)",
      "\u001b[0;32m<ipython-input-28-17dfee1df35e>\u001b[0m in \u001b[0;36m<module>\u001b[0;34m\u001b[0m\n\u001b[1;32m      7\u001b[0m )\n\u001b[1;32m      8\u001b[0m \u001b[0;34m\u001b[0m\u001b[0m\n\u001b[0;32m----> 9\u001b[0;31m \u001b[0mmy_BalancedRandomForestClassifier_Gridsearch\u001b[0m\u001b[0;34m.\u001b[0m\u001b[0mfit\u001b[0m\u001b[0;34m(\u001b[0m\u001b[0mX_train\u001b[0m\u001b[0;34m,\u001b[0m\u001b[0my_train\u001b[0m\u001b[0;34m)\u001b[0m\u001b[0;34m\u001b[0m\u001b[0;34m\u001b[0m\u001b[0m\n\u001b[0m\u001b[1;32m     10\u001b[0m \u001b[0;34m\u001b[0m\u001b[0m\n\u001b[1;32m     11\u001b[0m \u001b[0mmy_BalancedRandomForestClassifier_Gridsearch_results\u001b[0m\u001b[0;34m=\u001b[0m\u001b[0mmy_BalancedRandomForestClassifier_Gridsearch\u001b[0m\u001b[0;34m.\u001b[0m\u001b[0mcv_results_\u001b[0m\u001b[0;34m\u001b[0m\u001b[0;34m\u001b[0m\u001b[0m\n",
      "\u001b[0;32m~/anaconda3/lib/python3.8/site-packages/sklearn/utils/validation.py\u001b[0m in \u001b[0;36minner_f\u001b[0;34m(*args, **kwargs)\u001b[0m\n\u001b[1;32m     61\u001b[0m             \u001b[0mextra_args\u001b[0m \u001b[0;34m=\u001b[0m \u001b[0mlen\u001b[0m\u001b[0;34m(\u001b[0m\u001b[0margs\u001b[0m\u001b[0;34m)\u001b[0m \u001b[0;34m-\u001b[0m \u001b[0mlen\u001b[0m\u001b[0;34m(\u001b[0m\u001b[0mall_args\u001b[0m\u001b[0;34m)\u001b[0m\u001b[0;34m\u001b[0m\u001b[0;34m\u001b[0m\u001b[0m\n\u001b[1;32m     62\u001b[0m             \u001b[0;32mif\u001b[0m \u001b[0mextra_args\u001b[0m \u001b[0;34m<=\u001b[0m \u001b[0;36m0\u001b[0m\u001b[0;34m:\u001b[0m\u001b[0;34m\u001b[0m\u001b[0;34m\u001b[0m\u001b[0m\n\u001b[0;32m---> 63\u001b[0;31m                 \u001b[0;32mreturn\u001b[0m \u001b[0mf\u001b[0m\u001b[0;34m(\u001b[0m\u001b[0;34m*\u001b[0m\u001b[0margs\u001b[0m\u001b[0;34m,\u001b[0m \u001b[0;34m**\u001b[0m\u001b[0mkwargs\u001b[0m\u001b[0;34m)\u001b[0m\u001b[0;34m\u001b[0m\u001b[0;34m\u001b[0m\u001b[0m\n\u001b[0m\u001b[1;32m     64\u001b[0m \u001b[0;34m\u001b[0m\u001b[0m\n\u001b[1;32m     65\u001b[0m             \u001b[0;31m# extra_args > 0\u001b[0m\u001b[0;34m\u001b[0m\u001b[0;34m\u001b[0m\u001b[0;34m\u001b[0m\u001b[0m\n",
      "\u001b[0;32m~/anaconda3/lib/python3.8/site-packages/sklearn/model_selection/_search.py\u001b[0m in \u001b[0;36mfit\u001b[0;34m(self, X, y, groups, **fit_params)\u001b[0m\n\u001b[1;32m    839\u001b[0m                 \u001b[0;32mreturn\u001b[0m \u001b[0mresults\u001b[0m\u001b[0;34m\u001b[0m\u001b[0;34m\u001b[0m\u001b[0m\n\u001b[1;32m    840\u001b[0m \u001b[0;34m\u001b[0m\u001b[0m\n\u001b[0;32m--> 841\u001b[0;31m             \u001b[0mself\u001b[0m\u001b[0;34m.\u001b[0m\u001b[0m_run_search\u001b[0m\u001b[0;34m(\u001b[0m\u001b[0mevaluate_candidates\u001b[0m\u001b[0;34m)\u001b[0m\u001b[0;34m\u001b[0m\u001b[0;34m\u001b[0m\u001b[0m\n\u001b[0m\u001b[1;32m    842\u001b[0m \u001b[0;34m\u001b[0m\u001b[0m\n\u001b[1;32m    843\u001b[0m             \u001b[0;31m# multimetric is determined here because in the case of a callable\u001b[0m\u001b[0;34m\u001b[0m\u001b[0;34m\u001b[0m\u001b[0;34m\u001b[0m\u001b[0m\n",
      "\u001b[0;32m~/anaconda3/lib/python3.8/site-packages/sklearn/model_selection/_search.py\u001b[0m in \u001b[0;36m_run_search\u001b[0;34m(self, evaluate_candidates)\u001b[0m\n\u001b[1;32m   1286\u001b[0m     \u001b[0;32mdef\u001b[0m \u001b[0m_run_search\u001b[0m\u001b[0;34m(\u001b[0m\u001b[0mself\u001b[0m\u001b[0;34m,\u001b[0m \u001b[0mevaluate_candidates\u001b[0m\u001b[0;34m)\u001b[0m\u001b[0;34m:\u001b[0m\u001b[0;34m\u001b[0m\u001b[0;34m\u001b[0m\u001b[0m\n\u001b[1;32m   1287\u001b[0m         \u001b[0;34m\"\"\"Search all candidates in param_grid\"\"\"\u001b[0m\u001b[0;34m\u001b[0m\u001b[0;34m\u001b[0m\u001b[0m\n\u001b[0;32m-> 1288\u001b[0;31m         \u001b[0mevaluate_candidates\u001b[0m\u001b[0;34m(\u001b[0m\u001b[0mParameterGrid\u001b[0m\u001b[0;34m(\u001b[0m\u001b[0mself\u001b[0m\u001b[0;34m.\u001b[0m\u001b[0mparam_grid\u001b[0m\u001b[0;34m)\u001b[0m\u001b[0;34m)\u001b[0m\u001b[0;34m\u001b[0m\u001b[0;34m\u001b[0m\u001b[0m\n\u001b[0m\u001b[1;32m   1289\u001b[0m \u001b[0;34m\u001b[0m\u001b[0m\n\u001b[1;32m   1290\u001b[0m \u001b[0;34m\u001b[0m\u001b[0m\n",
      "\u001b[0;32m~/anaconda3/lib/python3.8/site-packages/sklearn/model_selection/_search.py\u001b[0m in \u001b[0;36mevaluate_candidates\u001b[0;34m(candidate_params, cv, more_results)\u001b[0m\n\u001b[1;32m    793\u001b[0m                               n_splits, n_candidates, n_candidates * n_splits))\n\u001b[1;32m    794\u001b[0m \u001b[0;34m\u001b[0m\u001b[0m\n\u001b[0;32m--> 795\u001b[0;31m                 out = parallel(delayed(_fit_and_score)(clone(base_estimator),\n\u001b[0m\u001b[1;32m    796\u001b[0m                                                        \u001b[0mX\u001b[0m\u001b[0;34m,\u001b[0m \u001b[0my\u001b[0m\u001b[0;34m,\u001b[0m\u001b[0;34m\u001b[0m\u001b[0;34m\u001b[0m\u001b[0m\n\u001b[1;32m    797\u001b[0m                                                        \u001b[0mtrain\u001b[0m\u001b[0;34m=\u001b[0m\u001b[0mtrain\u001b[0m\u001b[0;34m,\u001b[0m \u001b[0mtest\u001b[0m\u001b[0;34m=\u001b[0m\u001b[0mtest\u001b[0m\u001b[0;34m,\u001b[0m\u001b[0;34m\u001b[0m\u001b[0;34m\u001b[0m\u001b[0m\n",
      "\u001b[0;32m~/anaconda3/lib/python3.8/site-packages/joblib/parallel.py\u001b[0m in \u001b[0;36m__call__\u001b[0;34m(self, iterable)\u001b[0m\n\u001b[1;32m   1042\u001b[0m                 \u001b[0mself\u001b[0m\u001b[0;34m.\u001b[0m\u001b[0m_iterating\u001b[0m \u001b[0;34m=\u001b[0m \u001b[0mself\u001b[0m\u001b[0;34m.\u001b[0m\u001b[0m_original_iterator\u001b[0m \u001b[0;32mis\u001b[0m \u001b[0;32mnot\u001b[0m \u001b[0;32mNone\u001b[0m\u001b[0;34m\u001b[0m\u001b[0;34m\u001b[0m\u001b[0m\n\u001b[1;32m   1043\u001b[0m \u001b[0;34m\u001b[0m\u001b[0m\n\u001b[0;32m-> 1044\u001b[0;31m             \u001b[0;32mwhile\u001b[0m \u001b[0mself\u001b[0m\u001b[0;34m.\u001b[0m\u001b[0mdispatch_one_batch\u001b[0m\u001b[0;34m(\u001b[0m\u001b[0miterator\u001b[0m\u001b[0;34m)\u001b[0m\u001b[0;34m:\u001b[0m\u001b[0;34m\u001b[0m\u001b[0;34m\u001b[0m\u001b[0m\n\u001b[0m\u001b[1;32m   1045\u001b[0m                 \u001b[0;32mpass\u001b[0m\u001b[0;34m\u001b[0m\u001b[0;34m\u001b[0m\u001b[0m\n\u001b[1;32m   1046\u001b[0m \u001b[0;34m\u001b[0m\u001b[0m\n",
      "\u001b[0;32m~/anaconda3/lib/python3.8/site-packages/joblib/parallel.py\u001b[0m in \u001b[0;36mdispatch_one_batch\u001b[0;34m(self, iterator)\u001b[0m\n\u001b[1;32m    857\u001b[0m                 \u001b[0;32mreturn\u001b[0m \u001b[0;32mFalse\u001b[0m\u001b[0;34m\u001b[0m\u001b[0;34m\u001b[0m\u001b[0m\n\u001b[1;32m    858\u001b[0m             \u001b[0;32melse\u001b[0m\u001b[0;34m:\u001b[0m\u001b[0;34m\u001b[0m\u001b[0;34m\u001b[0m\u001b[0m\n\u001b[0;32m--> 859\u001b[0;31m                 \u001b[0mself\u001b[0m\u001b[0;34m.\u001b[0m\u001b[0m_dispatch\u001b[0m\u001b[0;34m(\u001b[0m\u001b[0mtasks\u001b[0m\u001b[0;34m)\u001b[0m\u001b[0;34m\u001b[0m\u001b[0;34m\u001b[0m\u001b[0m\n\u001b[0m\u001b[1;32m    860\u001b[0m                 \u001b[0;32mreturn\u001b[0m \u001b[0;32mTrue\u001b[0m\u001b[0;34m\u001b[0m\u001b[0;34m\u001b[0m\u001b[0m\n\u001b[1;32m    861\u001b[0m \u001b[0;34m\u001b[0m\u001b[0m\n",
      "\u001b[0;32m~/anaconda3/lib/python3.8/site-packages/joblib/parallel.py\u001b[0m in \u001b[0;36m_dispatch\u001b[0;34m(self, batch)\u001b[0m\n\u001b[1;32m    775\u001b[0m         \u001b[0;32mwith\u001b[0m \u001b[0mself\u001b[0m\u001b[0;34m.\u001b[0m\u001b[0m_lock\u001b[0m\u001b[0;34m:\u001b[0m\u001b[0;34m\u001b[0m\u001b[0;34m\u001b[0m\u001b[0m\n\u001b[1;32m    776\u001b[0m             \u001b[0mjob_idx\u001b[0m \u001b[0;34m=\u001b[0m \u001b[0mlen\u001b[0m\u001b[0;34m(\u001b[0m\u001b[0mself\u001b[0m\u001b[0;34m.\u001b[0m\u001b[0m_jobs\u001b[0m\u001b[0;34m)\u001b[0m\u001b[0;34m\u001b[0m\u001b[0;34m\u001b[0m\u001b[0m\n\u001b[0;32m--> 777\u001b[0;31m             \u001b[0mjob\u001b[0m \u001b[0;34m=\u001b[0m \u001b[0mself\u001b[0m\u001b[0;34m.\u001b[0m\u001b[0m_backend\u001b[0m\u001b[0;34m.\u001b[0m\u001b[0mapply_async\u001b[0m\u001b[0;34m(\u001b[0m\u001b[0mbatch\u001b[0m\u001b[0;34m,\u001b[0m \u001b[0mcallback\u001b[0m\u001b[0;34m=\u001b[0m\u001b[0mcb\u001b[0m\u001b[0;34m)\u001b[0m\u001b[0;34m\u001b[0m\u001b[0;34m\u001b[0m\u001b[0m\n\u001b[0m\u001b[1;32m    778\u001b[0m             \u001b[0;31m# A job can complete so quickly than its callback is\u001b[0m\u001b[0;34m\u001b[0m\u001b[0;34m\u001b[0m\u001b[0;34m\u001b[0m\u001b[0m\n\u001b[1;32m    779\u001b[0m             \u001b[0;31m# called before we get here, causing self._jobs to\u001b[0m\u001b[0;34m\u001b[0m\u001b[0;34m\u001b[0m\u001b[0;34m\u001b[0m\u001b[0m\n",
      "\u001b[0;32m~/anaconda3/lib/python3.8/site-packages/joblib/_parallel_backends.py\u001b[0m in \u001b[0;36mapply_async\u001b[0;34m(self, func, callback)\u001b[0m\n\u001b[1;32m    206\u001b[0m     \u001b[0;32mdef\u001b[0m \u001b[0mapply_async\u001b[0m\u001b[0;34m(\u001b[0m\u001b[0mself\u001b[0m\u001b[0;34m,\u001b[0m \u001b[0mfunc\u001b[0m\u001b[0;34m,\u001b[0m \u001b[0mcallback\u001b[0m\u001b[0;34m=\u001b[0m\u001b[0;32mNone\u001b[0m\u001b[0;34m)\u001b[0m\u001b[0;34m:\u001b[0m\u001b[0;34m\u001b[0m\u001b[0;34m\u001b[0m\u001b[0m\n\u001b[1;32m    207\u001b[0m         \u001b[0;34m\"\"\"Schedule a func to be run\"\"\"\u001b[0m\u001b[0;34m\u001b[0m\u001b[0;34m\u001b[0m\u001b[0m\n\u001b[0;32m--> 208\u001b[0;31m         \u001b[0mresult\u001b[0m \u001b[0;34m=\u001b[0m \u001b[0mImmediateResult\u001b[0m\u001b[0;34m(\u001b[0m\u001b[0mfunc\u001b[0m\u001b[0;34m)\u001b[0m\u001b[0;34m\u001b[0m\u001b[0;34m\u001b[0m\u001b[0m\n\u001b[0m\u001b[1;32m    209\u001b[0m         \u001b[0;32mif\u001b[0m \u001b[0mcallback\u001b[0m\u001b[0;34m:\u001b[0m\u001b[0;34m\u001b[0m\u001b[0;34m\u001b[0m\u001b[0m\n\u001b[1;32m    210\u001b[0m             \u001b[0mcallback\u001b[0m\u001b[0;34m(\u001b[0m\u001b[0mresult\u001b[0m\u001b[0;34m)\u001b[0m\u001b[0;34m\u001b[0m\u001b[0;34m\u001b[0m\u001b[0m\n",
      "\u001b[0;32m~/anaconda3/lib/python3.8/site-packages/joblib/_parallel_backends.py\u001b[0m in \u001b[0;36m__init__\u001b[0;34m(self, batch)\u001b[0m\n\u001b[1;32m    570\u001b[0m         \u001b[0;31m# Don't delay the application, to avoid keeping the input\u001b[0m\u001b[0;34m\u001b[0m\u001b[0;34m\u001b[0m\u001b[0;34m\u001b[0m\u001b[0m\n\u001b[1;32m    571\u001b[0m         \u001b[0;31m# arguments in memory\u001b[0m\u001b[0;34m\u001b[0m\u001b[0;34m\u001b[0m\u001b[0;34m\u001b[0m\u001b[0m\n\u001b[0;32m--> 572\u001b[0;31m         \u001b[0mself\u001b[0m\u001b[0;34m.\u001b[0m\u001b[0mresults\u001b[0m \u001b[0;34m=\u001b[0m \u001b[0mbatch\u001b[0m\u001b[0;34m(\u001b[0m\u001b[0;34m)\u001b[0m\u001b[0;34m\u001b[0m\u001b[0;34m\u001b[0m\u001b[0m\n\u001b[0m\u001b[1;32m    573\u001b[0m \u001b[0;34m\u001b[0m\u001b[0m\n\u001b[1;32m    574\u001b[0m     \u001b[0;32mdef\u001b[0m \u001b[0mget\u001b[0m\u001b[0;34m(\u001b[0m\u001b[0mself\u001b[0m\u001b[0;34m)\u001b[0m\u001b[0;34m:\u001b[0m\u001b[0;34m\u001b[0m\u001b[0;34m\u001b[0m\u001b[0m\n",
      "\u001b[0;32m~/anaconda3/lib/python3.8/site-packages/joblib/parallel.py\u001b[0m in \u001b[0;36m__call__\u001b[0;34m(self)\u001b[0m\n\u001b[1;32m    260\u001b[0m         \u001b[0;31m# change the default number of processes to -1\u001b[0m\u001b[0;34m\u001b[0m\u001b[0;34m\u001b[0m\u001b[0;34m\u001b[0m\u001b[0m\n\u001b[1;32m    261\u001b[0m         \u001b[0;32mwith\u001b[0m \u001b[0mparallel_backend\u001b[0m\u001b[0;34m(\u001b[0m\u001b[0mself\u001b[0m\u001b[0;34m.\u001b[0m\u001b[0m_backend\u001b[0m\u001b[0;34m,\u001b[0m \u001b[0mn_jobs\u001b[0m\u001b[0;34m=\u001b[0m\u001b[0mself\u001b[0m\u001b[0;34m.\u001b[0m\u001b[0m_n_jobs\u001b[0m\u001b[0;34m)\u001b[0m\u001b[0;34m:\u001b[0m\u001b[0;34m\u001b[0m\u001b[0;34m\u001b[0m\u001b[0m\n\u001b[0;32m--> 262\u001b[0;31m             return [func(*args, **kwargs)\n\u001b[0m\u001b[1;32m    263\u001b[0m                     for func, args, kwargs in self.items]\n\u001b[1;32m    264\u001b[0m \u001b[0;34m\u001b[0m\u001b[0m\n",
      "\u001b[0;32m~/anaconda3/lib/python3.8/site-packages/joblib/parallel.py\u001b[0m in \u001b[0;36m<listcomp>\u001b[0;34m(.0)\u001b[0m\n\u001b[1;32m    260\u001b[0m         \u001b[0;31m# change the default number of processes to -1\u001b[0m\u001b[0;34m\u001b[0m\u001b[0;34m\u001b[0m\u001b[0;34m\u001b[0m\u001b[0m\n\u001b[1;32m    261\u001b[0m         \u001b[0;32mwith\u001b[0m \u001b[0mparallel_backend\u001b[0m\u001b[0;34m(\u001b[0m\u001b[0mself\u001b[0m\u001b[0;34m.\u001b[0m\u001b[0m_backend\u001b[0m\u001b[0;34m,\u001b[0m \u001b[0mn_jobs\u001b[0m\u001b[0;34m=\u001b[0m\u001b[0mself\u001b[0m\u001b[0;34m.\u001b[0m\u001b[0m_n_jobs\u001b[0m\u001b[0;34m)\u001b[0m\u001b[0;34m:\u001b[0m\u001b[0;34m\u001b[0m\u001b[0;34m\u001b[0m\u001b[0m\n\u001b[0;32m--> 262\u001b[0;31m             return [func(*args, **kwargs)\n\u001b[0m\u001b[1;32m    263\u001b[0m                     for func, args, kwargs in self.items]\n\u001b[1;32m    264\u001b[0m \u001b[0;34m\u001b[0m\u001b[0m\n",
      "\u001b[0;32m~/anaconda3/lib/python3.8/site-packages/sklearn/utils/fixes.py\u001b[0m in \u001b[0;36m__call__\u001b[0;34m(self, *args, **kwargs)\u001b[0m\n\u001b[1;32m    220\u001b[0m     \u001b[0;32mdef\u001b[0m \u001b[0m__call__\u001b[0m\u001b[0;34m(\u001b[0m\u001b[0mself\u001b[0m\u001b[0;34m,\u001b[0m \u001b[0;34m*\u001b[0m\u001b[0margs\u001b[0m\u001b[0;34m,\u001b[0m \u001b[0;34m**\u001b[0m\u001b[0mkwargs\u001b[0m\u001b[0;34m)\u001b[0m\u001b[0;34m:\u001b[0m\u001b[0;34m\u001b[0m\u001b[0;34m\u001b[0m\u001b[0m\n\u001b[1;32m    221\u001b[0m         \u001b[0;32mwith\u001b[0m \u001b[0mconfig_context\u001b[0m\u001b[0;34m(\u001b[0m\u001b[0;34m**\u001b[0m\u001b[0mself\u001b[0m\u001b[0;34m.\u001b[0m\u001b[0mconfig\u001b[0m\u001b[0;34m)\u001b[0m\u001b[0;34m:\u001b[0m\u001b[0;34m\u001b[0m\u001b[0;34m\u001b[0m\u001b[0m\n\u001b[0;32m--> 222\u001b[0;31m             \u001b[0;32mreturn\u001b[0m \u001b[0mself\u001b[0m\u001b[0;34m.\u001b[0m\u001b[0mfunction\u001b[0m\u001b[0;34m(\u001b[0m\u001b[0;34m*\u001b[0m\u001b[0margs\u001b[0m\u001b[0;34m,\u001b[0m \u001b[0;34m**\u001b[0m\u001b[0mkwargs\u001b[0m\u001b[0;34m)\u001b[0m\u001b[0;34m\u001b[0m\u001b[0;34m\u001b[0m\u001b[0m\n\u001b[0m",
      "\u001b[0;32m~/anaconda3/lib/python3.8/site-packages/sklearn/model_selection/_validation.py\u001b[0m in \u001b[0;36m_fit_and_score\u001b[0;34m(estimator, X, y, scorer, train, test, verbose, parameters, fit_params, return_train_score, return_parameters, return_n_test_samples, return_times, return_estimator, split_progress, candidate_progress, error_score)\u001b[0m\n\u001b[1;32m    591\u001b[0m             \u001b[0mestimator\u001b[0m\u001b[0;34m.\u001b[0m\u001b[0mfit\u001b[0m\u001b[0;34m(\u001b[0m\u001b[0mX_train\u001b[0m\u001b[0;34m,\u001b[0m \u001b[0;34m**\u001b[0m\u001b[0mfit_params\u001b[0m\u001b[0;34m)\u001b[0m\u001b[0;34m\u001b[0m\u001b[0;34m\u001b[0m\u001b[0m\n\u001b[1;32m    592\u001b[0m         \u001b[0;32melse\u001b[0m\u001b[0;34m:\u001b[0m\u001b[0;34m\u001b[0m\u001b[0;34m\u001b[0m\u001b[0m\n\u001b[0;32m--> 593\u001b[0;31m             \u001b[0mestimator\u001b[0m\u001b[0;34m.\u001b[0m\u001b[0mfit\u001b[0m\u001b[0;34m(\u001b[0m\u001b[0mX_train\u001b[0m\u001b[0;34m,\u001b[0m \u001b[0my_train\u001b[0m\u001b[0;34m,\u001b[0m \u001b[0;34m**\u001b[0m\u001b[0mfit_params\u001b[0m\u001b[0;34m)\u001b[0m\u001b[0;34m\u001b[0m\u001b[0;34m\u001b[0m\u001b[0m\n\u001b[0m\u001b[1;32m    594\u001b[0m \u001b[0;34m\u001b[0m\u001b[0m\n\u001b[1;32m    595\u001b[0m     \u001b[0;32mexcept\u001b[0m \u001b[0mException\u001b[0m \u001b[0;32mas\u001b[0m \u001b[0me\u001b[0m\u001b[0;34m:\u001b[0m\u001b[0;34m\u001b[0m\u001b[0;34m\u001b[0m\u001b[0m\n",
      "\u001b[0;32m~/anaconda3/lib/python3.8/site-packages/sklearn/pipeline.py\u001b[0m in \u001b[0;36mfit\u001b[0;34m(self, X, y, **fit_params)\u001b[0m\n\u001b[1;32m    344\u001b[0m             \u001b[0;32mif\u001b[0m \u001b[0mself\u001b[0m\u001b[0;34m.\u001b[0m\u001b[0m_final_estimator\u001b[0m \u001b[0;34m!=\u001b[0m \u001b[0;34m'passthrough'\u001b[0m\u001b[0;34m:\u001b[0m\u001b[0;34m\u001b[0m\u001b[0;34m\u001b[0m\u001b[0m\n\u001b[1;32m    345\u001b[0m                 \u001b[0mfit_params_last_step\u001b[0m \u001b[0;34m=\u001b[0m \u001b[0mfit_params_steps\u001b[0m\u001b[0;34m[\u001b[0m\u001b[0mself\u001b[0m\u001b[0;34m.\u001b[0m\u001b[0msteps\u001b[0m\u001b[0;34m[\u001b[0m\u001b[0;34m-\u001b[0m\u001b[0;36m1\u001b[0m\u001b[0;34m]\u001b[0m\u001b[0;34m[\u001b[0m\u001b[0;36m0\u001b[0m\u001b[0;34m]\u001b[0m\u001b[0;34m]\u001b[0m\u001b[0;34m\u001b[0m\u001b[0;34m\u001b[0m\u001b[0m\n\u001b[0;32m--> 346\u001b[0;31m                 \u001b[0mself\u001b[0m\u001b[0;34m.\u001b[0m\u001b[0m_final_estimator\u001b[0m\u001b[0;34m.\u001b[0m\u001b[0mfit\u001b[0m\u001b[0;34m(\u001b[0m\u001b[0mXt\u001b[0m\u001b[0;34m,\u001b[0m \u001b[0my\u001b[0m\u001b[0;34m,\u001b[0m \u001b[0;34m**\u001b[0m\u001b[0mfit_params_last_step\u001b[0m\u001b[0;34m)\u001b[0m\u001b[0;34m\u001b[0m\u001b[0;34m\u001b[0m\u001b[0m\n\u001b[0m\u001b[1;32m    347\u001b[0m \u001b[0;34m\u001b[0m\u001b[0m\n\u001b[1;32m    348\u001b[0m         \u001b[0;32mreturn\u001b[0m \u001b[0mself\u001b[0m\u001b[0;34m\u001b[0m\u001b[0;34m\u001b[0m\u001b[0m\n",
      "\u001b[0;32m~/anaconda3/lib/python3.8/site-packages/imblearn/ensemble/_forest.py\u001b[0m in \u001b[0;36mfit\u001b[0;34m(self, X, y, sample_weight)\u001b[0m\n\u001b[1;32m    530\u001b[0m             \u001b[0;31m# at a higher level, since correctness does not rely on using\u001b[0m\u001b[0;34m\u001b[0m\u001b[0;34m\u001b[0m\u001b[0;34m\u001b[0m\u001b[0m\n\u001b[1;32m    531\u001b[0m             \u001b[0;31m# threads.\u001b[0m\u001b[0;34m\u001b[0m\u001b[0;34m\u001b[0m\u001b[0;34m\u001b[0m\u001b[0m\n\u001b[0;32m--> 532\u001b[0;31m             samplers_trees = Parallel(\n\u001b[0m\u001b[1;32m    533\u001b[0m                 \u001b[0mn_jobs\u001b[0m\u001b[0;34m=\u001b[0m\u001b[0mself\u001b[0m\u001b[0;34m.\u001b[0m\u001b[0mn_jobs\u001b[0m\u001b[0;34m,\u001b[0m \u001b[0mverbose\u001b[0m\u001b[0;34m=\u001b[0m\u001b[0mself\u001b[0m\u001b[0;34m.\u001b[0m\u001b[0mverbose\u001b[0m\u001b[0;34m,\u001b[0m \u001b[0mprefer\u001b[0m\u001b[0;34m=\u001b[0m\u001b[0;34m\"threads\"\u001b[0m\u001b[0;34m\u001b[0m\u001b[0;34m\u001b[0m\u001b[0m\n\u001b[1;32m    534\u001b[0m             \u001b[0;34m)\u001b[0m\u001b[0;34m(\u001b[0m\u001b[0;34m\u001b[0m\u001b[0;34m\u001b[0m\u001b[0m\n",
      "\u001b[0;32m~/anaconda3/lib/python3.8/site-packages/joblib/parallel.py\u001b[0m in \u001b[0;36m__call__\u001b[0;34m(self, iterable)\u001b[0m\n\u001b[1;32m   1052\u001b[0m \u001b[0;34m\u001b[0m\u001b[0m\n\u001b[1;32m   1053\u001b[0m             \u001b[0;32mwith\u001b[0m \u001b[0mself\u001b[0m\u001b[0;34m.\u001b[0m\u001b[0m_backend\u001b[0m\u001b[0;34m.\u001b[0m\u001b[0mretrieval_context\u001b[0m\u001b[0;34m(\u001b[0m\u001b[0;34m)\u001b[0m\u001b[0;34m:\u001b[0m\u001b[0;34m\u001b[0m\u001b[0;34m\u001b[0m\u001b[0m\n\u001b[0;32m-> 1054\u001b[0;31m                 \u001b[0mself\u001b[0m\u001b[0;34m.\u001b[0m\u001b[0mretrieve\u001b[0m\u001b[0;34m(\u001b[0m\u001b[0;34m)\u001b[0m\u001b[0;34m\u001b[0m\u001b[0;34m\u001b[0m\u001b[0m\n\u001b[0m\u001b[1;32m   1055\u001b[0m             \u001b[0;31m# Make sure that we get a last message telling us we are done\u001b[0m\u001b[0;34m\u001b[0m\u001b[0;34m\u001b[0m\u001b[0;34m\u001b[0m\u001b[0m\n\u001b[1;32m   1056\u001b[0m             \u001b[0melapsed_time\u001b[0m \u001b[0;34m=\u001b[0m \u001b[0mtime\u001b[0m\u001b[0;34m.\u001b[0m\u001b[0mtime\u001b[0m\u001b[0;34m(\u001b[0m\u001b[0;34m)\u001b[0m \u001b[0;34m-\u001b[0m \u001b[0mself\u001b[0m\u001b[0;34m.\u001b[0m\u001b[0m_start_time\u001b[0m\u001b[0;34m\u001b[0m\u001b[0;34m\u001b[0m\u001b[0m\n",
      "\u001b[0;32m~/anaconda3/lib/python3.8/site-packages/joblib/parallel.py\u001b[0m in \u001b[0;36mretrieve\u001b[0;34m(self)\u001b[0m\n\u001b[1;32m    931\u001b[0m             \u001b[0;32mtry\u001b[0m\u001b[0;34m:\u001b[0m\u001b[0;34m\u001b[0m\u001b[0;34m\u001b[0m\u001b[0m\n\u001b[1;32m    932\u001b[0m                 \u001b[0;32mif\u001b[0m \u001b[0mgetattr\u001b[0m\u001b[0;34m(\u001b[0m\u001b[0mself\u001b[0m\u001b[0;34m.\u001b[0m\u001b[0m_backend\u001b[0m\u001b[0;34m,\u001b[0m \u001b[0;34m'supports_timeout'\u001b[0m\u001b[0;34m,\u001b[0m \u001b[0;32mFalse\u001b[0m\u001b[0;34m)\u001b[0m\u001b[0;34m:\u001b[0m\u001b[0;34m\u001b[0m\u001b[0;34m\u001b[0m\u001b[0m\n\u001b[0;32m--> 933\u001b[0;31m                     \u001b[0mself\u001b[0m\u001b[0;34m.\u001b[0m\u001b[0m_output\u001b[0m\u001b[0;34m.\u001b[0m\u001b[0mextend\u001b[0m\u001b[0;34m(\u001b[0m\u001b[0mjob\u001b[0m\u001b[0;34m.\u001b[0m\u001b[0mget\u001b[0m\u001b[0;34m(\u001b[0m\u001b[0mtimeout\u001b[0m\u001b[0;34m=\u001b[0m\u001b[0mself\u001b[0m\u001b[0;34m.\u001b[0m\u001b[0mtimeout\u001b[0m\u001b[0;34m)\u001b[0m\u001b[0;34m)\u001b[0m\u001b[0;34m\u001b[0m\u001b[0;34m\u001b[0m\u001b[0m\n\u001b[0m\u001b[1;32m    934\u001b[0m                 \u001b[0;32melse\u001b[0m\u001b[0;34m:\u001b[0m\u001b[0;34m\u001b[0m\u001b[0;34m\u001b[0m\u001b[0m\n\u001b[1;32m    935\u001b[0m                     \u001b[0mself\u001b[0m\u001b[0;34m.\u001b[0m\u001b[0m_output\u001b[0m\u001b[0;34m.\u001b[0m\u001b[0mextend\u001b[0m\u001b[0;34m(\u001b[0m\u001b[0mjob\u001b[0m\u001b[0;34m.\u001b[0m\u001b[0mget\u001b[0m\u001b[0;34m(\u001b[0m\u001b[0;34m)\u001b[0m\u001b[0;34m)\u001b[0m\u001b[0;34m\u001b[0m\u001b[0;34m\u001b[0m\u001b[0m\n",
      "\u001b[0;32m~/anaconda3/lib/python3.8/site-packages/joblib/_parallel_backends.py\u001b[0m in \u001b[0;36mwrap_future_result\u001b[0;34m(future, timeout)\u001b[0m\n\u001b[1;32m    540\u001b[0m         AsyncResults.get from multiprocessing.\"\"\"\n\u001b[1;32m    541\u001b[0m         \u001b[0;32mtry\u001b[0m\u001b[0;34m:\u001b[0m\u001b[0;34m\u001b[0m\u001b[0;34m\u001b[0m\u001b[0m\n\u001b[0;32m--> 542\u001b[0;31m             \u001b[0;32mreturn\u001b[0m \u001b[0mfuture\u001b[0m\u001b[0;34m.\u001b[0m\u001b[0mresult\u001b[0m\u001b[0;34m(\u001b[0m\u001b[0mtimeout\u001b[0m\u001b[0;34m=\u001b[0m\u001b[0mtimeout\u001b[0m\u001b[0;34m)\u001b[0m\u001b[0;34m\u001b[0m\u001b[0;34m\u001b[0m\u001b[0m\n\u001b[0m\u001b[1;32m    543\u001b[0m         \u001b[0;32mexcept\u001b[0m \u001b[0mCfTimeoutError\u001b[0m \u001b[0;32mas\u001b[0m \u001b[0me\u001b[0m\u001b[0;34m:\u001b[0m\u001b[0;34m\u001b[0m\u001b[0;34m\u001b[0m\u001b[0m\n\u001b[1;32m    544\u001b[0m             \u001b[0;32mraise\u001b[0m \u001b[0mTimeoutError\u001b[0m \u001b[0;32mfrom\u001b[0m \u001b[0me\u001b[0m\u001b[0;34m\u001b[0m\u001b[0;34m\u001b[0m\u001b[0m\n",
      "\u001b[0;32m~/anaconda3/lib/python3.8/concurrent/futures/_base.py\u001b[0m in \u001b[0;36mresult\u001b[0;34m(self, timeout)\u001b[0m\n\u001b[1;32m    432\u001b[0m                 \u001b[0;32mreturn\u001b[0m \u001b[0mself\u001b[0m\u001b[0;34m.\u001b[0m\u001b[0m__get_result\u001b[0m\u001b[0;34m(\u001b[0m\u001b[0;34m)\u001b[0m\u001b[0;34m\u001b[0m\u001b[0;34m\u001b[0m\u001b[0m\n\u001b[1;32m    433\u001b[0m \u001b[0;34m\u001b[0m\u001b[0m\n\u001b[0;32m--> 434\u001b[0;31m             \u001b[0mself\u001b[0m\u001b[0;34m.\u001b[0m\u001b[0m_condition\u001b[0m\u001b[0;34m.\u001b[0m\u001b[0mwait\u001b[0m\u001b[0;34m(\u001b[0m\u001b[0mtimeout\u001b[0m\u001b[0;34m)\u001b[0m\u001b[0;34m\u001b[0m\u001b[0;34m\u001b[0m\u001b[0m\n\u001b[0m\u001b[1;32m    435\u001b[0m \u001b[0;34m\u001b[0m\u001b[0m\n\u001b[1;32m    436\u001b[0m             \u001b[0;32mif\u001b[0m \u001b[0mself\u001b[0m\u001b[0;34m.\u001b[0m\u001b[0m_state\u001b[0m \u001b[0;32min\u001b[0m \u001b[0;34m[\u001b[0m\u001b[0mCANCELLED\u001b[0m\u001b[0;34m,\u001b[0m \u001b[0mCANCELLED_AND_NOTIFIED\u001b[0m\u001b[0;34m]\u001b[0m\u001b[0;34m:\u001b[0m\u001b[0;34m\u001b[0m\u001b[0;34m\u001b[0m\u001b[0m\n",
      "\u001b[0;32m~/anaconda3/lib/python3.8/threading.py\u001b[0m in \u001b[0;36mwait\u001b[0;34m(self, timeout)\u001b[0m\n\u001b[1;32m    300\u001b[0m         \u001b[0;32mtry\u001b[0m\u001b[0;34m:\u001b[0m    \u001b[0;31m# restore state no matter what (e.g., KeyboardInterrupt)\u001b[0m\u001b[0;34m\u001b[0m\u001b[0;34m\u001b[0m\u001b[0m\n\u001b[1;32m    301\u001b[0m             \u001b[0;32mif\u001b[0m \u001b[0mtimeout\u001b[0m \u001b[0;32mis\u001b[0m \u001b[0;32mNone\u001b[0m\u001b[0;34m:\u001b[0m\u001b[0;34m\u001b[0m\u001b[0;34m\u001b[0m\u001b[0m\n\u001b[0;32m--> 302\u001b[0;31m                 \u001b[0mwaiter\u001b[0m\u001b[0;34m.\u001b[0m\u001b[0macquire\u001b[0m\u001b[0;34m(\u001b[0m\u001b[0;34m)\u001b[0m\u001b[0;34m\u001b[0m\u001b[0;34m\u001b[0m\u001b[0m\n\u001b[0m\u001b[1;32m    303\u001b[0m                 \u001b[0mgotit\u001b[0m \u001b[0;34m=\u001b[0m \u001b[0;32mTrue\u001b[0m\u001b[0;34m\u001b[0m\u001b[0;34m\u001b[0m\u001b[0m\n\u001b[1;32m    304\u001b[0m             \u001b[0;32melse\u001b[0m\u001b[0;34m:\u001b[0m\u001b[0;34m\u001b[0m\u001b[0;34m\u001b[0m\u001b[0m\n",
      "\u001b[0;31mKeyboardInterrupt\u001b[0m: "
     ]
    }
   ],
   "source": []
  },
  {
   "cell_type": "code",
   "execution_count": 30,
   "id": "115151a2",
   "metadata": {},
   "outputs": [
    {
     "data": {
      "text/plain": [
       "<AxesSubplot:>"
      ]
     },
     "execution_count": 30,
     "metadata": {},
     "output_type": "execute_result"
    },
    {
     "data": {
      "image/png": "[encoded data removed]",
      "text/plain": [
       "<Figure size 432x288 with 2 Axes>"
      ]
     },
     "metadata": {
      "needs_background": "light"
     },
     "output_type": "display_data"
    }
   ],
   "source": [
    "y_Balancedpredict=winner_BalancedRandomForestClassifier.predict(X_test)\n",
    "my_Balancedconfusion=confusion_matrix(y_test,y_Balancedpredict)\n",
    "import seaborn as sns\n",
    "sns.heatmap(my_Balancedconfusion/np.sum(my_Balancedconfusion), annot=True, \n",
    "            fmt='.2%', cmap='Blues')"
   ]
  },
  {
   "cell_type": "code",
   "execution_count": 31,
   "id": "589f4ad1",
   "metadata": {},
   "outputs": [
    {
     "data": {
      "image/png": "[encoded data removed]",
      "text/plain": [
       "<Figure size 432x288 with 1 Axes>"
      ]
     },
     "metadata": {
      "needs_background": "light"
     },
     "output_type": "display_data"
    }
   ],
   "source": [
    "forest=winner_BalancedRandomForestClassifier['my_BalancedRandomForestClassifier']\n",
    "importances = forest.feature_importances_\n",
    "#feature_names = [f\"feature {i}\" for i in range(X.shape[1])]\n",
    "feature_names = [i for i in range(X.shape[1])]\n",
    "forest_importances = pd.Series(importances, index=feature_names)\n",
    "forest_importances.sort_values(ascending=False,inplace=True)\n",
    "plt.hist(forest_importances,bins=100)\n",
    "plt.show()"
   ]
  },
  {
   "cell_type": "code",
   "execution_count": 32,
   "id": "c6feb518",
   "metadata": {},
   "outputs": [],
   "source": [
    "forest_importances=forest_importances.iloc[0:50]\n",
    "feature_names=forest_importances.index.to_list()\n",
    "std = np.std([tree.feature_importances_ for tree in forest.estimators_], axis=0)\n",
    "std=std[forest_importances.index]"
   ]
  },
  {
   "cell_type": "code",
   "execution_count": 33,
   "id": "44ae1382",
   "metadata": {},
   "outputs": [
    {
     "data": {
      "image/png": "[encoded data removed]",
      "text/plain": [
       "<Figure size 720x720 with 1 Axes>"
      ]
     },
     "metadata": {
      "needs_background": "light"
     },
     "output_type": "display_data"
    }
   ],
   "source": [
    "fig, ax = plt.subplots(figsize=(10,10))\n",
    "forest_importances.plot.bar(yerr=std, ax=ax)\n",
    "ax.set_title(\"Feature importances using MDI\")\n",
    "ax.set_ylabel(\"Mean decrease in impurity\")\n",
    "fig.tight_layout()"
   ]
  },
  {
   "cell_type": "code",
   "execution_count": 34,
   "id": "e3112d37",
   "metadata": {},
   "outputs": [
    {
     "data": {
      "text/plain": [
       "Int64Index([374,   2, 696, 697, 185, 186, 287, 643,  19, 364, 391, 257, 392,\n",
       "             23, 181, 712,  12, 528, 143, 540, 656,  15, 338, 452, 340,   1,\n",
       "            593,  20, 645, 611, 335, 692, 346, 451, 345, 406, 672, 569, 308,\n",
       "            180,   3, 440, 299, 717, 366, 628, 535, 439, 671, 617],\n",
       "           dtype='int64')"
      ]
     },
     "execution_count": 34,
     "metadata": {},
     "output_type": "execute_result"
    }
   ],
   "source": [
    "forest_importances.index"
   ]
  },
  {
   "cell_type": "code",
   "execution_count": null,
   "id": "fe303d60",
   "metadata": {},
   "outputs": [],
   "source": []
  },
  {
   "cell_type": "code",
   "execution_count": null,
   "id": "badb0338",
   "metadata": {},
   "outputs": [],
   "source": []
  },
  {
   "cell_type": "code",
   "execution_count": null,
   "id": "6b4d95a1",
   "metadata": {},
   "outputs": [],
   "source": []
  },
  {
   "cell_type": "code",
   "execution_count": null,
   "id": "366d45a0",
   "metadata": {},
   "outputs": [],
   "source": []
  },
  {
   "cell_type": "code",
   "execution_count": null,
   "id": "b31b436a",
   "metadata": {},
   "outputs": [],
   "source": []
  },
  {
   "cell_type": "code",
   "execution_count": null,
   "id": "9b8b9941",
   "metadata": {},
   "outputs": [],
   "source": []
  },
  {
   "cell_type": "code",
   "execution_count": 35,
   "id": "b968f219",
   "metadata": {},
   "outputs": [],
   "source": [
    "### BEGIN MONA TEST ###"
   ]
  },
  {
   "cell_type": "code",
   "execution_count": 36,
   "id": "96cc444d",
   "metadata": {},
   "outputs": [],
   "source": [
    "mona_input_address='/home/rictuar/coding_projects/fiehn_work/cfmid/cfmid_redo/results/compound_exploration/mona/[M+H]+_mona_cohort_fingerprints.bin'"
   ]
  },
  {
   "cell_type": "code",
   "execution_count": 37,
   "id": "3cc9a566",
   "metadata": {},
   "outputs": [],
   "source": [
    "mona_dataset=pd.read_pickle(mona_input_address)"
   ]
  },
  {
   "cell_type": "code",
   "execution_count": 38,
   "id": "11cc8480",
   "metadata": {},
   "outputs": [],
   "source": [
    "mona_X=np.array(mona_dataset.fingerprint_array.to_list())\n",
    "mona_y=np.array(mona_dataset.dot_product.to_list())\n",
    "mona_y=1-mona_y"
   ]
  },
  {
   "cell_type": "code",
   "execution_count": 39,
   "id": "63006024",
   "metadata": {},
   "outputs": [
    {
     "data": {
      "image/png": "[encoded data removed]",
      "text/plain": [
       "<Figure size 432x288 with 1 Axes>"
      ]
     },
     "metadata": {
      "needs_background": "light"
     },
     "output_type": "display_data"
    }
   ],
   "source": [
    "plt.hist(mona_y)\n",
    "plt.show()"
   ]
  },
  {
   "cell_type": "code",
   "execution_count": 40,
   "id": "f0d23107",
   "metadata": {},
   "outputs": [],
   "source": [
    "mona_y[mona_y>=0.7]=1\n",
    "mona_y[mona_y<0.7]=0\n"
   ]
  },
  {
   "cell_type": "code",
   "execution_count": 41,
   "id": "f4034454",
   "metadata": {},
   "outputs": [
    {
     "data": {
      "image/png": "[encoded data removed]",
      "text/plain": [
       "<Figure size 432x288 with 1 Axes>"
      ]
     },
     "metadata": {
      "needs_background": "light"
     },
     "output_type": "display_data"
    }
   ],
   "source": [
    "plt.hist(mona_y)\n",
    "plt.show()"
   ]
  },
  {
   "cell_type": "code",
   "execution_count": 42,
   "id": "cfac1ad3",
   "metadata": {},
   "outputs": [
    {
     "data": {
      "text/plain": [
       "<AxesSubplot:>"
      ]
     },
     "execution_count": 42,
     "metadata": {},
     "output_type": "execute_result"
    },
    {
     "data": {
      "image/png": "[encoded data removed]",
      "text/plain": [
       "<Figure size 432x288 with 2 Axes>"
      ]
     },
     "metadata": {
      "needs_background": "light"
     },
     "output_type": "display_data"
    }
   ],
   "source": [
    "mona_y_Balancedpredict=winner_BalancedRandomForestClassifier.predict(mona_X)\n",
    "mona_my_Balancedconfusion=confusion_matrix(mona_y,mona_y_Balancedpredict)\n",
    "sns.heatmap(mona_my_Balancedconfusion/np.sum(mona_my_Balancedconfusion), annot=True, \n",
    "            fmt='.2%', cmap='Blues')"
   ]
  },
  {
   "cell_type": "code",
   "execution_count": null,
   "id": "451bd49a",
   "metadata": {},
   "outputs": [],
   "source": []
  },
  {
   "cell_type": "code",
   "execution_count": null,
   "id": "f7c4693d",
   "metadata": {},
   "outputs": [],
   "source": []
  },
  {
   "cell_type": "code",
   "execution_count": null,
   "id": "462c19fc",
   "metadata": {},
   "outputs": [],
   "source": []
  },
  {
   "cell_type": "code",
   "execution_count": null,
   "id": "dd987e79",
   "metadata": {},
   "outputs": [],
   "source": []
  },
  {
   "cell_type": "code",
   "execution_count": null,
   "id": "bf3a1196",
   "metadata": {},
   "outputs": [],
   "source": []
  }
 ],
 "metadata": {
  "kernelspec": {
   "display_name": "Python 3",
   "language": "python",
   "name": "python3"
  },
  "language_info": {
   "codemirror_mode": {
    "name": "ipython",
    "version": 3
   },
   "file_extension": ".py",
   "mimetype": "text/x-python",
   "name": "python",
   "nbconvert_exporter": "python",
   "pygments_lexer": "ipython3",
   "version": "3.8.8"
  }
 },
 "nbformat": 4,
 "nbformat_minor": 5
}
