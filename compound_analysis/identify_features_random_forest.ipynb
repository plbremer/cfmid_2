{
 "cells": [
  {
   "cell_type": "code",
   "execution_count": 254,
   "id": "695c03bc",
   "metadata": {},
   "outputs": [],
   "source": [
    "import numpy as np\n",
    "import pandas as pd\n",
    "from sklearn.utils import shuffle\n",
    "from sklearn.ensemble import RandomForestRegressor\n",
    "import matplotlib.pyplot as plt\n",
    "from sklearn.pipeline import Pipeline\n",
    "from sklearn.model_selection import GridSearchCV\n",
    "from sklearn.linear_model import LinearRegression\n",
    "from sklearn.preprocessing import StandardScaler"
   ]
  },
  {
   "cell_type": "code",
   "execution_count": null,
   "id": "92472b15",
   "metadata": {},
   "outputs": [],
   "source": []
  },
  {
   "cell_type": "code",
   "execution_count": 184,
   "id": "85e162fc",
   "metadata": {},
   "outputs": [],
   "source": [
    "cohort_input_address='/home/rictuar/coding_projects/fiehn_work/cfmid/cfmid_redo/results/compound_exploration/[M+H]+_hcd_cohort_fingerprints.bin'"
   ]
  },
  {
   "cell_type": "code",
   "execution_count": 185,
   "id": "7395af24",
   "metadata": {},
   "outputs": [],
   "source": [
    "dataset=pd.read_pickle(cohort_input_address)"
   ]
  },
  {
   "cell_type": "code",
   "execution_count": 186,
   "id": "d790ced9",
   "metadata": {},
   "outputs": [
    {
     "data": {
      "text/html": [
       "<div>\n",
       "<style scoped>\n",
       "    .dataframe tbody tr th:only-of-type {\n",
       "        vertical-align: middle;\n",
       "    }\n",
       "\n",
       "    .dataframe tbody tr th {\n",
       "        vertical-align: top;\n",
       "    }\n",
       "\n",
       "    .dataframe thead th {\n",
       "        text-align: right;\n",
       "    }\n",
       "</style>\n",
       "<table border=\"1\" class=\"dataframe\">\n",
       "  <thead>\n",
       "    <tr style=\"text-align: right;\">\n",
       "      <th></th>\n",
       "      <th>InChIKey</th>\n",
       "      <th>cactvs_fingerprint</th>\n",
       "      <th>metlin_adduct_or_nist</th>\n",
       "      <th>cid</th>\n",
       "      <th>inchikey</th>\n",
       "      <th>dot_product</th>\n",
       "      <th>exp_energy_parsed</th>\n",
       "      <th>fingerprint_array</th>\n",
       "    </tr>\n",
       "  </thead>\n",
       "  <tbody>\n",
       "    <tr>\n",
       "      <th>0</th>\n",
       "      <td>WDUMYOXRHLWOIR-UHFFFAOYSA-N</td>\n",
       "      <td>1000000001110011000000000000000000000000000100...</td>\n",
       "      <td>nist</td>\n",
       "      <td>28058793.0</td>\n",
       "      <td>WDUMYOXRHLWOIR-UHFFFAOYSA-N</td>\n",
       "      <td>0.987620</td>\n",
       "      <td>39.0</td>\n",
       "      <td>[1, 0, 0, 0, 0, 0, 0, 0, 0, 1, 1, 1, 0, 0, 1, ...</td>\n",
       "    </tr>\n",
       "    <tr>\n",
       "      <th>3</th>\n",
       "      <td>IVSBFRVZTXHJLR-UHFFFAOYSA-N</td>\n",
       "      <td>1100000001110011001100000000000001000000000000...</td>\n",
       "      <td>nist</td>\n",
       "      <td>315800.0</td>\n",
       "      <td>IVSBFRVZTXHJLR-UHFFFAOYSA-N</td>\n",
       "      <td>0.855915</td>\n",
       "      <td>37.0</td>\n",
       "      <td>[1, 1, 0, 0, 0, 0, 0, 0, 0, 1, 1, 1, 0, 0, 1, ...</td>\n",
       "    </tr>\n",
       "    <tr>\n",
       "      <th>4</th>\n",
       "      <td>BJVLFJADOVATRU-UHFFFAOYSA-N</td>\n",
       "      <td>1100000001110000001100000000000000000000000000...</td>\n",
       "      <td>nist</td>\n",
       "      <td>747832.0</td>\n",
       "      <td>BJVLFJADOVATRU-UHFFFAOYSA-N</td>\n",
       "      <td>0.889937</td>\n",
       "      <td>38.0</td>\n",
       "      <td>[1, 1, 0, 0, 0, 0, 0, 0, 0, 1, 1, 1, 0, 0, 0, ...</td>\n",
       "    </tr>\n",
       "    <tr>\n",
       "      <th>5</th>\n",
       "      <td>YAUZWMLHLWHCLG-UHFFFAOYSA-N</td>\n",
       "      <td>1100000001110000001110000000000000000000000100...</td>\n",
       "      <td>nist</td>\n",
       "      <td>221498.0</td>\n",
       "      <td>YAUZWMLHLWHCLG-UHFFFAOYSA-N</td>\n",
       "      <td>0.996398</td>\n",
       "      <td>39.0</td>\n",
       "      <td>[1, 1, 0, 0, 0, 0, 0, 0, 0, 1, 1, 1, 0, 0, 0, ...</td>\n",
       "    </tr>\n",
       "    <tr>\n",
       "      <th>9</th>\n",
       "      <td>ZKLSFAKJJJDQSA-UHFFFAOYSA-N</td>\n",
       "      <td>1110000001110011001000000000000000000000000000...</td>\n",
       "      <td>nist</td>\n",
       "      <td>3328378.0</td>\n",
       "      <td>ZKLSFAKJJJDQSA-UHFFFAOYSA-N</td>\n",
       "      <td>0.280932</td>\n",
       "      <td>40.0</td>\n",
       "      <td>[1, 1, 1, 0, 0, 0, 0, 0, 0, 1, 1, 1, 0, 0, 1, ...</td>\n",
       "    </tr>\n",
       "    <tr>\n",
       "      <th>...</th>\n",
       "      <td>...</td>\n",
       "      <td>...</td>\n",
       "      <td>...</td>\n",
       "      <td>...</td>\n",
       "      <td>...</td>\n",
       "      <td>...</td>\n",
       "      <td>...</td>\n",
       "      <td>...</td>\n",
       "    </tr>\n",
       "    <tr>\n",
       "      <th>15951</th>\n",
       "      <td>AZVXNMOQCHVDQG-UHFFFAOYSA-N</td>\n",
       "      <td>0000000001100011000000000000000001000100000000...</td>\n",
       "      <td>nist</td>\n",
       "      <td>333028.0</td>\n",
       "      <td>AZVXNMOQCHVDQG-UHFFFAOYSA-N</td>\n",
       "      <td>1.000000</td>\n",
       "      <td>36.0</td>\n",
       "      <td>[0, 0, 0, 0, 0, 0, 0, 0, 0, 1, 1, 0, 0, 0, 1, ...</td>\n",
       "    </tr>\n",
       "    <tr>\n",
       "      <th>15952</th>\n",
       "      <td>RMCQCVYGHWTDSP-UHFFFAOYSA-N</td>\n",
       "      <td>1100000001110010001000000000000000000000000100...</td>\n",
       "      <td>nist</td>\n",
       "      <td>12137098.0</td>\n",
       "      <td>RMCQCVYGHWTDSP-UHFFFAOYSA-N</td>\n",
       "      <td>1.000000</td>\n",
       "      <td>42.0</td>\n",
       "      <td>[1, 1, 0, 0, 0, 0, 0, 0, 0, 1, 1, 1, 0, 0, 1, ...</td>\n",
       "    </tr>\n",
       "    <tr>\n",
       "      <th>15955</th>\n",
       "      <td>HUKQFKKFOGVZGH-UHFFFAOYSA-N</td>\n",
       "      <td>1000000001100010001000000000000000000110000100...</td>\n",
       "      <td>nist</td>\n",
       "      <td>11289725.0</td>\n",
       "      <td>HUKQFKKFOGVZGH-UHFFFAOYSA-N</td>\n",
       "      <td>0.997734</td>\n",
       "      <td>37.0</td>\n",
       "      <td>[1, 0, 0, 0, 0, 0, 0, 0, 0, 1, 1, 0, 0, 0, 1, ...</td>\n",
       "    </tr>\n",
       "    <tr>\n",
       "      <th>15957</th>\n",
       "      <td>MNDACYDFCGIUAF-UHFFFAOYSA-N</td>\n",
       "      <td>1000000001110011100000000000000001000000000000...</td>\n",
       "      <td>nist</td>\n",
       "      <td>295675.0</td>\n",
       "      <td>MNDACYDFCGIUAF-UHFFFAOYSA-N</td>\n",
       "      <td>0.586894</td>\n",
       "      <td>42.0</td>\n",
       "      <td>[1, 0, 0, 0, 0, 0, 0, 0, 0, 1, 1, 1, 0, 0, 1, ...</td>\n",
       "    </tr>\n",
       "    <tr>\n",
       "      <th>15960</th>\n",
       "      <td>JDPITNFDYXOKRM-UHFFFAOYSA-N</td>\n",
       "      <td>1000000001110010001000000000000001100000000000...</td>\n",
       "      <td>nist</td>\n",
       "      <td>2830679.0</td>\n",
       "      <td>JDPITNFDYXOKRM-UHFFFAOYSA-N</td>\n",
       "      <td>0.974444</td>\n",
       "      <td>39.0</td>\n",
       "      <td>[1, 0, 0, 0, 0, 0, 0, 0, 0, 1, 1, 1, 0, 0, 1, ...</td>\n",
       "    </tr>\n",
       "  </tbody>\n",
       "</table>\n",
       "<p>8298 rows × 8 columns</p>\n",
       "</div>"
      ],
      "text/plain": [
       "                          InChIKey  \\\n",
       "0      WDUMYOXRHLWOIR-UHFFFAOYSA-N   \n",
       "3      IVSBFRVZTXHJLR-UHFFFAOYSA-N   \n",
       "4      BJVLFJADOVATRU-UHFFFAOYSA-N   \n",
       "5      YAUZWMLHLWHCLG-UHFFFAOYSA-N   \n",
       "9      ZKLSFAKJJJDQSA-UHFFFAOYSA-N   \n",
       "...                            ...   \n",
       "15951  AZVXNMOQCHVDQG-UHFFFAOYSA-N   \n",
       "15952  RMCQCVYGHWTDSP-UHFFFAOYSA-N   \n",
       "15955  HUKQFKKFOGVZGH-UHFFFAOYSA-N   \n",
       "15957  MNDACYDFCGIUAF-UHFFFAOYSA-N   \n",
       "15960  JDPITNFDYXOKRM-UHFFFAOYSA-N   \n",
       "\n",
       "                                      cactvs_fingerprint  \\\n",
       "0      1000000001110011000000000000000000000000000100...   \n",
       "3      1100000001110011001100000000000001000000000000...   \n",
       "4      1100000001110000001100000000000000000000000000...   \n",
       "5      1100000001110000001110000000000000000000000100...   \n",
       "9      1110000001110011001000000000000000000000000000...   \n",
       "...                                                  ...   \n",
       "15951  0000000001100011000000000000000001000100000000...   \n",
       "15952  1100000001110010001000000000000000000000000100...   \n",
       "15955  1000000001100010001000000000000000000110000100...   \n",
       "15957  1000000001110011100000000000000001000000000000...   \n",
       "15960  1000000001110010001000000000000001100000000000...   \n",
       "\n",
       "      metlin_adduct_or_nist         cid                     inchikey  \\\n",
       "0                      nist  28058793.0  WDUMYOXRHLWOIR-UHFFFAOYSA-N   \n",
       "3                      nist    315800.0  IVSBFRVZTXHJLR-UHFFFAOYSA-N   \n",
       "4                      nist    747832.0  BJVLFJADOVATRU-UHFFFAOYSA-N   \n",
       "5                      nist    221498.0  YAUZWMLHLWHCLG-UHFFFAOYSA-N   \n",
       "9                      nist   3328378.0  ZKLSFAKJJJDQSA-UHFFFAOYSA-N   \n",
       "...                     ...         ...                          ...   \n",
       "15951                  nist    333028.0  AZVXNMOQCHVDQG-UHFFFAOYSA-N   \n",
       "15952                  nist  12137098.0  RMCQCVYGHWTDSP-UHFFFAOYSA-N   \n",
       "15955                  nist  11289725.0  HUKQFKKFOGVZGH-UHFFFAOYSA-N   \n",
       "15957                  nist    295675.0  MNDACYDFCGIUAF-UHFFFAOYSA-N   \n",
       "15960                  nist   2830679.0  JDPITNFDYXOKRM-UHFFFAOYSA-N   \n",
       "\n",
       "       dot_product  exp_energy_parsed  \\\n",
       "0         0.987620               39.0   \n",
       "3         0.855915               37.0   \n",
       "4         0.889937               38.0   \n",
       "5         0.996398               39.0   \n",
       "9         0.280932               40.0   \n",
       "...            ...                ...   \n",
       "15951     1.000000               36.0   \n",
       "15952     1.000000               42.0   \n",
       "15955     0.997734               37.0   \n",
       "15957     0.586894               42.0   \n",
       "15960     0.974444               39.0   \n",
       "\n",
       "                                       fingerprint_array  \n",
       "0      [1, 0, 0, 0, 0, 0, 0, 0, 0, 1, 1, 1, 0, 0, 1, ...  \n",
       "3      [1, 1, 0, 0, 0, 0, 0, 0, 0, 1, 1, 1, 0, 0, 1, ...  \n",
       "4      [1, 1, 0, 0, 0, 0, 0, 0, 0, 1, 1, 1, 0, 0, 0, ...  \n",
       "5      [1, 1, 0, 0, 0, 0, 0, 0, 0, 1, 1, 1, 0, 0, 0, ...  \n",
       "9      [1, 1, 1, 0, 0, 0, 0, 0, 0, 1, 1, 1, 0, 0, 1, ...  \n",
       "...                                                  ...  \n",
       "15951  [0, 0, 0, 0, 0, 0, 0, 0, 0, 1, 1, 0, 0, 0, 1, ...  \n",
       "15952  [1, 1, 0, 0, 0, 0, 0, 0, 0, 1, 1, 1, 0, 0, 1, ...  \n",
       "15955  [1, 0, 0, 0, 0, 0, 0, 0, 0, 1, 1, 0, 0, 0, 1, ...  \n",
       "15957  [1, 0, 0, 0, 0, 0, 0, 0, 0, 1, 1, 1, 0, 0, 1, ...  \n",
       "15960  [1, 0, 0, 0, 0, 0, 0, 0, 0, 1, 1, 1, 0, 0, 1, ...  \n",
       "\n",
       "[8298 rows x 8 columns]"
      ]
     },
     "execution_count": 186,
     "metadata": {},
     "output_type": "execute_result"
    }
   ],
   "source": [
    "dataset"
   ]
  },
  {
   "cell_type": "code",
   "execution_count": 187,
   "id": "25a9b9f5",
   "metadata": {},
   "outputs": [],
   "source": [
    "dataset=shuffle(dataset,random_state=1337)\n",
    "dataset.reset_index(inplace=True)"
   ]
  },
  {
   "cell_type": "code",
   "execution_count": 188,
   "id": "3d54e99f",
   "metadata": {},
   "outputs": [
    {
     "data": {
      "text/plain": [
       "881"
      ]
     },
     "execution_count": 188,
     "metadata": {},
     "output_type": "execute_result"
    }
   ],
   "source": [
    "len(X[0])"
   ]
  },
  {
   "cell_type": "code",
   "execution_count": 189,
   "id": "25462b85",
   "metadata": {},
   "outputs": [],
   "source": [
    "X=np.array(dataset.fingerprint_array.to_list())"
   ]
  },
  {
   "cell_type": "code",
   "execution_count": 190,
   "id": "0d8971a1",
   "metadata": {},
   "outputs": [
    {
     "data": {
      "text/plain": [
       "array([1, 1, 0, ..., 1, 1, 1])"
      ]
     },
     "execution_count": 190,
     "metadata": {},
     "output_type": "execute_result"
    }
   ],
   "source": [
    "#test for other script\n",
    "X[:,1]"
   ]
  },
  {
   "cell_type": "code",
   "execution_count": 191,
   "id": "be97a346",
   "metadata": {},
   "outputs": [
    {
     "data": {
      "text/plain": [
       "array([[1, 1, 1, ..., 0, 0, 0],\n",
       "       [1, 1, 1, ..., 0, 0, 0],\n",
       "       [1, 0, 0, ..., 0, 0, 0],\n",
       "       ...,\n",
       "       [1, 1, 0, ..., 0, 0, 0],\n",
       "       [1, 1, 0, ..., 0, 0, 0],\n",
       "       [1, 1, 0, ..., 0, 0, 0]])"
      ]
     },
     "execution_count": 191,
     "metadata": {},
     "output_type": "execute_result"
    }
   ],
   "source": [
    "X"
   ]
  },
  {
   "cell_type": "code",
   "execution_count": 192,
   "id": "3b359c0e",
   "metadata": {},
   "outputs": [],
   "source": [
    "y=np.array(dataset.dot_product.to_list())"
   ]
  },
  {
   "cell_type": "code",
   "execution_count": 193,
   "id": "4714c0d7",
   "metadata": {},
   "outputs": [
    {
     "data": {
      "text/plain": [
       "6638.0"
      ]
     },
     "execution_count": 193,
     "metadata": {},
     "output_type": "execute_result"
    }
   ],
   "source": [
    "np.floor(0.8*len(X))"
   ]
  },
  {
   "cell_type": "code",
   "execution_count": 266,
   "id": "b8dccc82",
   "metadata": {},
   "outputs": [],
   "source": [
    "X_train=X[0:int(np.floor(0.8*len(X)))]\n",
    "y_train=y[0:int(np.floor(0.8*len(y)))]\n",
    "X_test=X[int(np.floor(0.8*len(X))):]\n",
    "y_test=y[int(np.floor(0.8*len(y))):]\n"
   ]
  },
  {
   "cell_type": "code",
   "execution_count": 195,
   "id": "10630f2c",
   "metadata": {},
   "outputs": [
    {
     "name": "stdout",
     "output_type": "stream",
     "text": [
      "6638\n",
      "6638\n",
      "1660\n",
      "1660\n"
     ]
    }
   ],
   "source": [
    "print(len(X_train))\n",
    "print(len(y_train))\n",
    "print(len(X_test))\n",
    "print(len(y_test))"
   ]
  },
  {
   "cell_type": "code",
   "execution_count": 196,
   "id": "d58e8748",
   "metadata": {},
   "outputs": [
    {
     "data": {
      "image/png": "[encoded data removed]",
      "text/plain": [
       "<Figure size 432x288 with 1 Axes>"
      ]
     },
     "metadata": {
      "needs_background": "light"
     },
     "output_type": "display_data"
    }
   ],
   "source": [
    "plt.hist(y_train,bins=20)\n",
    "plt.show()"
   ]
  },
  {
   "cell_type": "code",
   "execution_count": 197,
   "id": "85a6d05c",
   "metadata": {},
   "outputs": [
    {
     "data": {
      "image/png": "[encoded data removed]",
      "text/plain": [
       "<Figure size 432x288 with 1 Axes>"
      ]
     },
     "metadata": {
      "needs_background": "light"
     },
     "output_type": "display_data"
    }
   ],
   "source": [
    "plt.hist(y_test,bins=20)\n",
    "plt.show()"
   ]
  },
  {
   "cell_type": "code",
   "execution_count": 198,
   "id": "78a3a7f2",
   "metadata": {},
   "outputs": [],
   "source": [
    "\n",
    "my_RandomForestRegressor_Pipeline=Pipeline(\n",
    "    [\n",
    "        #('my_StandardScaler',StandardScaler()),\n",
    "        ('my_RandomForestRegressor',RandomForestRegressor())\n",
    "    ]\n",
    ")\n",
    "my_RandomForestRegressor_parameters=[\n",
    "    {\n",
    "        'my_RandomForestRegressor__n_estimators':[10,20,40,100,200],\n",
    "        'my_RandomForestRegressor__n_jobs':[4],\n",
    "        'my_RandomForestRegressor__random_state':[1337]#,\n",
    "        #'my_RandomForestRegressor__max_depth':[5]\n",
    "        \n",
    "    }\n",
    "]"
   ]
  },
  {
   "cell_type": "code",
   "execution_count": 199,
   "id": "71f2724d",
   "metadata": {},
   "outputs": [
    {
     "name": "stdout",
     "output_type": "stream",
     "text": [
      "0.21584832707430543 {'my_RandomForestRegressor__n_estimators': 10, 'my_RandomForestRegressor__n_jobs': 4, 'my_RandomForestRegressor__random_state': 1337}\n",
      "0.21191127369105325 {'my_RandomForestRegressor__n_estimators': 20, 'my_RandomForestRegressor__n_jobs': 4, 'my_RandomForestRegressor__random_state': 1337}\n",
      "0.2084101371391132 {'my_RandomForestRegressor__n_estimators': 40, 'my_RandomForestRegressor__n_jobs': 4, 'my_RandomForestRegressor__random_state': 1337}\n",
      "0.2065882665103466 {'my_RandomForestRegressor__n_estimators': 100, 'my_RandomForestRegressor__n_jobs': 4, 'my_RandomForestRegressor__random_state': 1337}\n",
      "0.20585855927307206 {'my_RandomForestRegressor__n_estimators': 200, 'my_RandomForestRegressor__n_jobs': 4, 'my_RandomForestRegressor__random_state': 1337}\n"
     ]
    }
   ],
   "source": [
    "my_RandomForestRegressor_Gridsearch=GridSearchCV(\n",
    "    my_RandomForestRegressor_Pipeline,\n",
    "    my_RandomForestRegressor_parameters,\n",
    "    cv=5,\n",
    "    scoring='neg_mean_squared_error',\n",
    "    return_train_score=True\n",
    ")\n",
    "\n",
    "my_RandomForestRegressor_Gridsearch.fit(X_train,y_train)\n",
    "\n",
    "my_RandomForestRegressor_Gridsearch_results=my_RandomForestRegressor_Gridsearch.cv_results_\n",
    "for mean_score, params in zip(my_RandomForestRegressor_Gridsearch_results[\"mean_test_score\"],my_RandomForestRegressor_Gridsearch_results[\"params\"]):\n",
    "    print(np.sqrt(-mean_score), params)\n",
    "    \n",
    "winner_RandomForestRegressor=my_RandomForestRegressor_Gridsearch.best_estimator_\n"
   ]
  },
  {
   "cell_type": "code",
   "execution_count": 200,
   "id": "7cc2e9a7",
   "metadata": {},
   "outputs": [],
   "source": [
    "#define a function to visualize how good each \"winning model\" does\n",
    "def plot_real_and_predict(temp_winning_model,temp_X_test,temp_y_test):\n",
    "    '''\n",
    "    Greetings\n",
    "    '''\n",
    "    temp_predictions=temp_winning_model.predict(temp_X_test)\n",
    "    difference_array=np.subtract(np.array(temp_predictions),np.array(temp_y_test))\n",
    "    #average_array=np.add(np.array(temp_predictions),np.array(temp_y_test))/2\n",
    "    #percent_error_array=np.divide(100*difference_array,average_array)\n",
    "    #plt.hist(percent_error_array,bins=100)\n",
    "    plt.hist(difference_array,bins=100)\n",
    "    plt.xlabel('dif')\n",
    "    plt.ylabel('number of compounds')\n",
    "    plt.show()"
   ]
  },
  {
   "cell_type": "code",
   "execution_count": 201,
   "id": "3259d14f",
   "metadata": {},
   "outputs": [
    {
     "data": {
      "image/png": "[encoded data removed]",
      "text/plain": [
       "<Figure size 432x288 with 1 Axes>"
      ]
     },
     "metadata": {
      "needs_background": "light"
     },
     "output_type": "display_data"
    }
   ],
   "source": [
    "plot_real_and_predict(winner_RandomForestRegressor,X_test,y_test)"
   ]
  },
  {
   "cell_type": "code",
   "execution_count": 221,
   "id": "67813cad",
   "metadata": {},
   "outputs": [],
   "source": [
    "forest=winner_RandomForestRegressor['my_RandomForestRegressor']"
   ]
  },
  {
   "cell_type": "code",
   "execution_count": null,
   "id": "3d8b866e",
   "metadata": {},
   "outputs": [],
   "source": []
  },
  {
   "cell_type": "code",
   "execution_count": 222,
   "id": "064221d1",
   "metadata": {},
   "outputs": [],
   "source": [
    "importances = forest.feature_importances_\n",
    "#feature_names = [f\"feature {i}\" for i in range(X.shape[1])]\n",
    "feature_names = [i for i in range(X.shape[1])]\n",
    "forest_importances = pd.Series(importances, index=feature_names)\n",
    "forest_importances.sort_values(ascending=False,inplace=True)\n",
    "plt.hist(forest_importances,bins=100)\n",
    "plt.show()"
   ]
  },
  {
   "cell_type": "code",
   "execution_count": 220,
   "id": "dca63946",
   "metadata": {},
   "outputs": [
    {
     "data": {
      "text/plain": [
       "1      0.056075\n",
       "20     0.023689\n",
       "374    0.014776\n",
       "696    0.010691\n",
       "712    0.009819\n",
       "2      0.008683\n",
       "186    0.008140\n",
       "643    0.007763\n",
       "19     0.007715\n",
       "600    0.007416\n",
       "528    0.007226\n",
       "697    0.007209\n",
       "392    0.007114\n",
       "15     0.006768\n",
       "dtype: float64"
      ]
     },
     "execution_count": 220,
     "metadata": {},
     "output_type": "execute_result"
    }
   ],
   "source": [
    "forest_importances=forest_importances.iloc[0:50]\n",
    "feature_names=forest_importances.index.to_list()\n",
    "std = np.std([tree.feature_importances_ for tree in forest.estimators_], axis=0)\n",
    "std=std[forest_importances.index]"
   ]
  },
  {
   "cell_type": "code",
   "execution_count": 223,
   "id": "ed16472a",
   "metadata": {},
   "outputs": [],
   "source": [
    "fig, ax = plt.subplots(figsize=(10,10))\n",
    "forest_importances.plot.bar(yerr=std, ax=ax)\n",
    "ax.set_title(\"Feature importances using MDI\")\n",
    "ax.set_ylabel(\"Mean decrease in impurity\")\n",
    "fig.tight_layout()"
   ]
  },
  {
   "cell_type": "code",
   "execution_count": null,
   "id": "59208fd0",
   "metadata": {},
   "outputs": [],
   "source": [
    "\n"
   ]
  },
  {
   "cell_type": "code",
   "execution_count": null,
   "id": "11ab6f04",
   "metadata": {},
   "outputs": [],
   "source": []
  },
  {
   "cell_type": "code",
   "execution_count": null,
   "id": "90a22624",
   "metadata": {},
   "outputs": [],
   "source": []
  },
  {
   "cell_type": "code",
   "execution_count": 243,
   "id": "f73f099d",
   "metadata": {},
   "outputs": [],
   "source": []
  },
  {
   "cell_type": "code",
   "execution_count": 244,
   "id": "75bf18b3",
   "metadata": {},
   "outputs": [],
   "source": [
    "\n",
    "\n"
   ]
  },
  {
   "cell_type": "code",
   "execution_count": 245,
   "id": "25fee324",
   "metadata": {},
   "outputs": [
    {
     "data": {
      "text/plain": [
       "1      0.056075\n",
       "20     0.023689\n",
       "374    0.014776\n",
       "696    0.010691\n",
       "712    0.009819\n",
       "2      0.008683\n",
       "186    0.008140\n",
       "643    0.007763\n",
       "19     0.007715\n",
       "600    0.007416\n",
       "528    0.007226\n",
       "697    0.007209\n",
       "392    0.007114\n",
       "15     0.006768\n",
       "257    0.006309\n",
       "699    0.006180\n",
       "364    0.006179\n",
       "185    0.005786\n",
       "437    0.005722\n",
       "628    0.005636\n",
       "391    0.005575\n",
       "12     0.005551\n",
       "143    0.005422\n",
       "3      0.005392\n",
       "335    0.005199\n",
       "346    0.005149\n",
       "345    0.005104\n",
       "607    0.005024\n",
       "688    0.004874\n",
       "656    0.004859\n",
       "593    0.004759\n",
       "449    0.004719\n",
       "192    0.004719\n",
       "540    0.004570\n",
       "645    0.004492\n",
       "248    0.004490\n",
       "672    0.004489\n",
       "451    0.004456\n",
       "535    0.004355\n",
       "452    0.004330\n",
       "440    0.004235\n",
       "338    0.004001\n",
       "516    0.003964\n",
       "24     0.003956\n",
       "665    0.003884\n",
       "376    0.003883\n",
       "341    0.003875\n",
       "638    0.003750\n",
       "685    0.003667\n",
       "16     0.003647\n",
       "dtype: float64"
      ]
     },
     "execution_count": 245,
     "metadata": {},
     "output_type": "execute_result"
    }
   ],
   "source": []
  },
  {
   "cell_type": "code",
   "execution_count": 263,
   "id": "e74031bd",
   "metadata": {},
   "outputs": [
    {
     "data": {
      "text/plain": [
       "(array([ 162.,  159.,  215.,  271.,  426.,  505.,  654.,  906., 1166.,\n",
       "        2174.]),\n",
       " array([7.29218596e-05, 1.00065630e-01, 2.00058337e-01, 3.00051045e-01,\n",
       "        4.00043753e-01, 5.00036461e-01, 6.00029169e-01, 7.00021877e-01,\n",
       "        8.00014584e-01, 9.00007292e-01, 1.00000000e+00]),\n",
       " <BarContainer object of 10 artists>)"
      ]
     },
     "execution_count": 263,
     "metadata": {},
     "output_type": "execute_result"
    },
    {
     "data": {
      "image/png": "[encoded data removed]",
      "text/plain": [
       "<Figure size 432x288 with 1 Axes>"
      ]
     },
     "metadata": {
      "needs_background": "light"
     },
     "output_type": "display_data"
    }
   ],
   "source": [
    "plt.hist(y_train)"
   ]
  },
  {
   "cell_type": "code",
   "execution_count": 288,
   "id": "d4b9b334",
   "metadata": {},
   "outputs": [],
   "source": [
    "X_train=X[0:int(np.floor(0.8*len(X)))]\n",
    "y_train=y[0:int(np.floor(0.8*len(y)))]\n",
    "X_test=X[int(np.floor(0.8*len(X))):]\n",
    "y_test=y[int(np.floor(0.8*len(y))):]"
   ]
  },
  {
   "cell_type": "code",
   "execution_count": 278,
   "id": "88aec928",
   "metadata": {},
   "outputs": [],
   "source": [
    "#one approach\n",
    "#y_train=np.square(y_train)"
   ]
  },
  {
   "cell_type": "code",
   "execution_count": 273,
   "id": "d0b67e9a",
   "metadata": {},
   "outputs": [],
   "source": [
    "my_max=max(y_train[y_train<1])"
   ]
  },
  {
   "cell_type": "code",
   "execution_count": 274,
   "id": "52af2cb5",
   "metadata": {},
   "outputs": [],
   "source": [
    "y_train[y_train==1]=my_max"
   ]
  },
  {
   "cell_type": "code",
   "execution_count": 275,
   "id": "bd8abdb0",
   "metadata": {},
   "outputs": [],
   "source": [
    "y_train=np.log2((1-y_train))"
   ]
  },
  {
   "cell_type": "code",
   "execution_count": 279,
   "id": "644b0f19",
   "metadata": {},
   "outputs": [
    {
     "data": {
      "text/plain": [
       "(array([ 574.,  437.,  438.,  495.,  515.,  571.,  668.,  686.,  746.,\n",
       "        1508.]),\n",
       " array([5.31759760e-09, 9.99935528e-02, 1.99987100e-01, 2.99980648e-01,\n",
       "        3.99974195e-01, 4.99967743e-01, 5.99961290e-01, 6.99954838e-01,\n",
       "        7.99948386e-01, 8.99941933e-01, 9.99935481e-01]),\n",
       " <BarContainer object of 10 artists>)"
      ]
     },
     "execution_count": 279,
     "metadata": {},
     "output_type": "execute_result"
    },
    {
     "data": {
      "image/png": "[encoded data removed]",
      "text/plain": [
       "<Figure size 432x288 with 1 Axes>"
      ]
     },
     "metadata": {
      "needs_background": "light"
     },
     "output_type": "display_data"
    }
   ],
   "source": [
    "plt.hist(y_train)"
   ]
  },
  {
   "cell_type": "code",
   "execution_count": 289,
   "id": "06a14948",
   "metadata": {},
   "outputs": [],
   "source": [
    "my_Linear_Pipeline = Pipeline([\n",
    "    ('my_StandardScaler',StandardScaler()),\n",
    "    ('my_LinearRegression',LinearRegression())\n",
    "])\n",
    "\n",
    "my_Linear_Pipeline_Parameters = [\n",
    "    {\n",
    "        'my_LinearRegression__fit_intercept':[True,False]\n",
    "    }\n",
    "]\n"
   ]
  },
  {
   "cell_type": "code",
   "execution_count": 290,
   "id": "4fca3ec1",
   "metadata": {},
   "outputs": [
    {
     "name": "stdout",
     "output_type": "stream",
     "text": [
      "30674792251.216583 {'my_LinearRegression__fit_intercept': True}\n",
      "477776370886.7652 {'my_LinearRegression__fit_intercept': False}\n"
     ]
    }
   ],
   "source": [
    "my_Linear_Gridsearch=GridSearchCV(\n",
    "    my_Linear_Pipeline,\n",
    "    my_Linear_Pipeline_Parameters,\n",
    "    cv=5,\n",
    "    scoring='neg_mean_squared_error',\n",
    "    return_train_score=True\n",
    ")\n",
    "my_Linear_Gridsearch.fit(X_train,y_train)\n",
    "my_Linear_Gridsearch_results=my_Linear_Gridsearch.cv_results_\n",
    "for mean_score, params in zip(my_Linear_Gridsearch_results[\"mean_test_score\"],my_Linear_Gridsearch_results[\"params\"]):\n",
    "    print(np.sqrt(-mean_score), params)\n",
    "winner_LinearRegression=my_Linear_Gridsearch.best_estimator_\n",
    "#plot_real_and_predict(winner_LinearRegression,X_test,y_test)"
   ]
  },
  {
   "cell_type": "code",
   "execution_count": 291,
   "id": "47303ab5",
   "metadata": {},
   "outputs": [],
   "source": [
    "y_predict=winner_LinearRegression.predict(X_test)"
   ]
  },
  {
   "cell_type": "code",
   "execution_count": 292,
   "id": "ec2d1b97",
   "metadata": {},
   "outputs": [
    {
     "data": {
      "text/plain": [
       "array([0.58033478, 0.27786218, 0.5971533 , ..., 0.51559507, 0.71241581,\n",
       "       0.61570989])"
      ]
     },
     "execution_count": 292,
     "metadata": {},
     "output_type": "execute_result"
    }
   ],
   "source": [
    "y_pred"
   ]
  },
  {
   "cell_type": "code",
   "execution_count": 293,
   "id": "8d695ab8",
   "metadata": {},
   "outputs": [
    {
     "data": {
      "image/png": "[encoded data removed]",
      "text/plain": [
       "<Figure size 432x288 with 1 Axes>"
      ]
     },
     "metadata": {
      "needs_background": "light"
     },
     "output_type": "display_data"
    }
   ],
   "source": [
    "\n",
    "plt.scatter(y_test,y_predict)\n",
    "plt.show()"
   ]
  },
  {
   "cell_type": "code",
   "execution_count": 294,
   "id": "24b30dd3",
   "metadata": {},
   "outputs": [
    {
     "data": {
      "text/plain": [
       "array([0.7685575 , 0.10098461, 0.57853069, ..., 0.8232397 , 0.82250649,\n",
       "       0.85896524])"
      ]
     },
     "execution_count": 294,
     "metadata": {},
     "output_type": "execute_result"
    }
   ],
   "source": [
    "y_test"
   ]
  },
  {
   "cell_type": "code",
   "execution_count": 295,
   "id": "df983571",
   "metadata": {},
   "outputs": [
    {
     "data": {
      "text/plain": [
       "(array([1.000e+00, 0.000e+00, 1.000e+00, 1.656e+03, 0.000e+00, 0.000e+00,\n",
       "        1.000e+00, 0.000e+00, 0.000e+00, 1.000e+00]),\n",
       " array([-4.23151545e+10, -3.06770354e+10, -1.90389163e+10, -7.40079717e+09,\n",
       "         4.23732195e+09,  1.58754411e+10,  2.75135602e+10,  3.91516793e+10,\n",
       "         5.07897984e+10,  6.24279175e+10,  7.40660367e+10]),\n",
       " <BarContainer object of 10 artists>)"
      ]
     },
     "execution_count": 295,
     "metadata": {},
     "output_type": "execute_result"
    },
    {
     "data": {
      "image/png": "[encoded data removed]",
      "text/plain": [
       "<Figure size 432x288 with 1 Axes>"
      ]
     },
     "metadata": {
      "needs_background": "light"
     },
     "output_type": "display_data"
    }
   ],
   "source": [
    "plt.hist(y_predict)"
   ]
  },
  {
   "cell_type": "code",
   "execution_count": 296,
   "id": "b1e2ccbd",
   "metadata": {},
   "outputs": [
    {
     "data": {
      "text/plain": [
       "(array([ 41.,  62.,  58.,  72., 113., 114., 162., 207., 280., 551.]),\n",
       " array([0.00251901, 0.10226711, 0.20201521, 0.30176331, 0.40151141,\n",
       "        0.50125951, 0.60100761, 0.7007557 , 0.8005038 , 0.9002519 ,\n",
       "        1.        ]),\n",
       " <BarContainer object of 10 artists>)"
      ]
     },
     "execution_count": 296,
     "metadata": {},
     "output_type": "execute_result"
    },
    {
     "data": {
      "image/png": "[encoded data removed]",
      "text/plain": [
       "<Figure size 432x288 with 1 Axes>"
      ]
     },
     "metadata": {
      "needs_background": "light"
     },
     "output_type": "display_data"
    }
   ],
   "source": [
    "plt.hist(y_test)"
   ]
  },
  {
   "cell_type": "code",
   "execution_count": 297,
   "id": "d7282157",
   "metadata": {},
   "outputs": [
    {
     "data": {
      "text/plain": [
       "74066036655.6242"
      ]
     },
     "execution_count": 297,
     "metadata": {},
     "output_type": "execute_result"
    }
   ],
   "source": [
    "max(y_predict)"
   ]
  },
  {
   "cell_type": "code",
   "execution_count": 301,
   "id": "441539d8",
   "metadata": {},
   "outputs": [
    {
     "data": {
      "text/plain": [
       "1558"
      ]
     },
     "execution_count": 301,
     "metadata": {},
     "output_type": "execute_result"
    }
   ],
   "source": [
    "list(y_predict).index(max(y_predict))"
   ]
  },
  {
   "cell_type": "code",
   "execution_count": 302,
   "id": "7db0eb26",
   "metadata": {},
   "outputs": [
    {
     "data": {
      "text/plain": [
       "array([1, 1, 1, 1, 0, 0, 0, 0, 0, 1, 1, 1, 0, 0, 1, 1, 0, 0, 1, 0, 0, 0,\n",
       "       0, 0, 0, 0, 0, 0, 0, 0, 1, 0, 0, 0, 0, 0, 0, 0, 0, 0, 0, 0, 0, 0,\n",
       "       0, 0, 0, 0, 0, 0, 0, 0, 0, 0, 0, 0, 0, 0, 0, 0, 0, 0, 0, 0, 0, 0,\n",
       "       0, 0, 0, 0, 0, 0, 0, 0, 0, 0, 0, 0, 0, 0, 0, 0, 0, 0, 0, 0, 0, 0,\n",
       "       0, 0, 0, 0, 0, 0, 0, 0, 0, 0, 0, 0, 0, 0, 0, 0, 0, 0, 0, 0, 0, 0,\n",
       "       0, 0, 0, 0, 0, 0, 0, 0, 0, 0, 0, 0, 0, 0, 0, 0, 0, 0, 0, 0, 0, 0,\n",
       "       0, 0, 0, 0, 0, 0, 0, 0, 0, 0, 0, 0, 0, 0, 0, 0, 0, 0, 0, 0, 0, 0,\n",
       "       0, 0, 0, 0, 0, 0, 0, 0, 0, 0, 0, 0, 0, 0, 0, 0, 0, 0, 0, 0, 0, 0,\n",
       "       0, 0, 0, 0, 0, 0, 0, 0, 0, 0, 0, 0, 0, 0, 0, 0, 0, 0, 0, 0, 0, 0,\n",
       "       0, 0, 0, 0, 0, 0, 0, 0, 0, 0, 0, 0, 0, 0, 0, 0, 0, 0, 0, 0, 0, 0,\n",
       "       0, 0, 0, 0, 0, 0, 0, 0, 0, 0, 0, 0, 0, 0, 0, 0, 0, 0, 0, 0, 0, 0,\n",
       "       0, 0, 0, 0, 0, 0, 0, 0, 0, 0, 0, 0, 0, 0, 0, 0, 0, 0, 0, 0, 0, 0,\n",
       "       0, 0, 0, 0, 0, 0, 0, 0, 0, 0, 0, 0, 0, 0, 0, 0, 0, 0, 0, 1, 1, 1,\n",
       "       1, 0, 0, 0, 0, 0, 0, 0, 0, 0, 0, 0, 0, 0, 0, 0, 0, 0, 1, 0, 0, 0,\n",
       "       0, 0, 0, 0, 0, 0, 1, 0, 0, 0, 0, 0, 0, 0, 0, 0, 0, 0, 0, 0, 0, 0,\n",
       "       0, 0, 1, 0, 0, 0, 0, 0, 1, 0, 1, 0, 0, 0, 1, 1, 1, 0, 0, 0, 0, 1,\n",
       "       1, 0, 0, 0, 0, 0, 0, 0, 0, 0, 0, 0, 0, 1, 1, 0, 0, 0, 0, 0, 0, 0,\n",
       "       1, 0, 0, 0, 0, 0, 0, 0, 0, 0, 0, 0, 0, 0, 0, 0, 1, 0, 0, 0, 0, 0,\n",
       "       0, 0, 0, 0, 0, 0, 0, 0, 0, 0, 0, 1, 0, 0, 0, 0, 0, 0, 0, 0, 0, 0,\n",
       "       0, 1, 0, 0, 0, 0, 0, 0, 0, 0, 0, 1, 0, 0, 0, 0, 0, 0, 0, 0, 0, 0,\n",
       "       0, 0, 0, 0, 0, 0, 0, 0, 0, 0, 0, 0, 0, 0, 0, 0, 0, 0, 0, 0, 0, 0,\n",
       "       0, 0, 0, 0, 0, 0, 0, 0, 0, 0, 0, 0, 0, 0, 0, 0, 0, 0, 0, 0, 0, 0,\n",
       "       0, 0, 0, 0, 0, 0, 0, 0, 0, 0, 0, 0, 0, 0, 0, 0, 0, 0, 0, 0, 0, 0,\n",
       "       0, 0, 0, 0, 0, 0, 0, 0, 0, 0, 0, 0, 0, 0, 0, 0, 0, 0, 0, 0, 0, 0,\n",
       "       0, 0, 0, 0, 0, 0, 0, 0, 0, 0, 0, 0, 1, 0, 0, 0, 0, 0, 0, 0, 0, 0,\n",
       "       0, 0, 0, 0, 0, 0, 0, 0, 0, 0, 0, 0, 0, 0, 0, 0, 0, 0, 1, 0, 0, 0,\n",
       "       0, 0, 0, 0, 0, 0, 0, 0, 0, 0, 0, 0, 0, 0, 0, 0, 0, 0, 0, 0, 0, 0,\n",
       "       0, 0, 0, 0, 0, 0, 0, 0, 0, 0, 0, 0, 0, 0, 0, 0, 0, 0, 0, 0, 0, 0,\n",
       "       0, 0, 0, 0, 0, 0, 0, 0, 0, 0, 0, 0, 0, 0, 0, 0, 0, 0, 0, 0, 0, 0,\n",
       "       0, 0, 0, 0, 0, 0, 0, 0, 0, 0, 0, 0, 0, 0, 0, 0, 0, 0, 1, 0, 0, 0,\n",
       "       0, 0, 0, 0, 0, 0, 0, 0, 0, 0, 0, 0, 0, 0, 0, 0, 0, 0, 0, 0, 0, 0,\n",
       "       0, 0, 0, 0, 0, 0, 0, 0, 0, 0, 0, 0, 0, 0, 0, 0, 0, 0, 0, 0, 0, 0,\n",
       "       0, 0, 0, 0, 0, 0, 0, 0, 0, 0, 0, 0, 0, 0, 0, 0, 0, 0, 0, 0, 0, 0,\n",
       "       0, 0, 0, 0, 0, 0, 0, 0, 0, 0, 0, 0, 0, 0, 0, 0, 0, 0, 0, 0, 0, 0,\n",
       "       0, 0, 0, 0, 0, 0, 0, 0, 0, 0, 0, 0, 0, 0, 0, 0, 0, 0, 0, 0, 0, 0,\n",
       "       0, 0, 0, 0, 0, 0, 0, 0, 0, 0, 0, 0, 0, 0, 0, 0, 0, 0, 0, 0, 0, 0,\n",
       "       0, 0, 0, 0, 0, 0, 0, 0, 0, 0, 0, 0, 0, 0, 0, 0, 0, 0, 0, 0, 0, 0,\n",
       "       0, 0, 0, 0, 0, 0, 0, 0, 0, 0, 0, 0, 0, 0, 0, 0, 0, 0, 0, 0, 0, 0,\n",
       "       0, 0, 0, 0, 0, 0, 0, 0, 0, 0, 0, 0, 0, 0, 0, 0, 0, 0, 0, 0, 0, 0,\n",
       "       0, 0, 0, 0, 0, 0, 0, 0, 0, 0, 0, 0, 0, 0, 0, 0, 0, 0, 0, 0, 0, 0,\n",
       "       0])"
      ]
     },
     "execution_count": 302,
     "metadata": {},
     "output_type": "execute_result"
    }
   ],
   "source": [
    "X_test[1558]"
   ]
  },
  {
   "cell_type": "code",
   "execution_count": null,
   "id": "2acb5da3",
   "metadata": {},
   "outputs": [],
   "source": []
  },
  {
   "cell_type": "code",
   "execution_count": 248,
   "id": "35863906",
   "metadata": {},
   "outputs": [],
   "source": []
  },
  {
   "cell_type": "code",
   "execution_count": null,
   "id": "c2f43ae0",
   "metadata": {},
   "outputs": [],
   "source": []
  },
  {
   "cell_type": "code",
   "execution_count": null,
   "id": "d1d205a2",
   "metadata": {},
   "outputs": [],
   "source": []
  }
 ],
 "metadata": {
  "kernelspec": {
   "display_name": "Python 3",
   "language": "python",
   "name": "python3"
  },
  "language_info": {
   "codemirror_mode": {
    "name": "ipython",
    "version": 3
   },
   "file_extension": ".py",
   "mimetype": "text/x-python",
   "name": "python",
   "nbconvert_exporter": "python",
   "pygments_lexer": "ipython3",
   "version": "3.8.8"
  }
 },
 "nbformat": 4,
 "nbformat_minor": 5
}
