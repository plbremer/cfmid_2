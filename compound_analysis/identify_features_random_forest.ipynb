{
 "cells": [
  {
   "cell_type": "code",
   "execution_count": 8,
   "id": "695c03bc",
   "metadata": {},
   "outputs": [],
   "source": [
    "import numpy as np\n",
    "import pandas as pd\n",
    "from sklearn.utils import shuffle\n",
    "from sklearn.ensemble import RandomForestRegressor\n",
    "import matplotlib.pyplot as plt\n",
    "from sklearn.pipeline import Pipeline\n",
    "from sklearn.model_selection import GridSearchCV\n",
    "from sklearn.linear_model import LinearRegression\n",
    "from sklearn.preprocessing import StandardScaler"
   ]
  },
  {
   "cell_type": "code",
   "execution_count": null,
   "id": "92472b15",
   "metadata": {},
   "outputs": [],
   "source": []
  },
  {
   "cell_type": "code",
   "execution_count": 9,
   "id": "85e162fc",
   "metadata": {},
   "outputs": [],
   "source": [
    "cohort_input_address='/home/rictuar/coding_projects/fiehn_work/cfmid/cfmid_redo/results/compound_exploration/[M+H]+_hcd_cohort_fingerprints.bin'"
   ]
  },
  {
   "cell_type": "code",
   "execution_count": 10,
   "id": "7395af24",
   "metadata": {},
   "outputs": [],
   "source": [
    "dataset=pd.read_pickle(cohort_input_address)"
   ]
  },
  {
   "cell_type": "code",
   "execution_count": 11,
   "id": "d790ced9",
   "metadata": {},
   "outputs": [
    {
     "data": {
      "text/html": [
       "<div>\n",
       "<style scoped>\n",
       "    .dataframe tbody tr th:only-of-type {\n",
       "        vertical-align: middle;\n",
       "    }\n",
       "\n",
       "    .dataframe tbody tr th {\n",
       "        vertical-align: top;\n",
       "    }\n",
       "\n",
       "    .dataframe thead th {\n",
       "        text-align: right;\n",
       "    }\n",
       "</style>\n",
       "<table border=\"1\" class=\"dataframe\">\n",
       "  <thead>\n",
       "    <tr style=\"text-align: right;\">\n",
       "      <th></th>\n",
       "      <th>InChIKey</th>\n",
       "      <th>cactvs_fingerprint</th>\n",
       "      <th>metlin_adduct_or_nist</th>\n",
       "      <th>cid</th>\n",
       "      <th>inchikey</th>\n",
       "      <th>dot_product</th>\n",
       "      <th>exp_energy_parsed</th>\n",
       "      <th>fingerprint_array</th>\n",
       "    </tr>\n",
       "  </thead>\n",
       "  <tbody>\n",
       "    <tr>\n",
       "      <th>0</th>\n",
       "      <td>WDUMYOXRHLWOIR-UHFFFAOYSA-N</td>\n",
       "      <td>1000000001110011000000000000000000000000000100...</td>\n",
       "      <td>nist</td>\n",
       "      <td>28058793.0</td>\n",
       "      <td>WDUMYOXRHLWOIR-UHFFFAOYSA-N</td>\n",
       "      <td>0.987620</td>\n",
       "      <td>39.0</td>\n",
       "      <td>[1, 0, 0, 0, 0, 0, 0, 0, 0, 1, 1, 1, 0, 0, 1, ...</td>\n",
       "    </tr>\n",
       "    <tr>\n",
       "      <th>3</th>\n",
       "      <td>IVSBFRVZTXHJLR-UHFFFAOYSA-N</td>\n",
       "      <td>1100000001110011001100000000000001000000000000...</td>\n",
       "      <td>nist</td>\n",
       "      <td>315800.0</td>\n",
       "      <td>IVSBFRVZTXHJLR-UHFFFAOYSA-N</td>\n",
       "      <td>0.855915</td>\n",
       "      <td>37.0</td>\n",
       "      <td>[1, 1, 0, 0, 0, 0, 0, 0, 0, 1, 1, 1, 0, 0, 1, ...</td>\n",
       "    </tr>\n",
       "    <tr>\n",
       "      <th>4</th>\n",
       "      <td>BJVLFJADOVATRU-UHFFFAOYSA-N</td>\n",
       "      <td>1100000001110000001100000000000000000000000000...</td>\n",
       "      <td>nist</td>\n",
       "      <td>747832.0</td>\n",
       "      <td>BJVLFJADOVATRU-UHFFFAOYSA-N</td>\n",
       "      <td>0.889937</td>\n",
       "      <td>38.0</td>\n",
       "      <td>[1, 1, 0, 0, 0, 0, 0, 0, 0, 1, 1, 1, 0, 0, 0, ...</td>\n",
       "    </tr>\n",
       "    <tr>\n",
       "      <th>5</th>\n",
       "      <td>YAUZWMLHLWHCLG-UHFFFAOYSA-N</td>\n",
       "      <td>1100000001110000001110000000000000000000000100...</td>\n",
       "      <td>nist</td>\n",
       "      <td>221498.0</td>\n",
       "      <td>YAUZWMLHLWHCLG-UHFFFAOYSA-N</td>\n",
       "      <td>0.996398</td>\n",
       "      <td>39.0</td>\n",
       "      <td>[1, 1, 0, 0, 0, 0, 0, 0, 0, 1, 1, 1, 0, 0, 0, ...</td>\n",
       "    </tr>\n",
       "    <tr>\n",
       "      <th>9</th>\n",
       "      <td>ZKLSFAKJJJDQSA-UHFFFAOYSA-N</td>\n",
       "      <td>1110000001110011001000000000000000000000000000...</td>\n",
       "      <td>nist</td>\n",
       "      <td>3328378.0</td>\n",
       "      <td>ZKLSFAKJJJDQSA-UHFFFAOYSA-N</td>\n",
       "      <td>0.280932</td>\n",
       "      <td>40.0</td>\n",
       "      <td>[1, 1, 1, 0, 0, 0, 0, 0, 0, 1, 1, 1, 0, 0, 1, ...</td>\n",
       "    </tr>\n",
       "    <tr>\n",
       "      <th>...</th>\n",
       "      <td>...</td>\n",
       "      <td>...</td>\n",
       "      <td>...</td>\n",
       "      <td>...</td>\n",
       "      <td>...</td>\n",
       "      <td>...</td>\n",
       "      <td>...</td>\n",
       "      <td>...</td>\n",
       "    </tr>\n",
       "    <tr>\n",
       "      <th>15951</th>\n",
       "      <td>AZVXNMOQCHVDQG-UHFFFAOYSA-N</td>\n",
       "      <td>0000000001100011000000000000000001000100000000...</td>\n",
       "      <td>nist</td>\n",
       "      <td>333028.0</td>\n",
       "      <td>AZVXNMOQCHVDQG-UHFFFAOYSA-N</td>\n",
       "      <td>1.000000</td>\n",
       "      <td>36.0</td>\n",
       "      <td>[0, 0, 0, 0, 0, 0, 0, 0, 0, 1, 1, 0, 0, 0, 1, ...</td>\n",
       "    </tr>\n",
       "    <tr>\n",
       "      <th>15952</th>\n",
       "      <td>RMCQCVYGHWTDSP-UHFFFAOYSA-N</td>\n",
       "      <td>1100000001110010001000000000000000000000000100...</td>\n",
       "      <td>nist</td>\n",
       "      <td>12137098.0</td>\n",
       "      <td>RMCQCVYGHWTDSP-UHFFFAOYSA-N</td>\n",
       "      <td>1.000000</td>\n",
       "      <td>42.0</td>\n",
       "      <td>[1, 1, 0, 0, 0, 0, 0, 0, 0, 1, 1, 1, 0, 0, 1, ...</td>\n",
       "    </tr>\n",
       "    <tr>\n",
       "      <th>15955</th>\n",
       "      <td>HUKQFKKFOGVZGH-UHFFFAOYSA-N</td>\n",
       "      <td>1000000001100010001000000000000000000110000100...</td>\n",
       "      <td>nist</td>\n",
       "      <td>11289725.0</td>\n",
       "      <td>HUKQFKKFOGVZGH-UHFFFAOYSA-N</td>\n",
       "      <td>0.997734</td>\n",
       "      <td>37.0</td>\n",
       "      <td>[1, 0, 0, 0, 0, 0, 0, 0, 0, 1, 1, 0, 0, 0, 1, ...</td>\n",
       "    </tr>\n",
       "    <tr>\n",
       "      <th>15957</th>\n",
       "      <td>MNDACYDFCGIUAF-UHFFFAOYSA-N</td>\n",
       "      <td>1000000001110011100000000000000001000000000000...</td>\n",
       "      <td>nist</td>\n",
       "      <td>295675.0</td>\n",
       "      <td>MNDACYDFCGIUAF-UHFFFAOYSA-N</td>\n",
       "      <td>0.586894</td>\n",
       "      <td>42.0</td>\n",
       "      <td>[1, 0, 0, 0, 0, 0, 0, 0, 0, 1, 1, 1, 0, 0, 1, ...</td>\n",
       "    </tr>\n",
       "    <tr>\n",
       "      <th>15960</th>\n",
       "      <td>JDPITNFDYXOKRM-UHFFFAOYSA-N</td>\n",
       "      <td>1000000001110010001000000000000001100000000000...</td>\n",
       "      <td>nist</td>\n",
       "      <td>2830679.0</td>\n",
       "      <td>JDPITNFDYXOKRM-UHFFFAOYSA-N</td>\n",
       "      <td>0.974444</td>\n",
       "      <td>39.0</td>\n",
       "      <td>[1, 0, 0, 0, 0, 0, 0, 0, 0, 1, 1, 1, 0, 0, 1, ...</td>\n",
       "    </tr>\n",
       "  </tbody>\n",
       "</table>\n",
       "<p>8298 rows × 8 columns</p>\n",
       "</div>"
      ],
      "text/plain": [
       "                          InChIKey  \\\n",
       "0      WDUMYOXRHLWOIR-UHFFFAOYSA-N   \n",
       "3      IVSBFRVZTXHJLR-UHFFFAOYSA-N   \n",
       "4      BJVLFJADOVATRU-UHFFFAOYSA-N   \n",
       "5      YAUZWMLHLWHCLG-UHFFFAOYSA-N   \n",
       "9      ZKLSFAKJJJDQSA-UHFFFAOYSA-N   \n",
       "...                            ...   \n",
       "15951  AZVXNMOQCHVDQG-UHFFFAOYSA-N   \n",
       "15952  RMCQCVYGHWTDSP-UHFFFAOYSA-N   \n",
       "15955  HUKQFKKFOGVZGH-UHFFFAOYSA-N   \n",
       "15957  MNDACYDFCGIUAF-UHFFFAOYSA-N   \n",
       "15960  JDPITNFDYXOKRM-UHFFFAOYSA-N   \n",
       "\n",
       "                                      cactvs_fingerprint  \\\n",
       "0      1000000001110011000000000000000000000000000100...   \n",
       "3      1100000001110011001100000000000001000000000000...   \n",
       "4      1100000001110000001100000000000000000000000000...   \n",
       "5      1100000001110000001110000000000000000000000100...   \n",
       "9      1110000001110011001000000000000000000000000000...   \n",
       "...                                                  ...   \n",
       "15951  0000000001100011000000000000000001000100000000...   \n",
       "15952  1100000001110010001000000000000000000000000100...   \n",
       "15955  1000000001100010001000000000000000000110000100...   \n",
       "15957  1000000001110011100000000000000001000000000000...   \n",
       "15960  1000000001110010001000000000000001100000000000...   \n",
       "\n",
       "      metlin_adduct_or_nist         cid                     inchikey  \\\n",
       "0                      nist  28058793.0  WDUMYOXRHLWOIR-UHFFFAOYSA-N   \n",
       "3                      nist    315800.0  IVSBFRVZTXHJLR-UHFFFAOYSA-N   \n",
       "4                      nist    747832.0  BJVLFJADOVATRU-UHFFFAOYSA-N   \n",
       "5                      nist    221498.0  YAUZWMLHLWHCLG-UHFFFAOYSA-N   \n",
       "9                      nist   3328378.0  ZKLSFAKJJJDQSA-UHFFFAOYSA-N   \n",
       "...                     ...         ...                          ...   \n",
       "15951                  nist    333028.0  AZVXNMOQCHVDQG-UHFFFAOYSA-N   \n",
       "15952                  nist  12137098.0  RMCQCVYGHWTDSP-UHFFFAOYSA-N   \n",
       "15955                  nist  11289725.0  HUKQFKKFOGVZGH-UHFFFAOYSA-N   \n",
       "15957                  nist    295675.0  MNDACYDFCGIUAF-UHFFFAOYSA-N   \n",
       "15960                  nist   2830679.0  JDPITNFDYXOKRM-UHFFFAOYSA-N   \n",
       "\n",
       "       dot_product  exp_energy_parsed  \\\n",
       "0         0.987620               39.0   \n",
       "3         0.855915               37.0   \n",
       "4         0.889937               38.0   \n",
       "5         0.996398               39.0   \n",
       "9         0.280932               40.0   \n",
       "...            ...                ...   \n",
       "15951     1.000000               36.0   \n",
       "15952     1.000000               42.0   \n",
       "15955     0.997734               37.0   \n",
       "15957     0.586894               42.0   \n",
       "15960     0.974444               39.0   \n",
       "\n",
       "                                       fingerprint_array  \n",
       "0      [1, 0, 0, 0, 0, 0, 0, 0, 0, 1, 1, 1, 0, 0, 1, ...  \n",
       "3      [1, 1, 0, 0, 0, 0, 0, 0, 0, 1, 1, 1, 0, 0, 1, ...  \n",
       "4      [1, 1, 0, 0, 0, 0, 0, 0, 0, 1, 1, 1, 0, 0, 0, ...  \n",
       "5      [1, 1, 0, 0, 0, 0, 0, 0, 0, 1, 1, 1, 0, 0, 0, ...  \n",
       "9      [1, 1, 1, 0, 0, 0, 0, 0, 0, 1, 1, 1, 0, 0, 1, ...  \n",
       "...                                                  ...  \n",
       "15951  [0, 0, 0, 0, 0, 0, 0, 0, 0, 1, 1, 0, 0, 0, 1, ...  \n",
       "15952  [1, 1, 0, 0, 0, 0, 0, 0, 0, 1, 1, 1, 0, 0, 1, ...  \n",
       "15955  [1, 0, 0, 0, 0, 0, 0, 0, 0, 1, 1, 0, 0, 0, 1, ...  \n",
       "15957  [1, 0, 0, 0, 0, 0, 0, 0, 0, 1, 1, 1, 0, 0, 1, ...  \n",
       "15960  [1, 0, 0, 0, 0, 0, 0, 0, 0, 1, 1, 1, 0, 0, 1, ...  \n",
       "\n",
       "[8298 rows x 8 columns]"
      ]
     },
     "execution_count": 11,
     "metadata": {},
     "output_type": "execute_result"
    }
   ],
   "source": [
    "dataset"
   ]
  },
  {
   "cell_type": "code",
   "execution_count": 12,
   "id": "25a9b9f5",
   "metadata": {},
   "outputs": [],
   "source": [
    "dataset=shuffle(dataset,random_state=1337)\n",
    "dataset.reset_index(inplace=True)"
   ]
  },
  {
   "cell_type": "code",
   "execution_count": null,
   "id": "3d54e99f",
   "metadata": {},
   "outputs": [],
   "source": []
  },
  {
   "cell_type": "code",
   "execution_count": 13,
   "id": "25462b85",
   "metadata": {},
   "outputs": [],
   "source": [
    "X=np.array(dataset.fingerprint_array.to_list())"
   ]
  },
  {
   "cell_type": "code",
   "execution_count": 14,
   "id": "0d8971a1",
   "metadata": {},
   "outputs": [
    {
     "data": {
      "text/plain": [
       "array([1, 1, 0, ..., 1, 1, 1])"
      ]
     },
     "execution_count": 14,
     "metadata": {},
     "output_type": "execute_result"
    }
   ],
   "source": [
    "#test for other script\n",
    "X[:,1]"
   ]
  },
  {
   "cell_type": "code",
   "execution_count": 15,
   "id": "be97a346",
   "metadata": {},
   "outputs": [
    {
     "data": {
      "text/plain": [
       "array([[1, 1, 1, ..., 0, 0, 0],\n",
       "       [1, 1, 1, ..., 0, 0, 0],\n",
       "       [1, 0, 0, ..., 0, 0, 0],\n",
       "       ...,\n",
       "       [1, 1, 0, ..., 0, 0, 0],\n",
       "       [1, 1, 0, ..., 0, 0, 0],\n",
       "       [1, 1, 0, ..., 0, 0, 0]])"
      ]
     },
     "execution_count": 15,
     "metadata": {},
     "output_type": "execute_result"
    }
   ],
   "source": [
    "X"
   ]
  },
  {
   "cell_type": "code",
   "execution_count": 16,
   "id": "3b359c0e",
   "metadata": {},
   "outputs": [],
   "source": [
    "y=np.array(dataset.dot_product.to_list())"
   ]
  },
  {
   "cell_type": "code",
   "execution_count": 17,
   "id": "4714c0d7",
   "metadata": {},
   "outputs": [
    {
     "data": {
      "text/plain": [
       "6638.0"
      ]
     },
     "execution_count": 17,
     "metadata": {},
     "output_type": "execute_result"
    }
   ],
   "source": [
    "np.floor(0.8*len(X))"
   ]
  },
  {
   "cell_type": "code",
   "execution_count": 18,
   "id": "b8dccc82",
   "metadata": {},
   "outputs": [],
   "source": [
    "X_train=X[0:int(np.floor(0.8*len(X)))]\n",
    "y_train=y[0:int(np.floor(0.8*len(y)))]\n",
    "X_test=X[int(np.floor(0.8*len(X))):]\n",
    "y_test=y[int(np.floor(0.8*len(y))):]\n"
   ]
  },
  {
   "cell_type": "code",
   "execution_count": 19,
   "id": "10630f2c",
   "metadata": {},
   "outputs": [
    {
     "name": "stdout",
     "output_type": "stream",
     "text": [
      "6638\n",
      "6638\n",
      "1660\n",
      "1660\n"
     ]
    }
   ],
   "source": [
    "print(len(X_train))\n",
    "print(len(y_train))\n",
    "print(len(X_test))\n",
    "print(len(y_test))"
   ]
  },
  {
   "cell_type": "code",
   "execution_count": 20,
   "id": "d58e8748",
   "metadata": {},
   "outputs": [
    {
     "data": {
      "image/png": "[encoded data removed]",
      "text/plain": [
       "<Figure size 432x288 with 1 Axes>"
      ]
     },
     "metadata": {
      "needs_background": "light"
     },
     "output_type": "display_data"
    }
   ],
   "source": [
    "plt.hist(y_train,bins=20)\n",
    "plt.show()"
   ]
  },
  {
   "cell_type": "code",
   "execution_count": 21,
   "id": "85a6d05c",
   "metadata": {},
   "outputs": [
    {
     "data": {
      "image/png": "[encoded data removed]",
      "text/plain": [
       "<Figure size 432x288 with 1 Axes>"
      ]
     },
     "metadata": {
      "needs_background": "light"
     },
     "output_type": "display_data"
    }
   ],
   "source": [
    "plt.hist(y_test,bins=20)\n",
    "plt.show()"
   ]
  },
  {
   "cell_type": "code",
   "execution_count": 22,
   "id": "78a3a7f2",
   "metadata": {},
   "outputs": [],
   "source": [
    "\n",
    "my_RandomForestRegressor_Pipeline=Pipeline(\n",
    "    [\n",
    "        #('my_StandardScaler',StandardScaler()),\n",
    "        ('my_RandomForestRegressor',RandomForestRegressor())\n",
    "    ]\n",
    ")\n",
    "my_RandomForestRegressor_parameters=[\n",
    "    {\n",
    "        'my_RandomForestRegressor__n_estimators':[10,20,40,100,200],\n",
    "        'my_RandomForestRegressor__n_jobs':[4],\n",
    "        'my_RandomForestRegressor__random_state':[1337]#,\n",
    "        #'my_RandomForestRegressor__max_depth':[5]\n",
    "        \n",
    "    }\n",
    "]"
   ]
  },
  {
   "cell_type": "code",
   "execution_count": 23,
   "id": "71f2724d",
   "metadata": {},
   "outputs": [
    {
     "name": "stdout",
     "output_type": "stream",
     "text": [
      "0.21584832707430543 {'my_RandomForestRegressor__n_estimators': 10, 'my_RandomForestRegressor__n_jobs': 4, 'my_RandomForestRegressor__random_state': 1337}\n",
      "0.21191127369105323 {'my_RandomForestRegressor__n_estimators': 20, 'my_RandomForestRegressor__n_jobs': 4, 'my_RandomForestRegressor__random_state': 1337}\n",
      "0.2084101371391132 {'my_RandomForestRegressor__n_estimators': 40, 'my_RandomForestRegressor__n_jobs': 4, 'my_RandomForestRegressor__random_state': 1337}\n",
      "0.2065882665103466 {'my_RandomForestRegressor__n_estimators': 100, 'my_RandomForestRegressor__n_jobs': 4, 'my_RandomForestRegressor__random_state': 1337}\n",
      "0.2058585592730721 {'my_RandomForestRegressor__n_estimators': 200, 'my_RandomForestRegressor__n_jobs': 4, 'my_RandomForestRegressor__random_state': 1337}\n"
     ]
    }
   ],
   "source": [
    "my_RandomForestRegressor_Gridsearch=GridSearchCV(\n",
    "    my_RandomForestRegressor_Pipeline,\n",
    "    my_RandomForestRegressor_parameters,\n",
    "    cv=5,\n",
    "    scoring='neg_mean_squared_error',\n",
    "    return_train_score=True\n",
    ")\n",
    "\n",
    "my_RandomForestRegressor_Gridsearch.fit(X_train,y_train)\n",
    "\n",
    "my_RandomForestRegressor_Gridsearch_results=my_RandomForestRegressor_Gridsearch.cv_results_\n",
    "for mean_score, params in zip(my_RandomForestRegressor_Gridsearch_results[\"mean_test_score\"],my_RandomForestRegressor_Gridsearch_results[\"params\"]):\n",
    "    print(np.sqrt(-mean_score), params)\n",
    "    \n",
    "winner_RandomForestRegressor=my_RandomForestRegressor_Gridsearch.best_estimator_\n"
   ]
  },
  {
   "cell_type": "code",
   "execution_count": 24,
   "id": "7cc2e9a7",
   "metadata": {},
   "outputs": [],
   "source": [
    "#define a function to visualize how good each \"winning model\" does\n",
    "def plot_real_and_predict(temp_winning_model,temp_X_test,temp_y_test):\n",
    "    '''\n",
    "    Greetings\n",
    "    '''\n",
    "    temp_predictions=temp_winning_model.predict(temp_X_test)\n",
    "    difference_array=np.subtract(np.array(temp_predictions),np.array(temp_y_test))\n",
    "    #average_array=np.add(np.array(temp_predictions),np.array(temp_y_test))/2\n",
    "    #percent_error_array=np.divide(100*difference_array,average_array)\n",
    "    #plt.hist(percent_error_array,bins=100)\n",
    "    plt.hist(difference_array,bins=100)\n",
    "    plt.xlabel('dif')\n",
    "    plt.ylabel('number of compounds')\n",
    "    plt.show()"
   ]
  },
  {
   "cell_type": "code",
   "execution_count": 25,
   "id": "3259d14f",
   "metadata": {},
   "outputs": [
    {
     "data": {
      "image/png": "[encoded data removed]",
      "text/plain": [
       "<Figure size 432x288 with 1 Axes>"
      ]
     },
     "metadata": {
      "needs_background": "light"
     },
     "output_type": "display_data"
    }
   ],
   "source": [
    "plot_real_and_predict(winner_RandomForestRegressor,X_test,y_test)"
   ]
  },
  {
   "cell_type": "code",
   "execution_count": 26,
   "id": "67813cad",
   "metadata": {},
   "outputs": [],
   "source": [
    "forest=winner_RandomForestRegressor['my_RandomForestRegressor']"
   ]
  },
  {
   "cell_type": "code",
   "execution_count": null,
   "id": "3d8b866e",
   "metadata": {},
   "outputs": [],
   "source": []
  },
  {
   "cell_type": "code",
   "execution_count": 27,
   "id": "064221d1",
   "metadata": {},
   "outputs": [
    {
     "data": {
      "image/png": "[encoded data removed]",
      "text/plain": [
       "<Figure size 432x288 with 1 Axes>"
      ]
     },
     "metadata": {
      "needs_background": "light"
     },
     "output_type": "display_data"
    }
   ],
   "source": [
    "importances = forest.feature_importances_\n",
    "#feature_names = [f\"feature {i}\" for i in range(X.shape[1])]\n",
    "feature_names = [i for i in range(X.shape[1])]\n",
    "forest_importances = pd.Series(importances, index=feature_names)\n",
    "forest_importances.sort_values(ascending=False,inplace=True)\n",
    "plt.hist(forest_importances,bins=100)\n",
    "plt.show()"
   ]
  },
  {
   "cell_type": "code",
   "execution_count": 28,
   "id": "dca63946",
   "metadata": {},
   "outputs": [],
   "source": [
    "forest_importances=forest_importances.iloc[0:50]\n",
    "feature_names=forest_importances.index.to_list()\n",
    "std = np.std([tree.feature_importances_ for tree in forest.estimators_], axis=0)\n",
    "std=std[forest_importances.index]"
   ]
  },
  {
   "cell_type": "code",
   "execution_count": 29,
   "id": "ed16472a",
   "metadata": {},
   "outputs": [
    {
     "data": {
      "image/png": "[encoded data removed]",
      "text/plain": [
       "<Figure size 720x720 with 1 Axes>"
      ]
     },
     "metadata": {
      "needs_background": "light"
     },
     "output_type": "display_data"
    }
   ],
   "source": [
    "fig, ax = plt.subplots(figsize=(10,10))\n",
    "forest_importances.plot.bar(yerr=std, ax=ax)\n",
    "ax.set_title(\"Feature importances using MDI\")\n",
    "ax.set_ylabel(\"Mean decrease in impurity\")\n",
    "fig.tight_layout()"
   ]
  },
  {
   "cell_type": "code",
   "execution_count": 60,
   "id": "59208fd0",
   "metadata": {},
   "outputs": [
    {
     "data": {
      "text/plain": [
       "Int64Index([  1,  20, 374, 696, 712,   2, 186, 643,  19, 600, 528, 697, 392,\n",
       "             15, 257, 699, 364, 185, 437, 628, 391,  12, 143,   3, 335, 346,\n",
       "            345, 607, 688, 656, 593, 449, 192, 540, 645, 248, 672, 451, 535,\n",
       "            452, 440, 338, 516,  24, 665, 376, 341, 638, 685,  16],\n",
       "           dtype='int64')"
      ]
     },
     "execution_count": 60,
     "metadata": {},
     "output_type": "execute_result"
    }
   ],
   "source": [
    "forest_importances.index\n"
   ]
  },
  {
   "cell_type": "code",
   "execution_count": null,
   "id": "11ab6f04",
   "metadata": {},
   "outputs": [],
   "source": []
  },
  {
   "cell_type": "code",
   "execution_count": null,
   "id": "90a22624",
   "metadata": {},
   "outputs": [],
   "source": []
  },
  {
   "cell_type": "code",
   "execution_count": null,
   "id": "f73f099d",
   "metadata": {},
   "outputs": [],
   "source": []
  },
  {
   "cell_type": "code",
   "execution_count": null,
   "id": "75bf18b3",
   "metadata": {},
   "outputs": [],
   "source": [
    "\n",
    "\n"
   ]
  },
  {
   "cell_type": "code",
   "execution_count": null,
   "id": "25fee324",
   "metadata": {},
   "outputs": [],
   "source": []
  },
  {
   "cell_type": "code",
   "execution_count": 30,
   "id": "e74031bd",
   "metadata": {},
   "outputs": [
    {
     "data": {
      "text/plain": [
       "(array([ 162.,  159.,  215.,  271.,  426.,  505.,  654.,  906., 1166.,\n",
       "        2174.]),\n",
       " array([7.29218596e-05, 1.00065630e-01, 2.00058337e-01, 3.00051045e-01,\n",
       "        4.00043753e-01, 5.00036461e-01, 6.00029169e-01, 7.00021877e-01,\n",
       "        8.00014584e-01, 9.00007292e-01, 1.00000000e+00]),\n",
       " <BarContainer object of 10 artists>)"
      ]
     },
     "execution_count": 30,
     "metadata": {},
     "output_type": "execute_result"
    },
    {
     "data": {
      "image/png": "[encoded data removed]",
      "text/plain": [
       "<Figure size 432x288 with 1 Axes>"
      ]
     },
     "metadata": {
      "needs_background": "light"
     },
     "output_type": "display_data"
    }
   ],
   "source": [
    "plt.hist(y_train)"
   ]
  },
  {
   "cell_type": "code",
   "execution_count": 31,
   "id": "d4b9b334",
   "metadata": {},
   "outputs": [],
   "source": [
    "X_train=X[0:int(np.floor(0.8*len(X)))]\n",
    "y_train=y[0:int(np.floor(0.8*len(y)))]\n",
    "X_test=X[int(np.floor(0.8*len(X))):]\n",
    "y_test=y[int(np.floor(0.8*len(y))):]"
   ]
  },
  {
   "cell_type": "code",
   "execution_count": 32,
   "id": "88aec928",
   "metadata": {},
   "outputs": [],
   "source": [
    "#one approach\n",
    "#y_train=np.square(y_train)"
   ]
  },
  {
   "cell_type": "code",
   "execution_count": 33,
   "id": "d0b67e9a",
   "metadata": {},
   "outputs": [],
   "source": [
    "my_max=max(y_train[y_train<1])"
   ]
  },
  {
   "cell_type": "code",
   "execution_count": 34,
   "id": "52af2cb5",
   "metadata": {},
   "outputs": [],
   "source": [
    "y_train[y_train==1]=my_max"
   ]
  },
  {
   "cell_type": "code",
   "execution_count": 35,
   "id": "bd8abdb0",
   "metadata": {},
   "outputs": [],
   "source": [
    "y_train=np.log2((1-y_train))"
   ]
  },
  {
   "cell_type": "code",
   "execution_count": 36,
   "id": "644b0f19",
   "metadata": {},
   "outputs": [
    {
     "data": {
      "text/plain": [
       "(array([ 287.,   14.,   36.,   79.,  141.,  271.,  573., 1117., 2104.,\n",
       "        2016.]),\n",
       " array([-1.49198832e+01, -1.34279054e+01, -1.19359276e+01, -1.04439498e+01,\n",
       "        -8.95197200e+00, -7.45999420e+00, -5.96801640e+00, -4.47603860e+00,\n",
       "        -2.98406081e+00, -1.49208301e+00, -1.05207841e-04]),\n",
       " <BarContainer object of 10 artists>)"
      ]
     },
     "execution_count": 36,
     "metadata": {},
     "output_type": "execute_result"
    },
    {
     "data": {
      "image/png": "[encoded data removed]",
      "text/plain": [
       "<Figure size 432x288 with 1 Axes>"
      ]
     },
     "metadata": {
      "needs_background": "light"
     },
     "output_type": "display_data"
    }
   ],
   "source": [
    "plt.hist(y_train)"
   ]
  },
  {
   "cell_type": "code",
   "execution_count": 37,
   "id": "06a14948",
   "metadata": {},
   "outputs": [],
   "source": [
    "my_Linear_Pipeline = Pipeline([\n",
    "    ('my_StandardScaler',StandardScaler()),\n",
    "    ('my_LinearRegression',LinearRegression())\n",
    "])\n",
    "\n",
    "my_Linear_Pipeline_Parameters = [\n",
    "    {\n",
    "        'my_LinearRegression__fit_intercept':[True,False]\n",
    "    }\n",
    "]\n"
   ]
  },
  {
   "cell_type": "code",
   "execution_count": 38,
   "id": "4fca3ec1",
   "metadata": {},
   "outputs": [
    {
     "name": "stdout",
     "output_type": "stream",
     "text": [
      "700923279059.6205 {'my_LinearRegression__fit_intercept': True}\n",
      "2275664658275.4297 {'my_LinearRegression__fit_intercept': False}\n"
     ]
    }
   ],
   "source": [
    "my_Linear_Gridsearch=GridSearchCV(\n",
    "    my_Linear_Pipeline,\n",
    "    my_Linear_Pipeline_Parameters,\n",
    "    cv=5,\n",
    "    scoring='neg_mean_squared_error',\n",
    "    return_train_score=True\n",
    ")\n",
    "my_Linear_Gridsearch.fit(X_train,y_train)\n",
    "my_Linear_Gridsearch_results=my_Linear_Gridsearch.cv_results_\n",
    "for mean_score, params in zip(my_Linear_Gridsearch_results[\"mean_test_score\"],my_Linear_Gridsearch_results[\"params\"]):\n",
    "    print(np.sqrt(-mean_score), params)\n",
    "winner_LinearRegression=my_Linear_Gridsearch.best_estimator_\n",
    "#plot_real_and_predict(winner_LinearRegression,X_test,y_test)"
   ]
  },
  {
   "cell_type": "code",
   "execution_count": 39,
   "id": "47303ab5",
   "metadata": {},
   "outputs": [],
   "source": [
    "y_predict=winner_LinearRegression.predict(X_test)"
   ]
  },
  {
   "cell_type": "code",
   "execution_count": 41,
   "id": "ec2d1b97",
   "metadata": {},
   "outputs": [],
   "source": [
    "#y_pred"
   ]
  },
  {
   "cell_type": "code",
   "execution_count": 42,
   "id": "8d695ab8",
   "metadata": {},
   "outputs": [
    {
     "data": {
      "image/png": "[encoded data removed]",
      "text/plain": [
       "<Figure size 432x288 with 1 Axes>"
      ]
     },
     "metadata": {
      "needs_background": "light"
     },
     "output_type": "display_data"
    }
   ],
   "source": [
    "\n",
    "plt.scatter(y_test,y_predict)\n",
    "plt.show()"
   ]
  },
  {
   "cell_type": "code",
   "execution_count": 43,
   "id": "24b30dd3",
   "metadata": {},
   "outputs": [
    {
     "data": {
      "text/plain": [
       "array([0.7685575 , 0.10098461, 0.57853069, ..., 0.8232397 , 0.82250649,\n",
       "       0.85896524])"
      ]
     },
     "execution_count": 43,
     "metadata": {},
     "output_type": "execute_result"
    }
   ],
   "source": [
    "y_test"
   ]
  },
  {
   "cell_type": "code",
   "execution_count": 44,
   "id": "df983571",
   "metadata": {},
   "outputs": [
    {
     "data": {
      "text/plain": [
       "(array([1.000e+00, 0.000e+00, 0.000e+00, 0.000e+00, 0.000e+00, 1.000e+00,\n",
       "        1.656e+03, 1.000e+00, 0.000e+00, 1.000e+00]),\n",
       " array([-7.89963288e+11, -6.73760586e+11, -5.57557885e+11, -4.41355183e+11,\n",
       "        -3.25152481e+11, -2.08949780e+11, -9.27470780e+10,  2.34556237e+10,\n",
       "         1.39658325e+11,  2.55861027e+11,  3.72063729e+11]),\n",
       " <BarContainer object of 10 artists>)"
      ]
     },
     "execution_count": 44,
     "metadata": {},
     "output_type": "execute_result"
    },
    {
     "data": {
      "image/png": "[encoded data removed]",
      "text/plain": [
       "<Figure size 432x288 with 1 Axes>"
      ]
     },
     "metadata": {
      "needs_background": "light"
     },
     "output_type": "display_data"
    }
   ],
   "source": [
    "plt.hist(y_predict)"
   ]
  },
  {
   "cell_type": "code",
   "execution_count": 45,
   "id": "b1e2ccbd",
   "metadata": {},
   "outputs": [
    {
     "data": {
      "text/plain": [
       "(array([ 41.,  62.,  58.,  72., 113., 114., 162., 207., 280., 551.]),\n",
       " array([0.00251901, 0.10226711, 0.20201521, 0.30176331, 0.40151141,\n",
       "        0.50125951, 0.60100761, 0.7007557 , 0.8005038 , 0.9002519 ,\n",
       "        1.        ]),\n",
       " <BarContainer object of 10 artists>)"
      ]
     },
     "execution_count": 45,
     "metadata": {},
     "output_type": "execute_result"
    },
    {
     "data": {
      "image/png": "[encoded data removed]",
      "text/plain": [
       "<Figure size 432x288 with 1 Axes>"
      ]
     },
     "metadata": {
      "needs_background": "light"
     },
     "output_type": "display_data"
    }
   ],
   "source": [
    "plt.hist(y_test)"
   ]
  },
  {
   "cell_type": "code",
   "execution_count": 46,
   "id": "d7282157",
   "metadata": {},
   "outputs": [
    {
     "data": {
      "text/plain": [
       "372063728745.91156"
      ]
     },
     "execution_count": 46,
     "metadata": {},
     "output_type": "execute_result"
    }
   ],
   "source": [
    "max(y_predict)"
   ]
  },
  {
   "cell_type": "code",
   "execution_count": 47,
   "id": "441539d8",
   "metadata": {},
   "outputs": [
    {
     "data": {
      "text/plain": [
       "38"
      ]
     },
     "execution_count": 47,
     "metadata": {},
     "output_type": "execute_result"
    }
   ],
   "source": [
    "list(y_predict).index(max(y_predict))"
   ]
  },
  {
   "cell_type": "code",
   "execution_count": 48,
   "id": "7db0eb26",
   "metadata": {},
   "outputs": [
    {
     "data": {
      "text/plain": [
       "array([1, 1, 1, 1, 0, 0, 0, 0, 0, 1, 1, 1, 0, 0, 1, 1, 0, 0, 1, 0, 0, 0,\n",
       "       0, 0, 0, 0, 0, 0, 0, 0, 1, 0, 0, 0, 0, 0, 0, 0, 0, 0, 0, 0, 0, 0,\n",
       "       0, 0, 0, 0, 0, 0, 0, 0, 0, 0, 0, 0, 0, 0, 0, 0, 0, 0, 0, 0, 0, 0,\n",
       "       0, 0, 0, 0, 0, 0, 0, 0, 0, 0, 0, 0, 0, 0, 0, 0, 0, 0, 0, 0, 0, 0,\n",
       "       0, 0, 0, 0, 0, 0, 0, 0, 0, 0, 0, 0, 0, 0, 0, 0, 0, 0, 0, 0, 0, 0,\n",
       "       0, 0, 0, 0, 0, 0, 0, 0, 0, 0, 0, 0, 0, 0, 0, 0, 0, 0, 0, 0, 0, 0,\n",
       "       0, 0, 0, 0, 0, 0, 0, 0, 0, 0, 0, 0, 0, 0, 0, 0, 0, 0, 0, 0, 0, 0,\n",
       "       0, 0, 0, 0, 0, 0, 0, 0, 0, 0, 0, 0, 0, 0, 0, 0, 0, 0, 0, 0, 0, 0,\n",
       "       0, 0, 0, 0, 0, 0, 0, 0, 0, 0, 0, 0, 0, 0, 0, 0, 0, 0, 0, 0, 0, 0,\n",
       "       0, 0, 0, 0, 0, 0, 0, 0, 0, 0, 0, 0, 0, 0, 0, 0, 0, 0, 0, 0, 0, 0,\n",
       "       0, 0, 0, 0, 0, 0, 0, 0, 0, 0, 0, 0, 0, 0, 0, 0, 0, 0, 0, 0, 0, 0,\n",
       "       0, 0, 0, 0, 0, 0, 0, 0, 0, 0, 0, 0, 0, 0, 0, 0, 0, 0, 0, 0, 0, 0,\n",
       "       0, 0, 0, 0, 0, 0, 0, 0, 0, 0, 0, 0, 0, 0, 0, 0, 0, 0, 0, 1, 1, 1,\n",
       "       1, 0, 0, 0, 0, 0, 0, 0, 0, 0, 0, 0, 0, 0, 0, 0, 0, 0, 1, 0, 0, 0,\n",
       "       0, 0, 0, 0, 0, 0, 1, 0, 0, 0, 0, 0, 0, 0, 0, 0, 0, 0, 0, 0, 0, 0,\n",
       "       0, 0, 1, 0, 0, 0, 0, 0, 1, 0, 1, 0, 0, 0, 1, 1, 1, 0, 0, 0, 0, 1,\n",
       "       1, 0, 0, 0, 0, 0, 0, 0, 0, 0, 0, 0, 0, 1, 1, 0, 0, 0, 0, 0, 0, 0,\n",
       "       1, 0, 0, 0, 0, 0, 0, 0, 0, 0, 0, 0, 0, 0, 0, 0, 1, 0, 0, 0, 0, 0,\n",
       "       0, 0, 0, 0, 0, 0, 0, 0, 0, 0, 0, 1, 0, 0, 0, 0, 0, 0, 0, 0, 0, 0,\n",
       "       0, 1, 0, 0, 0, 0, 0, 0, 0, 0, 0, 1, 0, 0, 0, 0, 0, 0, 0, 0, 0, 0,\n",
       "       0, 0, 0, 0, 0, 0, 0, 0, 0, 0, 0, 0, 0, 0, 0, 0, 0, 0, 0, 0, 0, 0,\n",
       "       0, 0, 0, 0, 0, 0, 0, 0, 0, 0, 0, 0, 0, 0, 0, 0, 0, 0, 0, 0, 0, 0,\n",
       "       0, 0, 0, 0, 0, 0, 0, 0, 0, 0, 0, 0, 0, 0, 0, 0, 0, 0, 0, 0, 0, 0,\n",
       "       0, 0, 0, 0, 0, 0, 0, 0, 0, 0, 0, 0, 0, 0, 0, 0, 0, 0, 0, 0, 0, 0,\n",
       "       0, 0, 0, 0, 0, 0, 0, 0, 0, 0, 0, 0, 1, 0, 0, 0, 0, 0, 0, 0, 0, 0,\n",
       "       0, 0, 0, 0, 0, 0, 0, 0, 0, 0, 0, 0, 0, 0, 0, 0, 0, 0, 1, 0, 0, 0,\n",
       "       0, 0, 0, 0, 0, 0, 0, 0, 0, 0, 0, 0, 0, 0, 0, 0, 0, 0, 0, 0, 0, 0,\n",
       "       0, 0, 0, 0, 0, 0, 0, 0, 0, 0, 0, 0, 0, 0, 0, 0, 0, 0, 0, 0, 0, 0,\n",
       "       0, 0, 0, 0, 0, 0, 0, 0, 0, 0, 0, 0, 0, 0, 0, 0, 0, 0, 0, 0, 0, 0,\n",
       "       0, 0, 0, 0, 0, 0, 0, 0, 0, 0, 0, 0, 0, 0, 0, 0, 0, 0, 1, 0, 0, 0,\n",
       "       0, 0, 0, 0, 0, 0, 0, 0, 0, 0, 0, 0, 0, 0, 0, 0, 0, 0, 0, 0, 0, 0,\n",
       "       0, 0, 0, 0, 0, 0, 0, 0, 0, 0, 0, 0, 0, 0, 0, 0, 0, 0, 0, 0, 0, 0,\n",
       "       0, 0, 0, 0, 0, 0, 0, 0, 0, 0, 0, 0, 0, 0, 0, 0, 0, 0, 0, 0, 0, 0,\n",
       "       0, 0, 0, 0, 0, 0, 0, 0, 0, 0, 0, 0, 0, 0, 0, 0, 0, 0, 0, 0, 0, 0,\n",
       "       0, 0, 0, 0, 0, 0, 0, 0, 0, 0, 0, 0, 0, 0, 0, 0, 0, 0, 0, 0, 0, 0,\n",
       "       0, 0, 0, 0, 0, 0, 0, 0, 0, 0, 0, 0, 0, 0, 0, 0, 0, 0, 0, 0, 0, 0,\n",
       "       0, 0, 0, 0, 0, 0, 0, 0, 0, 0, 0, 0, 0, 0, 0, 0, 0, 0, 0, 0, 0, 0,\n",
       "       0, 0, 0, 0, 0, 0, 0, 0, 0, 0, 0, 0, 0, 0, 0, 0, 0, 0, 0, 0, 0, 0,\n",
       "       0, 0, 0, 0, 0, 0, 0, 0, 0, 0, 0, 0, 0, 0, 0, 0, 0, 0, 0, 0, 0, 0,\n",
       "       0, 0, 0, 0, 0, 0, 0, 0, 0, 0, 0, 0, 0, 0, 0, 0, 0, 0, 0, 0, 0, 0,\n",
       "       0])"
      ]
     },
     "execution_count": 48,
     "metadata": {},
     "output_type": "execute_result"
    }
   ],
   "source": [
    "X_test[1558]"
   ]
  },
  {
   "cell_type": "code",
   "execution_count": 49,
   "id": "2acb5da3",
   "metadata": {},
   "outputs": [
    {
     "data": {
      "text/plain": [
       "array([ 2.80994035e-01,  4.70512200e-01, -5.44039394e-02, -1.63966991e-01,\n",
       "        9.43039974e+12, -2.41849387e+12, -3.90826837e+12,  3.85356446e+11,\n",
       "        1.99825998e+12, -8.98437500e-02,  5.37109375e-02,  8.49609375e-02,\n",
       "       -7.32421875e-03, -1.73309326e-01,  5.27343750e-02, -2.75573730e-02,\n",
       "        3.21655273e-02,  1.42364502e-02, -5.60913086e-02, -1.43432617e-03,\n",
       "       -2.76535034e-01, -3.83758545e-01,  5.34553528e-02, -1.52631475e+11,\n",
       "       -2.07214355e-01,  5.98144531e-03, -3.59500121e+10,  2.03427138e+11,\n",
       "        1.70448263e+11, -3.36444085e+10,  1.15966797e-03, -9.82666016e-02,\n",
       "        1.97267901e+10, -2.12890625e-01, -1.11541748e-02, -3.41491699e-02,\n",
       "        2.54331440e+11,  7.94982910e-02, -1.45996094e-01,  7.38525391e-02,\n",
       "        1.81386129e+11,  1.99032221e+11, -1.62393414e+11,  5.11654604e+11,\n",
       "       -2.21801758e-01,  5.49784049e+10, -2.59453676e+11, -4.79583740e-02,\n",
       "        2.21482834e+11, -7.49306074e+10,  8.80159420e+10,  9.68698680e+10,\n",
       "       -1.13022995e+11, -1.95627681e+11, -2.25261057e+11, -1.40177507e+11,\n",
       "       -1.12883555e+11, -3.71587437e+11,  2.08930778e+11, -1.28380109e+11,\n",
       "       -2.04632945e+11,  4.91874619e+10,  1.26685142e+11,  2.14638900e+11,\n",
       "       -2.82372223e+11,  1.93193783e+11, -3.79333647e+10, -3.49020784e+11,\n",
       "       -4.24965761e+10,  1.08904145e+11,  1.03958059e+11, -1.78942463e+11,\n",
       "       -2.01830397e+11, -9.17268112e+10,  1.08518248e+11, -3.84779471e+11,\n",
       "       -1.24936793e+11,  2.81311684e+11,  2.80416422e+11, -2.85445535e+11,\n",
       "        1.16547899e+11,  4.03809326e+10,  9.69139431e+10, -1.65502038e+11,\n",
       "       -1.76046943e+10, -6.85847747e+10, -2.77077711e+11,  8.28911426e+10,\n",
       "        2.86349648e+11,  1.39545360e+11,  3.86685913e+11,  2.67400431e+11,\n",
       "       -9.38850705e+10, -1.32519839e+11, -4.42111959e+11,  3.61658599e+11,\n",
       "       -1.34454564e+11,  9.96950722e+10, -5.82958366e+10, -1.03705260e+11,\n",
       "        6.29395511e+10, -1.40355160e+11,  1.96429527e+11,  1.37255065e+11,\n",
       "       -2.30579263e+11,  2.05393572e+09,  8.97664000e+10,  1.54087210e+11,\n",
       "       -4.08446256e+11, -8.30043683e+10, -7.41314760e+10,  6.50173841e+10,\n",
       "        1.95962810e+11, -1.46360308e+11, -1.16046146e+11,  2.39429800e+11,\n",
       "       -1.86655355e+11, -5.99746704e-02, -1.53203770e+11, -2.09126878e+11,\n",
       "       -8.50206839e+09, -1.42404629e+11,  4.39217249e+10, -2.19658274e+10,\n",
       "        2.00173543e+11, -3.10620307e+10,  3.87721783e+11,  1.06840797e+11,\n",
       "       -1.65383224e+11,  2.41020218e+11, -1.70594489e+11,  9.98497009e-02,\n",
       "       -1.70594489e+11,  2.92061343e+11,  1.36095422e+11, -2.68338298e+11,\n",
       "       -3.25968260e+11,  3.25968260e+11, -2.54061497e+11, -2.59489150e+11,\n",
       "       -3.24352511e+10,  7.64323650e+10,  2.65337575e+11,  5.80444336e-02,\n",
       "        2.31323242e-02, -6.60095215e-02,  4.20532227e-02,  4.12007695e+10,\n",
       "        6.70245040e+10, -7.78861973e+10,  6.12945557e-02, -4.34417725e-02,\n",
       "       -1.91650391e-02,  8.99810791e-02, -1.83439892e+11, -8.46181278e+10,\n",
       "       -1.51581753e+11,  3.21769714e-02, -1.33361816e-02, -3.67279053e-02,\n",
       "        3.70254517e-02,  1.12281019e+10,  3.44309741e+10,  4.14121999e+10,\n",
       "        3.43664258e+11,  1.89163087e+11, -6.28051758e-02, -3.43664258e+11,\n",
       "       -9.05714768e+10, -1.89658074e+11, -1.85439790e+11, -7.64080177e+10,\n",
       "        1.37810489e+11,  1.03739957e+11,  6.18646614e+10,  2.83216089e+11,\n",
       "        1.13867416e+11, -2.54625194e+11,  1.22985840e-02,  5.74951172e-02,\n",
       "        9.30786133e-02, -8.85009766e-03,  6.81047271e+09,  1.27111307e+11,\n",
       "        1.74784868e+11,  5.35583496e-03,  1.08032227e-02, -1.92642212e-02,\n",
       "        2.45429993e-01,  1.80901475e+11, -2.32210679e+10,  3.38874840e+10,\n",
       "       -1.01013184e-02, -5.73730469e-03, -1.87705994e-01,  2.78793335e-01,\n",
       "        2.52200018e+10, -1.35099905e+11, -1.63114111e+11, -1.92306519e-01,\n",
       "        1.46728516e-01,  2.46429443e-02,  1.58462524e-02, -7.61374845e+10,\n",
       "        1.07565074e+11, -2.33514596e+11, -1.60827637e-01, -8.87756348e-02,\n",
       "       -1.22215880e+11,  5.97982264e+10, -3.43862191e+10,  1.09680502e+11,\n",
       "       -1.66330423e+11,  3.72619629e-02,  2.63977051e-02,  8.06274414e-02,\n",
       "       -1.57211304e-01, -3.32010516e+10,  2.29693087e+11,  2.26747949e+10,\n",
       "        1.00692749e-01, -2.60314941e-02, -1.55822754e-01, -2.15301514e-02,\n",
       "        2.74412756e+11, -7.17139226e+10,  2.10065703e+10, -2.75543213e-01,\n",
       "        9.38339233e-02,  1.36413574e-02,  1.67175293e-01, -7.22773531e+10,\n",
       "        8.96198154e+09, -2.73105990e+11,  5.36651611e-02, -5.03407016e+10,\n",
       "       -5.58776855e-02, -4.49981689e-02,  5.04661039e+10,  5.63433617e+10,\n",
       "       -8.76726023e+10, -3.98956299e-01,  7.61489868e-02, -3.48815918e-01,\n",
       "        3.27926636e-01, -1.20424596e+10, -8.23047429e+10,  1.98373757e+11,\n",
       "       -2.60833740e-01,  1.39732361e-01, -3.82904053e-01,  1.59759521e-01,\n",
       "        7.85522553e+10, -1.55538882e+08, -1.99126169e+11,  2.58911133e-01,\n",
       "        1.34765625e-01, -1.40991211e-02,  4.57153320e-02,  3.80554199e-02,\n",
       "       -2.30407715e-02,  2.20527649e-02, -5.74188232e-02,  1.46376343e+11,\n",
       "       -1.66454584e+11,  2.70771871e+10, -1.04937505e+11,  1.51891947e+10,\n",
       "        2.52574887e+10, -2.93303682e+11, -1.66312677e+11,  1.82371690e+11,\n",
       "       -7.24215071e+10,  2.42660485e+10,  1.97225096e+12,  1.03618549e+11,\n",
       "        1.93601741e+12,  1.67756255e+11, -1.43070317e+11, -1.03489361e+11,\n",
       "       -3.21389176e+10,  1.33779016e+10,  2.05396107e+11, -5.48095703e-02,\n",
       "       -1.53198242e-02, -2.27905273e-01,  4.25384521e-01,  1.52503248e+11,\n",
       "        1.20858116e+11,  1.89883164e+11, -2.12863175e+11, -1.85382525e+11,\n",
       "       -1.50024414e-01,  4.19189453e-01, -7.03704834e-01,  9.66366516e+09,\n",
       "       -1.00849070e+11, -5.11654604e+11,  2.59453676e+11,  3.15551758e-02,\n",
       "       -4.05761719e-01,  1.79870605e-01,  3.86304720e+10,  4.57814421e+10,\n",
       "        3.57513428e-02,  4.51049805e-02,  1.33972168e-02,  4.02477241e+10,\n",
       "       -2.89001465e-01,  6.21261597e-02, -4.23641530e+09, -3.21744635e+10,\n",
       "        1.61273741e+10, -1.73610124e+10,  6.29511298e+09,  5.16015776e+10,\n",
       "        7.58335409e+10,  7.45481439e+09,  1.03368349e+11,  1.82581342e+10,\n",
       "        5.68585833e+10, -1.24875461e+11,  5.05500425e+10, -5.59997559e-03,\n",
       "        6.86517830e+09, -2.45031912e+10,  1.50133798e+11, -4.12597656e-02,\n",
       "       -1.02050781e-01, -3.82080078e-02,  1.04187012e-01, -8.55712891e-02,\n",
       "        1.32766724e-01,  1.09130859e-01,  2.93472290e-01, -6.92138672e-02,\n",
       "       -2.78930664e-02, -1.09100342e-03,  3.02734375e-02, -1.08215332e-01,\n",
       "       -2.53189087e-01, -9.17816162e-02,  3.47179413e-01, -5.66162109e-01,\n",
       "       -7.49511719e-02,  2.38037109e-01,  3.71307373e-01,  9.93576050e-02,\n",
       "       -9.40246582e-02,  6.34765625e-03, -5.44677734e-01, -1.24389648e-01,\n",
       "       -2.93701172e-01, -2.51953125e-01,  1.81296975e+10, -4.38842773e-01,\n",
       "        2.15820312e-01,  2.98889160e-01, -2.45239258e-01,  5.64575195e-02,\n",
       "        8.66699219e-03,  7.01904297e-01, -2.44567871e-01,  2.42980957e-01,\n",
       "        3.04962158e-01, -3.56506348e-01,  6.42395020e-03, -2.71759033e-01,\n",
       "        1.40991211e-02, -1.94602602e+10, -2.21679688e-01,  4.31518555e-01,\n",
       "       -2.53906250e-01, -1.76757812e-01,  1.25000000e-01, -2.16552734e-01,\n",
       "        1.11352539e+00, -2.15515137e-01,  2.44140625e-01, -4.24072266e-01,\n",
       "        1.46881104e-01,  3.05773926e+00, -1.50917053e-01,  1.03492737e+00,\n",
       "       -7.70263672e-02, -8.27636719e-02,  7.40966797e-02, -1.55395508e-01,\n",
       "       -2.17590332e-02, -5.56030273e-02,  3.16528320e-01, -8.69750977e-02,\n",
       "       -1.55151367e-01,  1.42333984e-01, -1.28173828e-02, -2.90283203e-01,\n",
       "        3.25073242e-01,  1.67510986e-01,  2.83813477e-02,  2.76580811e-01,\n",
       "        2.83843994e-01, -1.62080054e+10,  9.72970362e+10, -4.98901367e-01,\n",
       "       -2.03857422e-02, -3.51806641e-01,  2.88818359e-01, -1.60736084e-01,\n",
       "        1.48200989e-02, -1.34277344e-03,  9.39941406e-02, -6.02475473e+09,\n",
       "        8.47473145e-02,  3.27453613e-02, -1.36742533e+09,  1.62648247e+10,\n",
       "       -2.86773682e-01, -3.77500393e+10,  1.43188477e-01,  3.07693481e-01,\n",
       "        3.86054993e-01, -1.40075684e-01, -2.52258301e-01,  1.47705078e-01,\n",
       "       -4.33248366e+10, -6.18843670e+09, -6.78875746e+10,  3.77500393e+10,\n",
       "       -2.59704590e-02, -3.85608673e-01, -2.68554688e-03, -1.87561035e-01,\n",
       "        5.92041016e-03,  1.03077320e+10, -8.42285156e-02,  3.01513672e-02,\n",
       "       -2.46856689e-01,  2.30346680e-01, -1.44653320e-01,  4.47753906e-01,\n",
       "       -1.84997559e-01,  2.46643066e-01, -3.50952148e-02, -4.19326782e-01,\n",
       "       -1.03077320e+10, -1.95861816e-01,  7.37304688e-02,  3.20556641e-01,\n",
       "        1.94015503e-01,  5.31616211e-02,  4.75219727e-01, -5.27221680e-01,\n",
       "        1.02752686e-01,  4.12597656e-02, -2.85217285e-01,  1.62080054e+10,\n",
       "        5.91303044e+09,  1.36742533e+09,  9.22681197e+10, -9.22681197e+10,\n",
       "        2.09655762e-02,  1.49078369e-01,  2.26364253e+11,  2.48718262e-02,\n",
       "        1.44775391e-01,  4.20349121e-01, -1.03332520e-01, -4.72412109e-02,\n",
       "       -3.95507812e-02,  2.05230713e-03,  2.35438828e+11,  1.93542480e-01,\n",
       "        6.07029258e+10,  5.72509766e-02, -2.23388672e-01,  1.11083984e-02,\n",
       "        6.10351562e-04,  3.90625000e-03,  5.65948486e-02,  8.39233398e-03,\n",
       "       -1.38336182e-01,  8.42094421e-02, -1.36352539e-01, -4.13208008e-02,\n",
       "        6.52954102e-01, -1.77734375e-01,  3.32031250e-01, -5.78178406e-01,\n",
       "       -1.77978516e-01, -7.67059326e-02,  6.68821744e+10, -3.07617188e-02,\n",
       "        1.42822266e-02,  1.29394531e-02, -5.74340820e-02, -4.57641602e-01,\n",
       "        1.04309082e-01, -1.44729614e-01, -8.47167969e-02,  7.95402527e-02,\n",
       "       -2.96905518e-01,  1.89453125e-01,  5.92041016e-02,  2.67333984e-01,\n",
       "        1.40686035e-01,  9.78775024e-02, -6.07029258e+10,  1.76818848e-01,\n",
       "       -2.53906250e-02, -5.83435059e-01,  4.55017090e-02,  1.95312500e-02,\n",
       "       -8.03415979e+10,  2.24609375e-01,  8.30078125e-03,  6.82983398e-02,\n",
       "       -5.88378906e-02,  4.47998047e-02,  1.82189941e-02, -2.82348633e-01,\n",
       "       -2.35438828e+11, -6.79931641e-02,  1.07543945e-01,  5.59936523e-01,\n",
       "       -1.92871094e-02, -5.94386278e+10,  3.64318848e-01, -5.11688232e-01,\n",
       "        1.40380859e-01, -3.70849609e-01, -5.23437500e-01, -5.54199219e-01,\n",
       "       -3.97216797e-01,  7.99865723e-02, -6.38732910e-02,  3.97338867e-02,\n",
       "        2.14843750e-02, -2.26364253e+11, -1.60278320e-01,  1.48681641e-01,\n",
       "        2.23083496e-01, -2.43353271e+00, -1.17004395e-01, -8.15429688e-02,\n",
       "        1.08416748e+00, -9.41650391e-01, -1.37573242e-01,  9.39941406e-02,\n",
       "       -3.02978516e-01,  9.21630859e-02,  1.22070312e-01, -9.30786133e-03,\n",
       "        1.18012171e+11,  3.27148438e-02,  1.98059082e-01, -2.92968750e-03,\n",
       "       -6.68821744e+10,  7.03430176e-03, -7.67822266e-02, -4.18815613e-02,\n",
       "        3.69567871e-01, -2.68554688e-03,  3.63159180e-02,  1.10137939e-01,\n",
       "       -1.15101465e+11, -2.21179199e+00,  1.45233154e-01, -1.65313721e-01,\n",
       "        1.44592285e-01,  9.06982422e-02,  3.50708008e-01, -5.99060059e-02,\n",
       "       -5.17517090e-01, -1.91894531e-01, -1.15844727e-01, -3.34045410e-01,\n",
       "        1.60003662e-01, -1.69433594e-01, -1.19959209e+11,  3.25927734e-02,\n",
       "       -5.35888672e-02, -4.95366463e+10, -1.78649902e-01, -3.60717773e-02,\n",
       "       -1.71645370e+10, -6.27591033e+10, -6.58874512e-02,  6.25457764e-02,\n",
       "        2.44140625e-02,  4.91121641e+10,  1.93603516e-01, -2.40478516e-01,\n",
       "       -7.52449036e-02,  9.79309082e-02,  3.11668124e+10, -4.98291548e+10,\n",
       "        1.54541016e-01,  3.34472656e-02, -6.00585938e-02, -5.00488281e-02,\n",
       "       -1.74560547e-01, -1.02912903e-01, -5.73730469e-02, -3.58642578e-01,\n",
       "        1.30187988e-01, -3.66058350e-02, -1.40747070e+00, -1.42517090e-02,\n",
       "        4.98291548e+10, -9.35058594e-02,  1.90811157e-01, -1.74865723e-02,\n",
       "        1.13037109e-01, -2.19573975e-01, -2.22877502e-01, -5.49316406e-02,\n",
       "       -1.40869141e-01, -5.62133789e-02, -1.52587891e-03,  1.73583984e-01,\n",
       "        7.64088114e+10,  2.85797119e-01,  8.46405029e-02, -2.17529297e-01,\n",
       "        1.12915039e-02,  1.48925781e-01, -4.91121641e+10, -6.30772226e+10,\n",
       "        1.95312500e-01, -1.42669678e-01, -2.81585693e-01, -8.64562988e-02,\n",
       "       -7.64088114e+10, -1.51367188e-01,  2.07623146e+10,  2.78320312e-02,\n",
       "        9.41772461e-02,  2.27111816e-01,  8.97216797e-03,  1.18453979e-01,\n",
       "        1.72973633e-01, -1.28173828e-01,  4.95366463e+10,  4.79736328e-02,\n",
       "        1.56982422e-01,  1.24755859e-01, -9.28955078e-02,  1.50108337e-02,\n",
       "        1.16271973e-01, -6.09741211e-02, -1.11007690e-01,  1.18481445e+00,\n",
       "       -3.02734375e-02,  4.97039795e-01, -4.55200195e-01,  7.91015625e-02,\n",
       "        1.28631592e-02,  6.27591033e+10, -1.70028687e-01, -1.70654297e-01,\n",
       "       -1.08655816e+11, -1.09909058e-01,  2.06836700e-01,  8.05358887e-02,\n",
       "        1.17172553e+11, -3.71093750e-02, -3.11668124e+10,  2.46582031e-02,\n",
       "       -2.07623146e+10,  2.50701904e-02,  4.22119141e-01, -1.41479492e-01,\n",
       "        3.11645508e-01,  2.13928223e-02,  1.19705200e-01, -3.89770508e-01,\n",
       "       -1.18041992e-01,  1.71645370e+10,  1.08655816e+11, -5.82885742e-02,\n",
       "       -8.04977417e-02,  1.34553909e-02,  8.97216797e-02,  2.15076447e-01,\n",
       "        1.44104004e-01,  1.78909302e-02, -1.25335693e-01, -2.12097168e-03,\n",
       "        2.89306641e-02, -1.46484375e-03, -5.93566895e-02,  1.62353516e-02,\n",
       "       -4.75311279e-02,  1.94702148e-02, -5.50994873e-02,  2.44140625e-04,\n",
       "       -1.10229492e-01,  7.50122070e-02,  1.88110352e-01, -8.51440430e-02,\n",
       "       -1.24095917e-01,  1.32568359e-01,  5.67016602e-02, -6.82983398e-02,\n",
       "       -4.69970703e-02, -1.19262695e-01,  2.31933594e-02, -5.49926758e-02,\n",
       "       -1.51683807e-01, -5.62591553e-02, -1.87377930e-02, -4.52941895e-01,\n",
       "       -2.68859863e-02,  2.77206421e-01,  2.82287598e-04, -3.30932617e-01,\n",
       "       -2.47192383e-02, -7.33349291e+10, -9.49707031e-02, -2.94227600e-01,\n",
       "       -1.69413153e+10, -2.01660156e-01, -1.14182304e+10,  3.76298530e+10,\n",
       "        1.15064326e+11, -2.21131398e+10,  9.65116098e+10, -2.55291125e+10,\n",
       "       -2.95410156e-02, -1.23140827e+11,  9.73364757e+10, -1.58140039e+11,\n",
       "        2.10898764e+10,  2.33300063e+10, -3.20495605e-01,  1.38977051e-01,\n",
       "       -3.16635132e-01, -1.08343124e-01,  1.32199219e+11, -2.93579102e-01,\n",
       "       -1.62384033e-01,  1.39121973e+11,  5.76339722e-01, -2.84021878e+10,\n",
       "       -8.95352747e+10, -9.70574800e+10,  3.64532471e-01, -4.82096952e+10,\n",
       "        5.89288834e+10,  2.49786377e-01, -4.53332930e+10, -3.79720233e+10,\n",
       "        2.12861951e+09, -2.19298130e+11,  1.76656865e+11, -5.99395752e-01,\n",
       "       -1.53594971e-01, -2.91137695e-02, -2.61848450e-01, -5.02807512e+10,\n",
       "       -3.11515644e+10, -8.32946777e-01,  3.27660175e+10, -5.79223633e-02,\n",
       "        1.57594509e+11,  7.51306159e+10, -6.59084123e+10, -2.12829590e-01,\n",
       "       -2.35497800e+10, -2.42725270e+10,  4.09606934e-01,  1.15160072e+11,\n",
       "        2.70023490e+10, -1.06608656e+11, -6.94574558e+08,  1.57521316e+11,\n",
       "       -3.40148926e-01,  3.26538086e-03,  3.07006836e-01,  8.54492188e-04,\n",
       "        7.33349291e+10,  2.07519531e-01,  1.91459656e-01,  1.69413153e+10,\n",
       "        1.88568115e-01,  1.14182304e+10, -3.76298530e+10, -1.15064326e+11,\n",
       "        2.21131398e+10, -9.65116098e+10,  2.55291125e+10,  1.14662170e-01,\n",
       "        1.23140827e+11, -9.73364757e+10,  1.58140039e+11, -2.10898764e+10,\n",
       "       -2.33300063e+10,  2.70996094e-01,  1.30615234e-02,  2.73147583e-01,\n",
       "        1.01409912e-01, -1.32199219e+11,  3.06030273e-01, -1.84234619e-01,\n",
       "       -1.39121973e+11, -4.37202454e-01,  2.84021878e+10,  8.95352747e+10,\n",
       "        9.70574800e+10, -2.30102539e-01,  4.82096952e+10, -5.89288834e+10,\n",
       "       -3.84780884e-01,  4.53332930e+10,  3.79720233e+10, -2.12861951e+09,\n",
       "        2.19298130e+11, -1.76656865e+11,  5.57037354e-01,  1.15570068e-01,\n",
       "       -2.93884277e-02,  3.27751160e-01,  5.02807512e+10,  3.11515644e+10,\n",
       "        2.63061523e-02, -3.27660175e+10,  1.52526855e-01, -1.57594509e+11,\n",
       "       -7.51306159e+10,  6.59084123e+10,  2.83203125e-01,  2.35497800e+10,\n",
       "        2.42725270e+10, -3.97827148e-01, -1.15160072e+11, -2.70023490e+10,\n",
       "        1.06608656e+11,  6.94574558e+08, -1.57521316e+11, -8.07800293e-02,\n",
       "        1.58992767e-01, -8.14932433e+10, -1.16271973e-02,  0.00000000e+00,\n",
       "        0.00000000e+00, -6.91871643e-02,  0.00000000e+00,  9.64355469e-03,\n",
       "        0.00000000e+00,  0.00000000e+00,  0.00000000e+00,  0.00000000e+00,\n",
       "        0.00000000e+00,  0.00000000e+00,  0.00000000e+00,  0.00000000e+00,\n",
       "        0.00000000e+00,  0.00000000e+00,  0.00000000e+00,  0.00000000e+00,\n",
       "       -7.01293945e-02, -3.84101868e-02,  2.02217102e-02,  3.51028442e-02,\n",
       "        0.00000000e+00,  0.00000000e+00,  2.94036865e-02,  0.00000000e+00,\n",
       "       -2.90184021e-02,  0.00000000e+00,  0.00000000e+00,  0.00000000e+00,\n",
       "        8.14932433e+10,  0.00000000e+00,  0.00000000e+00, -1.21429443e-01,\n",
       "        0.00000000e+00,  0.00000000e+00,  0.00000000e+00,  0.00000000e+00,\n",
       "        0.00000000e+00])"
      ]
     },
     "execution_count": 49,
     "metadata": {},
     "output_type": "execute_result"
    }
   ],
   "source": [
    "winner_LinearRegression['my_LinearRegression'].coef_"
   ]
  },
  {
   "cell_type": "code",
   "execution_count": 50,
   "id": "35863906",
   "metadata": {},
   "outputs": [
    {
     "data": {
      "text/plain": [
       "<matplotlib.collections.PathCollection at 0x7eff544a2460>"
      ]
     },
     "execution_count": 50,
     "metadata": {},
     "output_type": "execute_result"
    },
    {
     "data": {
      "image/png": "[encoded data removed]",
      "text/plain": [
       "<Figure size 432x288 with 1 Axes>"
      ]
     },
     "metadata": {
      "needs_background": "light"
     },
     "output_type": "display_data"
    }
   ],
   "source": [
    "plt.scatter(\n",
    "    range(len(winner_LinearRegression['my_LinearRegression'].coef_)),\n",
    "    winner_LinearRegression['my_LinearRegression'].coef_\n",
    ")"
   ]
  },
  {
   "cell_type": "code",
   "execution_count": null,
   "id": "c2f43ae0",
   "metadata": {},
   "outputs": [],
   "source": [
    "importances = forest.feature_importances_\n",
    "#feature_names = [f\"feature {i}\" for i in range(X.shape[1])]\n",
    "feature_names = [i for i in range(X.shape[1])]\n",
    "forest_importances = pd.Series(importances, index=feature_names)\n",
    "forest_importances.sort_values(ascending=False,inplace=True)\n",
    "plt.hist(forest_importances,bins=100)\n",
    "plt.show()"
   ]
  },
  {
   "cell_type": "code",
   "execution_count": 52,
   "id": "d1d205a2",
   "metadata": {},
   "outputs": [],
   "source": [
    "lin_importances=winner_LinearRegression['my_LinearRegression'].coef_\n",
    "lin_feature_names= [i for i in range(X.shape[1])]\n",
    "lin_importances_series=pd.Series(lin_importances, index=lin_feature_names)"
   ]
  },
  {
   "cell_type": "code",
   "execution_count": 57,
   "id": "6bb4005e",
   "metadata": {},
   "outputs": [
    {
     "data": {
      "text/plain": [
       "4      9.430400e+12\n",
       "6      3.908268e+12\n",
       "5      2.418494e+12\n",
       "8      1.998260e+12\n",
       "274    1.972251e+12\n",
       "276    1.936017e+12\n",
       "297    5.116546e+11\n",
       "43     5.116546e+11\n",
       "94     4.421120e+11\n",
       "108    4.084463e+11\n",
       "126    3.877218e+11\n",
       "90     3.866859e+11\n",
       "7      3.853564e+11\n",
       "75     3.847795e+11\n",
       "57     3.715874e+11\n",
       "95     3.616586e+11\n",
       "67     3.490208e+11\n",
       "164    3.436643e+11\n",
       "167    3.436643e+11\n",
       "137    3.259683e+11\n",
       "dtype: float64"
      ]
     },
     "execution_count": 57,
     "metadata": {},
     "output_type": "execute_result"
    }
   ],
   "source": [
    "lin_importances_series.abs().sort_values(ascending=False)[0:20]"
   ]
  }
 ],
 "metadata": {
  "kernelspec": {
   "display_name": "Python 3",
   "language": "python",
   "name": "python3"
  },
  "language_info": {
   "codemirror_mode": {
    "name": "ipython",
    "version": 3
   },
   "file_extension": ".py",
   "mimetype": "text/x-python",
   "name": "python",
   "nbconvert_exporter": "python",
   "pygments_lexer": "ipython3",
   "version": "3.8.8"
  }
 },
 "nbformat": 4,
 "nbformat_minor": 5
}
