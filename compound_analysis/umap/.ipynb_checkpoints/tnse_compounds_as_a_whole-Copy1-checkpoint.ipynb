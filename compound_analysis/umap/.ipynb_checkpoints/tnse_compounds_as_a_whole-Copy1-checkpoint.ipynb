{
 "cells": [
  {
   "cell_type": "code",
   "execution_count": 1,
   "id": "61004298",
   "metadata": {},
   "outputs": [],
   "source": [
    "import sklearn.manifold"
   ]
  },
  {
   "cell_type": "code",
   "execution_count": 2,
   "id": "f16e67b6",
   "metadata": {},
   "outputs": [],
   "source": [
    "import umap"
   ]
  },
  {
   "cell_type": "code",
   "execution_count": 3,
   "id": "d5507a66",
   "metadata": {},
   "outputs": [],
   "source": [
    "import pandas as pd"
   ]
  },
  {
   "cell_type": "code",
   "execution_count": 4,
   "id": "6dd3951b",
   "metadata": {},
   "outputs": [],
   "source": [
    "import numpy as np"
   ]
  },
  {
   "cell_type": "code",
   "execution_count": 5,
   "id": "48442731",
   "metadata": {},
   "outputs": [],
   "source": [
    "import matplotlib.pyplot as plt\n",
    "from matplotlib import cm\n",
    "import matplotlib as mpl"
   ]
  },
  {
   "cell_type": "code",
   "execution_count": 6,
   "id": "bdafda9c",
   "metadata": {},
   "outputs": [],
   "source": [
    "training_set_fingerprint_address='../../../../results/compound_exploration/[M+H]+_metlin_fingerprints.bin'"
   ]
  },
  {
   "cell_type": "code",
   "execution_count": null,
   "id": "82a7a28d",
   "metadata": {},
   "outputs": [],
   "source": []
  },
  {
   "cell_type": "code",
   "execution_count": null,
   "id": "7cf1baa9",
   "metadata": {},
   "outputs": [],
   "source": []
  },
  {
   "cell_type": "code",
   "execution_count": 7,
   "id": "1b770913",
   "metadata": {},
   "outputs": [],
   "source": [
    "training=pd.read_pickle(training_set_fingerprint_address)"
   ]
  },
  {
   "cell_type": "code",
   "execution_count": 8,
   "id": "8452bc5f",
   "metadata": {},
   "outputs": [
    {
     "data": {
      "text/html": [
       "<div>\n",
       "<style scoped>\n",
       "    .dataframe tbody tr th:only-of-type {\n",
       "        vertical-align: middle;\n",
       "    }\n",
       "\n",
       "    .dataframe tbody tr th {\n",
       "        vertical-align: top;\n",
       "    }\n",
       "\n",
       "    .dataframe thead th {\n",
       "        text-align: right;\n",
       "    }\n",
       "</style>\n",
       "<table border=\"1\" class=\"dataframe\">\n",
       "  <thead>\n",
       "    <tr style=\"text-align: right;\">\n",
       "      <th></th>\n",
       "      <th>InChIKey</th>\n",
       "      <th>cactvs_fingerprint</th>\n",
       "      <th>metlin_adduct_or_nist</th>\n",
       "      <th>cid</th>\n",
       "      <th>fingerprint_array</th>\n",
       "    </tr>\n",
       "  </thead>\n",
       "  <tbody>\n",
       "    <tr>\n",
       "      <th>0</th>\n",
       "      <td>UQTZMGFTRHFAAM-UHFFFAOYSA-N</td>\n",
       "      <td>1100000001110010001100000000000000000000000000...</td>\n",
       "      <td>[M+H]+</td>\n",
       "      <td>6272.0</td>\n",
       "      <td>[1, 1, 0, 0, 0, 0, 0, 0, 0, 1, 1, 1, 0, 0, 1, ...</td>\n",
       "    </tr>\n",
       "    <tr>\n",
       "      <th>1</th>\n",
       "      <td>RLAWWYSOJDYHDC-UHFFFAOYSA-N</td>\n",
       "      <td>1110000001111011001110000000000000000000000000...</td>\n",
       "      <td>[M+H]+</td>\n",
       "      <td>3937.0</td>\n",
       "      <td>[1, 1, 1, 0, 0, 0, 0, 0, 0, 1, 1, 1, 1, 0, 1, ...</td>\n",
       "    </tr>\n",
       "    <tr>\n",
       "      <th>2</th>\n",
       "      <td>BAWFJGJZGIEFAR-UHFFFAOYSA-N</td>\n",
       "      <td>1110000001111011101111000000001100000000000000...</td>\n",
       "      <td>[M+H]+</td>\n",
       "      <td>925.0</td>\n",
       "      <td>[1, 1, 1, 0, 0, 0, 0, 0, 0, 1, 1, 1, 1, 0, 1, ...</td>\n",
       "    </tr>\n",
       "    <tr>\n",
       "      <th>3</th>\n",
       "      <td>BKRGVLQUQGGVSM-UHFFFAOYSA-N</td>\n",
       "      <td>1110000001111011101000000000000000000000000000...</td>\n",
       "      <td>[M+H]+</td>\n",
       "      <td>3938.0</td>\n",
       "      <td>[1, 1, 1, 0, 0, 0, 0, 0, 0, 1, 1, 1, 1, 0, 1, ...</td>\n",
       "    </tr>\n",
       "    <tr>\n",
       "      <th>4</th>\n",
       "      <td>LSQZJLSUYDQPKJ-UHFFFAOYSA-N</td>\n",
       "      <td>1110000001111011001110000000000001000000000000...</td>\n",
       "      <td>[M+H]+</td>\n",
       "      <td>2171.0</td>\n",
       "      <td>[1, 1, 1, 0, 0, 0, 0, 0, 0, 1, 1, 1, 1, 0, 1, ...</td>\n",
       "    </tr>\n",
       "    <tr>\n",
       "      <th>...</th>\n",
       "      <td>...</td>\n",
       "      <td>...</td>\n",
       "      <td>...</td>\n",
       "      <td>...</td>\n",
       "      <td>...</td>\n",
       "    </tr>\n",
       "    <tr>\n",
       "      <th>4049</th>\n",
       "      <td>PMMQOFWSZRQWEV-UHFFFAOYSA-N</td>\n",
       "      <td>1111000001111010001111000000000000000000000000...</td>\n",
       "      <td>[M+H]+</td>\n",
       "      <td>10325960.0</td>\n",
       "      <td>[1, 1, 1, 1, 0, 0, 0, 0, 0, 1, 1, 1, 1, 0, 1, ...</td>\n",
       "    </tr>\n",
       "    <tr>\n",
       "      <th>4050</th>\n",
       "      <td>XZFSMUXVAYCHFO-UHFFFAOYSA-N</td>\n",
       "      <td>1111000001111111101100000000000000000000000000...</td>\n",
       "      <td>[M+H]+</td>\n",
       "      <td>641596.0</td>\n",
       "      <td>[1, 1, 1, 1, 0, 0, 0, 0, 0, 1, 1, 1, 1, 1, 1, ...</td>\n",
       "    </tr>\n",
       "    <tr>\n",
       "      <th>4051</th>\n",
       "      <td>RLNIWODKAMVILO-UHFFFAOYSA-N</td>\n",
       "      <td>1110000001110000001100000000000000000000000000...</td>\n",
       "      <td>[M+H]+</td>\n",
       "      <td>54273075.0</td>\n",
       "      <td>[1, 1, 1, 0, 0, 0, 0, 0, 0, 1, 1, 1, 0, 0, 0, ...</td>\n",
       "    </tr>\n",
       "    <tr>\n",
       "      <th>4052</th>\n",
       "      <td>NNJVILVZKWQKPM-UHFFFAOYSA-N</td>\n",
       "      <td>1110000001110011001000000000000000000000000000...</td>\n",
       "      <td>[M+H]+</td>\n",
       "      <td>3676.0</td>\n",
       "      <td>[1, 1, 1, 0, 0, 0, 0, 0, 0, 1, 1, 1, 0, 0, 1, ...</td>\n",
       "    </tr>\n",
       "    <tr>\n",
       "      <th>4053</th>\n",
       "      <td>WRMRXPASUROZGT-UHFFFAOYSA-N</td>\n",
       "      <td>1110000001110011001000000000000000000000000000...</td>\n",
       "      <td>[M+H]+</td>\n",
       "      <td>24415.0</td>\n",
       "      <td>[1, 1, 1, 0, 0, 0, 0, 0, 0, 1, 1, 1, 0, 0, 1, ...</td>\n",
       "    </tr>\n",
       "  </tbody>\n",
       "</table>\n",
       "<p>4040 rows × 5 columns</p>\n",
       "</div>"
      ],
      "text/plain": [
       "                         InChIKey  \\\n",
       "0     UQTZMGFTRHFAAM-UHFFFAOYSA-N   \n",
       "1     RLAWWYSOJDYHDC-UHFFFAOYSA-N   \n",
       "2     BAWFJGJZGIEFAR-UHFFFAOYSA-N   \n",
       "3     BKRGVLQUQGGVSM-UHFFFAOYSA-N   \n",
       "4     LSQZJLSUYDQPKJ-UHFFFAOYSA-N   \n",
       "...                           ...   \n",
       "4049  PMMQOFWSZRQWEV-UHFFFAOYSA-N   \n",
       "4050  XZFSMUXVAYCHFO-UHFFFAOYSA-N   \n",
       "4051  RLNIWODKAMVILO-UHFFFAOYSA-N   \n",
       "4052  NNJVILVZKWQKPM-UHFFFAOYSA-N   \n",
       "4053  WRMRXPASUROZGT-UHFFFAOYSA-N   \n",
       "\n",
       "                                     cactvs_fingerprint metlin_adduct_or_nist  \\\n",
       "0     1100000001110010001100000000000000000000000000...                [M+H]+   \n",
       "1     1110000001111011001110000000000000000000000000...                [M+H]+   \n",
       "2     1110000001111011101111000000001100000000000000...                [M+H]+   \n",
       "3     1110000001111011101000000000000000000000000000...                [M+H]+   \n",
       "4     1110000001111011001110000000000001000000000000...                [M+H]+   \n",
       "...                                                 ...                   ...   \n",
       "4049  1111000001111010001111000000000000000000000000...                [M+H]+   \n",
       "4050  1111000001111111101100000000000000000000000000...                [M+H]+   \n",
       "4051  1110000001110000001100000000000000000000000000...                [M+H]+   \n",
       "4052  1110000001110011001000000000000000000000000000...                [M+H]+   \n",
       "4053  1110000001110011001000000000000000000000000000...                [M+H]+   \n",
       "\n",
       "             cid                                  fingerprint_array  \n",
       "0         6272.0  [1, 1, 0, 0, 0, 0, 0, 0, 0, 1, 1, 1, 0, 0, 1, ...  \n",
       "1         3937.0  [1, 1, 1, 0, 0, 0, 0, 0, 0, 1, 1, 1, 1, 0, 1, ...  \n",
       "2          925.0  [1, 1, 1, 0, 0, 0, 0, 0, 0, 1, 1, 1, 1, 0, 1, ...  \n",
       "3         3938.0  [1, 1, 1, 0, 0, 0, 0, 0, 0, 1, 1, 1, 1, 0, 1, ...  \n",
       "4         2171.0  [1, 1, 1, 0, 0, 0, 0, 0, 0, 1, 1, 1, 1, 0, 1, ...  \n",
       "...          ...                                                ...  \n",
       "4049  10325960.0  [1, 1, 1, 1, 0, 0, 0, 0, 0, 1, 1, 1, 1, 0, 1, ...  \n",
       "4050    641596.0  [1, 1, 1, 1, 0, 0, 0, 0, 0, 1, 1, 1, 1, 1, 1, ...  \n",
       "4051  54273075.0  [1, 1, 1, 0, 0, 0, 0, 0, 0, 1, 1, 1, 0, 0, 0, ...  \n",
       "4052      3676.0  [1, 1, 1, 0, 0, 0, 0, 0, 0, 1, 1, 1, 0, 0, 1, ...  \n",
       "4053     24415.0  [1, 1, 1, 0, 0, 0, 0, 0, 0, 1, 1, 1, 0, 0, 1, ...  \n",
       "\n",
       "[4040 rows x 5 columns]"
      ]
     },
     "execution_count": 8,
     "metadata": {},
     "output_type": "execute_result"
    }
   ],
   "source": [
    "training"
   ]
  },
  {
   "cell_type": "code",
   "execution_count": 9,
   "id": "17e164c2",
   "metadata": {},
   "outputs": [],
   "source": [
    "X_metlin=np.array(training.fingerprint_array.to_list())"
   ]
  },
  {
   "cell_type": "code",
   "execution_count": 10,
   "id": "5ea657d8",
   "metadata": {},
   "outputs": [
    {
     "data": {
      "text/plain": [
       "(4040, 881)"
      ]
     },
     "execution_count": 10,
     "metadata": {},
     "output_type": "execute_result"
    }
   ],
   "source": [
    "np.shape(X_metlin)"
   ]
  },
  {
   "cell_type": "code",
   "execution_count": 11,
   "id": "588153d3",
   "metadata": {},
   "outputs": [],
   "source": [
    "hcd_pos_nist_address='../../../../results/compound_exploration/[M+H]+_hcd_cohort_fingerprints.bin'"
   ]
  },
  {
   "cell_type": "code",
   "execution_count": 12,
   "id": "6d3bcc0d",
   "metadata": {},
   "outputs": [],
   "source": [
    "hcd_pos_nist_panda=pd.read_pickle(hcd_pos_nist_address)"
   ]
  },
  {
   "cell_type": "code",
   "execution_count": 13,
   "id": "6070b5b2",
   "metadata": {},
   "outputs": [],
   "source": [
    "hcd_pos_nist_panda=hcd_pos_nist_panda.reset_index()"
   ]
  },
  {
   "cell_type": "code",
   "execution_count": 14,
   "id": "e9207061",
   "metadata": {},
   "outputs": [],
   "source": [
    "X_nist=np.array(hcd_pos_nist_panda.fingerprint_array.to_list())"
   ]
  },
  {
   "cell_type": "code",
   "execution_count": 15,
   "id": "bf6e78a3",
   "metadata": {},
   "outputs": [
    {
     "data": {
      "text/plain": [
       "(8298, 881)"
      ]
     },
     "execution_count": 15,
     "metadata": {},
     "output_type": "execute_result"
    }
   ],
   "source": [
    "np.shape(X_nist)"
   ]
  },
  {
   "cell_type": "code",
   "execution_count": null,
   "id": "b49a24a9",
   "metadata": {},
   "outputs": [],
   "source": [
    "\n"
   ]
  },
  {
   "cell_type": "code",
   "execution_count": null,
   "id": "7eb27723",
   "metadata": {},
   "outputs": [],
   "source": []
  },
  {
   "cell_type": "code",
   "execution_count": 16,
   "id": "350b6045",
   "metadata": {},
   "outputs": [],
   "source": [
    "X=np.vstack((X_metlin,X_nist))"
   ]
  },
  {
   "cell_type": "code",
   "execution_count": 17,
   "id": "34363404",
   "metadata": {},
   "outputs": [
    {
     "data": {
      "text/plain": [
       "(12338, 881)"
      ]
     },
     "execution_count": 17,
     "metadata": {},
     "output_type": "execute_result"
    }
   ],
   "source": [
    "np.shape(X)"
   ]
  },
  {
   "cell_type": "code",
   "execution_count": 33,
   "id": "96869c6a",
   "metadata": {},
   "outputs": [],
   "source": [
    "cheap_colors=['red' for i in range(4040)] + ['r' for i in range(8298)]\n",
    "expensive_colors=['red' for i in range(4040)] + [cm.viridis(1-hcd_pos_nist_panda.at[i,'dot_product']) for i in range(8298)]"
   ]
  },
  {
   "cell_type": "code",
   "execution_count": 34,
   "id": "07569e5d",
   "metadata": {},
   "outputs": [],
   "source": [
    "perplexity=[5,10,20,40,100]\n",
    "learning_rate=[50,100,200,400,800]\n",
    "metric='jaccard'\n",
    "random_state=1337\n",
    "n_jobs=4\n",
    "#erplexity=[10]\n",
    "#earning_rate=[30]"
   ]
  },
  {
   "cell_type": "code",
   "execution_count": 35,
   "id": "b9211ea5",
   "metadata": {},
   "outputs": [],
   "source": [
    "# my_UMAP=umap.UMAP(\n",
    "#     n_neighbors=n_neighbors,\n",
    "#     min_dist=min_dist,\n",
    "#     n_components=n_components,\n",
    "#     metric=metric,\n",
    "#     random_state=1337    \n",
    "# )"
   ]
  },
  {
   "cell_type": "code",
   "execution_count": 36,
   "id": "a8863934",
   "metadata": {},
   "outputs": [],
   "source": [
    "# my_fingerprints_embeded=my_UMAP.fit_transform(X)"
   ]
  },
  {
   "cell_type": "code",
   "execution_count": null,
   "id": "a8e05321",
   "metadata": {},
   "outputs": [],
   "source": []
  },
  {
   "cell_type": "code",
   "execution_count": null,
   "id": "83d8006e",
   "metadata": {},
   "outputs": [],
   "source": []
  },
  {
   "cell_type": "code",
   "execution_count": null,
   "id": "0575d892",
   "metadata": {},
   "outputs": [],
   "source": []
  },
  {
   "cell_type": "code",
   "execution_count": null,
   "id": "a97f10ff",
   "metadata": {},
   "outputs": [
    {
     "name": "stdout",
     "output_type": "stream",
     "text": [
      "0 and 0\n"
     ]
    },
    {
     "name": "stderr",
     "output_type": "stream",
     "text": [
      "/home/rictuar/anaconda3/lib/python3.8/site-packages/sklearn/manifold/_t_sne.py:691: FutureWarning: 'square_distances' has been introduced in 0.24 to help phase out legacy squaring behavior. The 'legacy' setting will be removed in 1.1 (renaming of 0.26), and the default setting will be changed to True. In 1.3, 'square_distances' will be removed altogether, and distances will be squared by default. Set 'square_distances'=True to silence this warning.\n",
      "  warnings.warn(\n",
      "/home/rictuar/anaconda3/lib/python3.8/site-packages/sklearn/metrics/pairwise.py:1776: DataConversionWarning: Data was converted to boolean for metric jaccard\n",
      "  warnings.warn(msg, DataConversionWarning)\n",
      "/home/rictuar/anaconda3/lib/python3.8/site-packages/sklearn/metrics/pairwise.py:1776: DataConversionWarning: Data was converted to boolean for metric jaccard\n",
      "  warnings.warn(msg, DataConversionWarning)\n"
     ]
    },
    {
     "name": "stdout",
     "output_type": "stream",
     "text": [
      "0 and 1\n"
     ]
    },
    {
     "name": "stderr",
     "output_type": "stream",
     "text": [
      "/home/rictuar/anaconda3/lib/python3.8/site-packages/sklearn/manifold/_t_sne.py:691: FutureWarning: 'square_distances' has been introduced in 0.24 to help phase out legacy squaring behavior. The 'legacy' setting will be removed in 1.1 (renaming of 0.26), and the default setting will be changed to True. In 1.3, 'square_distances' will be removed altogether, and distances will be squared by default. Set 'square_distances'=True to silence this warning.\n",
      "  warnings.warn(\n",
      "/home/rictuar/anaconda3/lib/python3.8/site-packages/sklearn/metrics/pairwise.py:1776: DataConversionWarning: Data was converted to boolean for metric jaccard\n",
      "  warnings.warn(msg, DataConversionWarning)\n"
     ]
    }
   ],
   "source": [
    "for i,temp_perplexity in enumerate(perplexity):\n",
    "    for j,temp_learning in enumerate(learning_rate):\n",
    "        \n",
    "        print (f'{i} and {j}')\n",
    "        \n",
    "        my_tsne=sklearn.manifold.TSNE(\n",
    "            perplexity=temp_perplexity,\n",
    "            learning_rate=temp_learning,\n",
    "            metric=metric,\n",
    "            n_jobs=n_jobs,\n",
    "            random_state=random_state\n",
    "        )\n",
    "        my_fingerprints_embeded=my_tsne.fit_transform(X)\n",
    "        \n",
    "        s=10\n",
    "        plt.rcParams['font.family'] = 'Arial'\n",
    "        plt.rcParams['font.size']=14\n",
    "        fig,ax=plt.subplots(2,1,figsize=(6.69292, 12),dpi=1200,facecolor='w')\n",
    "        ax[0].set_title('Training Set')\n",
    "        ax[0].scatter(\n",
    "            my_fingerprints_embeded[0:4040,0],\n",
    "            my_fingerprints_embeded[0:4040,1],\n",
    "            c=cheap_colors[0:4040],\n",
    "            alpha=0.1,\n",
    "            s=s\n",
    "        )\n",
    "        ax[0].xaxis.set_visible(False)\n",
    "        ax[0].yaxis.set_visible(False)\n",
    "        # norm=mpl.colors.Normalize(vmin=0,vmax=0)\n",
    "        # sm=plt.cm.ScalarMappable(cmap=plt.get_cmap('red'),norm=norm)\n",
    "        # plt.colorbar(sm,label='Dot Product',ax=ax[0])\n",
    "        ax[1].set_title('Training Set and NIST Subset')\n",
    "        ax[1].scatter(\n",
    "            my_fingerprints_embeded[0:4040,0],\n",
    "            my_fingerprints_embeded[0:4040,1],\n",
    "            c=cheap_colors[0:4040],\n",
    "            alpha=0.1,\n",
    "            s=s#,\n",
    "            #cmap=plt.get_cmap('viridis')\n",
    "        )\n",
    "        ax[1].scatter(\n",
    "            my_fingerprints_embeded[4040:,0],\n",
    "            my_fingerprints_embeded[4040:,1],\n",
    "            c=expensive_colors[4040:],\n",
    "            alpha=0.3,\n",
    "            s=s#,\n",
    "            #cmap=plt.get_cmap('viridis')\n",
    "        )\n",
    "        norm=mpl.colors.Normalize(vmin=0,vmax=1)\n",
    "        sm=plt.cm.ScalarMappable(cmap=plt.get_cmap('viridis'),norm=norm)\n",
    "        plt.colorbar(sm,label='Dot Product',ax=ax[1])\n",
    "        #fig.suptitle('Predictive Model Confusion Matrices')\n",
    "        #fig.supylabel('Actual Class')\n",
    "        #fig.supxlabel('Predicted Class')\n",
    "        plt.savefig(f'./tsne_hyperparam_test/perplexity_{temp_perplexity}_learning_{temp_learning}.png',\n",
    "                   facecolor=fig.get_facecolor())\n",
    "        ##plt.show()\n",
    "        #plt.savefig('/home/rictuar/coding_projects/fiehn_work/cfmid/cfmid_redo/results/final_figures/submitted_to_manuscript/umap_m+h_hcd_vs_training.eps')"
   ]
  },
  {
   "cell_type": "code",
   "execution_count": null,
   "id": "c8e2f4ee",
   "metadata": {},
   "outputs": [],
   "source": []
  },
  {
   "cell_type": "code",
   "execution_count": null,
   "id": "690cbf3d",
   "metadata": {},
   "outputs": [],
   "source": []
  },
  {
   "cell_type": "code",
   "execution_count": null,
   "id": "8ef0dec0",
   "metadata": {},
   "outputs": [],
   "source": []
  },
  {
   "cell_type": "code",
   "execution_count": null,
   "id": "9c0c0746",
   "metadata": {},
   "outputs": [],
   "source": []
  },
  {
   "cell_type": "code",
   "execution_count": null,
   "id": "2e30c3c6",
   "metadata": {},
   "outputs": [],
   "source": []
  },
  {
   "cell_type": "code",
   "execution_count": null,
   "id": "fd6693ed",
   "metadata": {},
   "outputs": [],
   "source": []
  },
  {
   "cell_type": "code",
   "execution_count": null,
   "id": "dd7edade",
   "metadata": {},
   "outputs": [],
   "source": []
  },
  {
   "cell_type": "code",
   "execution_count": null,
   "id": "e8ed6c8a",
   "metadata": {},
   "outputs": [],
   "source": [
    "fig=plt.figure()\n",
    "ax=fig.add_subplot(projection='3d')\n",
    "ax.scatter(\n",
    "    my_fingerprints_embeded[0:4040,0],\n",
    "    my_fingerprints_embeded[0:4040,1],\n",
    "    my_fingerprints_embeded[0:4040,2],\n",
    "    c=cheap_colors[0:4040],\n",
    "    alpha=0.2\n",
    ")"
   ]
  },
  {
   "cell_type": "code",
   "execution_count": null,
   "id": "50eee1a8",
   "metadata": {},
   "outputs": [],
   "source": [
    "fig=plt.figure()\n",
    "ax=fig.add_subplot(projection='3d')\n",
    "# ax.scatter(\n",
    "#     my_fingerprints_embeded[0:4040,0],\n",
    "#     my_fingerprints_embeded[0:4040,1],\n",
    "#     my_fingerprints_embeded[0:4040,2],\n",
    "#     c=cheap_colors[0:4040],\n",
    "#     alpha=0.2\n",
    "# )\n",
    "ax.scatter(\n",
    "    my_fingerprints_embeded[4040:,0],\n",
    "    my_fingerprints_embeded[4040:,1],\n",
    "    my_fingerprints_embeded[4040:,2],\n",
    "    c=expensive_colors[4040:],\n",
    "    alpha=0.2\n",
    ")"
   ]
  }
 ],
 "metadata": {
  "kernelspec": {
   "display_name": "Python 3",
   "language": "python",
   "name": "python3"
  },
  "language_info": {
   "codemirror_mode": {
    "name": "ipython",
    "version": 3
   },
   "file_extension": ".py",
   "mimetype": "text/x-python",
   "name": "python",
   "nbconvert_exporter": "python",
   "pygments_lexer": "ipython3",
   "version": "3.8.8"
  }
 },
 "nbformat": 4,
 "nbformat_minor": 5
}
