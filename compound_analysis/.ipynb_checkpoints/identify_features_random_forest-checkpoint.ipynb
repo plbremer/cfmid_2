{
 "cells": [
  {
   "cell_type": "code",
   "execution_count": 25,
   "id": "695c03bc",
   "metadata": {},
   "outputs": [],
   "source": [
    "import numpy as np\n",
    "import pandas as pd\n",
    "from sklearn.utils import shuffle\n",
    "from sklearn.ensemble import RandomForestRegressor\n",
    "import matplotlib.pyplot as plt\n",
    "from sklearn.pipeline import Pipeline\n",
    "from sklearn.model_selection import GridSearchCV"
   ]
  },
  {
   "cell_type": "code",
   "execution_count": null,
   "id": "92472b15",
   "metadata": {},
   "outputs": [],
   "source": []
  },
  {
   "cell_type": "code",
   "execution_count": 26,
   "id": "85e162fc",
   "metadata": {},
   "outputs": [],
   "source": [
    "cohort_input_address='/home/rictuar/coding_projects/fiehn_work/cfmid/cfmid_redo/results/compound_exploration/[M+H]+_hcd_cohort_fingerprints.bin'"
   ]
  },
  {
   "cell_type": "code",
   "execution_count": 27,
   "id": "7395af24",
   "metadata": {},
   "outputs": [],
   "source": [
    "dataset=pd.read_pickle(cohort_input_address)"
   ]
  },
  {
   "cell_type": "code",
   "execution_count": 28,
   "id": "9a266cee",
   "metadata": {},
   "outputs": [
    {
     "data": {
      "text/html": [
       "<div>\n",
       "<style scoped>\n",
       "    .dataframe tbody tr th:only-of-type {\n",
       "        vertical-align: middle;\n",
       "    }\n",
       "\n",
       "    .dataframe tbody tr th {\n",
       "        vertical-align: top;\n",
       "    }\n",
       "\n",
       "    .dataframe thead th {\n",
       "        text-align: right;\n",
       "    }\n",
       "</style>\n",
       "<table border=\"1\" class=\"dataframe\">\n",
       "  <thead>\n",
       "    <tr style=\"text-align: right;\">\n",
       "      <th></th>\n",
       "      <th>InChIKey</th>\n",
       "      <th>cactvs_fingerprint</th>\n",
       "      <th>metlin_adduct_or_nist</th>\n",
       "      <th>cid</th>\n",
       "      <th>inchikey</th>\n",
       "      <th>dot_product</th>\n",
       "      <th>exp_energy_parsed</th>\n",
       "      <th>fingerprint_array</th>\n",
       "    </tr>\n",
       "  </thead>\n",
       "  <tbody>\n",
       "    <tr>\n",
       "      <th>0</th>\n",
       "      <td>WDUMYOXRHLWOIR-UHFFFAOYSA-N</td>\n",
       "      <td>1000000001110011000000000000000000000000000100...</td>\n",
       "      <td>nist</td>\n",
       "      <td>28058793.0</td>\n",
       "      <td>WDUMYOXRHLWOIR-UHFFFAOYSA-N</td>\n",
       "      <td>0.987620</td>\n",
       "      <td>39.0</td>\n",
       "      <td>[1, 0, 0, 0, 0, 0, 0, 0, 0, 1, 1, 1, 0, 0, 1, ...</td>\n",
       "    </tr>\n",
       "    <tr>\n",
       "      <th>3</th>\n",
       "      <td>IVSBFRVZTXHJLR-UHFFFAOYSA-N</td>\n",
       "      <td>1100000001110011001100000000000001000000000000...</td>\n",
       "      <td>nist</td>\n",
       "      <td>315800.0</td>\n",
       "      <td>IVSBFRVZTXHJLR-UHFFFAOYSA-N</td>\n",
       "      <td>0.855915</td>\n",
       "      <td>37.0</td>\n",
       "      <td>[1, 1, 0, 0, 0, 0, 0, 0, 0, 1, 1, 1, 0, 0, 1, ...</td>\n",
       "    </tr>\n",
       "    <tr>\n",
       "      <th>4</th>\n",
       "      <td>BJVLFJADOVATRU-UHFFFAOYSA-N</td>\n",
       "      <td>1100000001110000001100000000000000000000000000...</td>\n",
       "      <td>nist</td>\n",
       "      <td>747832.0</td>\n",
       "      <td>BJVLFJADOVATRU-UHFFFAOYSA-N</td>\n",
       "      <td>0.889937</td>\n",
       "      <td>38.0</td>\n",
       "      <td>[1, 1, 0, 0, 0, 0, 0, 0, 0, 1, 1, 1, 0, 0, 0, ...</td>\n",
       "    </tr>\n",
       "    <tr>\n",
       "      <th>5</th>\n",
       "      <td>YAUZWMLHLWHCLG-UHFFFAOYSA-N</td>\n",
       "      <td>1100000001110000001110000000000000000000000100...</td>\n",
       "      <td>nist</td>\n",
       "      <td>221498.0</td>\n",
       "      <td>YAUZWMLHLWHCLG-UHFFFAOYSA-N</td>\n",
       "      <td>0.996398</td>\n",
       "      <td>39.0</td>\n",
       "      <td>[1, 1, 0, 0, 0, 0, 0, 0, 0, 1, 1, 1, 0, 0, 0, ...</td>\n",
       "    </tr>\n",
       "    <tr>\n",
       "      <th>9</th>\n",
       "      <td>ZKLSFAKJJJDQSA-UHFFFAOYSA-N</td>\n",
       "      <td>1110000001110011001000000000000000000000000000...</td>\n",
       "      <td>nist</td>\n",
       "      <td>3328378.0</td>\n",
       "      <td>ZKLSFAKJJJDQSA-UHFFFAOYSA-N</td>\n",
       "      <td>0.280932</td>\n",
       "      <td>40.0</td>\n",
       "      <td>[1, 1, 1, 0, 0, 0, 0, 0, 0, 1, 1, 1, 0, 0, 1, ...</td>\n",
       "    </tr>\n",
       "    <tr>\n",
       "      <th>...</th>\n",
       "      <td>...</td>\n",
       "      <td>...</td>\n",
       "      <td>...</td>\n",
       "      <td>...</td>\n",
       "      <td>...</td>\n",
       "      <td>...</td>\n",
       "      <td>...</td>\n",
       "      <td>...</td>\n",
       "    </tr>\n",
       "    <tr>\n",
       "      <th>15951</th>\n",
       "      <td>AZVXNMOQCHVDQG-UHFFFAOYSA-N</td>\n",
       "      <td>0000000001100011000000000000000001000100000000...</td>\n",
       "      <td>nist</td>\n",
       "      <td>333028.0</td>\n",
       "      <td>AZVXNMOQCHVDQG-UHFFFAOYSA-N</td>\n",
       "      <td>1.000000</td>\n",
       "      <td>36.0</td>\n",
       "      <td>[0, 0, 0, 0, 0, 0, 0, 0, 0, 1, 1, 0, 0, 0, 1, ...</td>\n",
       "    </tr>\n",
       "    <tr>\n",
       "      <th>15952</th>\n",
       "      <td>RMCQCVYGHWTDSP-UHFFFAOYSA-N</td>\n",
       "      <td>1100000001110010001000000000000000000000000100...</td>\n",
       "      <td>nist</td>\n",
       "      <td>12137098.0</td>\n",
       "      <td>RMCQCVYGHWTDSP-UHFFFAOYSA-N</td>\n",
       "      <td>1.000000</td>\n",
       "      <td>42.0</td>\n",
       "      <td>[1, 1, 0, 0, 0, 0, 0, 0, 0, 1, 1, 1, 0, 0, 1, ...</td>\n",
       "    </tr>\n",
       "    <tr>\n",
       "      <th>15955</th>\n",
       "      <td>HUKQFKKFOGVZGH-UHFFFAOYSA-N</td>\n",
       "      <td>1000000001100010001000000000000000000110000100...</td>\n",
       "      <td>nist</td>\n",
       "      <td>11289725.0</td>\n",
       "      <td>HUKQFKKFOGVZGH-UHFFFAOYSA-N</td>\n",
       "      <td>0.997734</td>\n",
       "      <td>37.0</td>\n",
       "      <td>[1, 0, 0, 0, 0, 0, 0, 0, 0, 1, 1, 0, 0, 0, 1, ...</td>\n",
       "    </tr>\n",
       "    <tr>\n",
       "      <th>15957</th>\n",
       "      <td>MNDACYDFCGIUAF-UHFFFAOYSA-N</td>\n",
       "      <td>1000000001110011100000000000000001000000000000...</td>\n",
       "      <td>nist</td>\n",
       "      <td>295675.0</td>\n",
       "      <td>MNDACYDFCGIUAF-UHFFFAOYSA-N</td>\n",
       "      <td>0.586894</td>\n",
       "      <td>42.0</td>\n",
       "      <td>[1, 0, 0, 0, 0, 0, 0, 0, 0, 1, 1, 1, 0, 0, 1, ...</td>\n",
       "    </tr>\n",
       "    <tr>\n",
       "      <th>15960</th>\n",
       "      <td>JDPITNFDYXOKRM-UHFFFAOYSA-N</td>\n",
       "      <td>1000000001110010001000000000000001100000000000...</td>\n",
       "      <td>nist</td>\n",
       "      <td>2830679.0</td>\n",
       "      <td>JDPITNFDYXOKRM-UHFFFAOYSA-N</td>\n",
       "      <td>0.974444</td>\n",
       "      <td>39.0</td>\n",
       "      <td>[1, 0, 0, 0, 0, 0, 0, 0, 0, 1, 1, 1, 0, 0, 1, ...</td>\n",
       "    </tr>\n",
       "  </tbody>\n",
       "</table>\n",
       "<p>8298 rows × 8 columns</p>\n",
       "</div>"
      ],
      "text/plain": [
       "                          InChIKey  \\\n",
       "0      WDUMYOXRHLWOIR-UHFFFAOYSA-N   \n",
       "3      IVSBFRVZTXHJLR-UHFFFAOYSA-N   \n",
       "4      BJVLFJADOVATRU-UHFFFAOYSA-N   \n",
       "5      YAUZWMLHLWHCLG-UHFFFAOYSA-N   \n",
       "9      ZKLSFAKJJJDQSA-UHFFFAOYSA-N   \n",
       "...                            ...   \n",
       "15951  AZVXNMOQCHVDQG-UHFFFAOYSA-N   \n",
       "15952  RMCQCVYGHWTDSP-UHFFFAOYSA-N   \n",
       "15955  HUKQFKKFOGVZGH-UHFFFAOYSA-N   \n",
       "15957  MNDACYDFCGIUAF-UHFFFAOYSA-N   \n",
       "15960  JDPITNFDYXOKRM-UHFFFAOYSA-N   \n",
       "\n",
       "                                      cactvs_fingerprint  \\\n",
       "0      1000000001110011000000000000000000000000000100...   \n",
       "3      1100000001110011001100000000000001000000000000...   \n",
       "4      1100000001110000001100000000000000000000000000...   \n",
       "5      1100000001110000001110000000000000000000000100...   \n",
       "9      1110000001110011001000000000000000000000000000...   \n",
       "...                                                  ...   \n",
       "15951  0000000001100011000000000000000001000100000000...   \n",
       "15952  1100000001110010001000000000000000000000000100...   \n",
       "15955  1000000001100010001000000000000000000110000100...   \n",
       "15957  1000000001110011100000000000000001000000000000...   \n",
       "15960  1000000001110010001000000000000001100000000000...   \n",
       "\n",
       "      metlin_adduct_or_nist         cid                     inchikey  \\\n",
       "0                      nist  28058793.0  WDUMYOXRHLWOIR-UHFFFAOYSA-N   \n",
       "3                      nist    315800.0  IVSBFRVZTXHJLR-UHFFFAOYSA-N   \n",
       "4                      nist    747832.0  BJVLFJADOVATRU-UHFFFAOYSA-N   \n",
       "5                      nist    221498.0  YAUZWMLHLWHCLG-UHFFFAOYSA-N   \n",
       "9                      nist   3328378.0  ZKLSFAKJJJDQSA-UHFFFAOYSA-N   \n",
       "...                     ...         ...                          ...   \n",
       "15951                  nist    333028.0  AZVXNMOQCHVDQG-UHFFFAOYSA-N   \n",
       "15952                  nist  12137098.0  RMCQCVYGHWTDSP-UHFFFAOYSA-N   \n",
       "15955                  nist  11289725.0  HUKQFKKFOGVZGH-UHFFFAOYSA-N   \n",
       "15957                  nist    295675.0  MNDACYDFCGIUAF-UHFFFAOYSA-N   \n",
       "15960                  nist   2830679.0  JDPITNFDYXOKRM-UHFFFAOYSA-N   \n",
       "\n",
       "       dot_product  exp_energy_parsed  \\\n",
       "0         0.987620               39.0   \n",
       "3         0.855915               37.0   \n",
       "4         0.889937               38.0   \n",
       "5         0.996398               39.0   \n",
       "9         0.280932               40.0   \n",
       "...            ...                ...   \n",
       "15951     1.000000               36.0   \n",
       "15952     1.000000               42.0   \n",
       "15955     0.997734               37.0   \n",
       "15957     0.586894               42.0   \n",
       "15960     0.974444               39.0   \n",
       "\n",
       "                                       fingerprint_array  \n",
       "0      [1, 0, 0, 0, 0, 0, 0, 0, 0, 1, 1, 1, 0, 0, 1, ...  \n",
       "3      [1, 1, 0, 0, 0, 0, 0, 0, 0, 1, 1, 1, 0, 0, 1, ...  \n",
       "4      [1, 1, 0, 0, 0, 0, 0, 0, 0, 1, 1, 1, 0, 0, 0, ...  \n",
       "5      [1, 1, 0, 0, 0, 0, 0, 0, 0, 1, 1, 1, 0, 0, 0, ...  \n",
       "9      [1, 1, 1, 0, 0, 0, 0, 0, 0, 1, 1, 1, 0, 0, 1, ...  \n",
       "...                                                  ...  \n",
       "15951  [0, 0, 0, 0, 0, 0, 0, 0, 0, 1, 1, 0, 0, 0, 1, ...  \n",
       "15952  [1, 1, 0, 0, 0, 0, 0, 0, 0, 1, 1, 1, 0, 0, 1, ...  \n",
       "15955  [1, 0, 0, 0, 0, 0, 0, 0, 0, 1, 1, 0, 0, 0, 1, ...  \n",
       "15957  [1, 0, 0, 0, 0, 0, 0, 0, 0, 1, 1, 1, 0, 0, 1, ...  \n",
       "15960  [1, 0, 0, 0, 0, 0, 0, 0, 0, 1, 1, 1, 0, 0, 1, ...  \n",
       "\n",
       "[8298 rows x 8 columns]"
      ]
     },
     "execution_count": 28,
     "metadata": {},
     "output_type": "execute_result"
    }
   ],
   "source": [
    "dataset"
   ]
  },
  {
   "cell_type": "code",
   "execution_count": 29,
   "id": "25a9b9f5",
   "metadata": {},
   "outputs": [],
   "source": [
    "dataset=shuffle(dataset,random_state=1337)\n",
    "dataset.reset_index(inplace=True)"
   ]
  },
  {
   "cell_type": "code",
   "execution_count": 30,
   "id": "3d54e99f",
   "metadata": {},
   "outputs": [
    {
     "data": {
      "text/plain": [
       "881"
      ]
     },
     "execution_count": 30,
     "metadata": {},
     "output_type": "execute_result"
    }
   ],
   "source": [
    "len(X[0])"
   ]
  },
  {
   "cell_type": "code",
   "execution_count": 31,
   "id": "25462b85",
   "metadata": {},
   "outputs": [],
   "source": [
    "X=np.array(dataset.fingerprint_array.to_list())"
   ]
  },
  {
   "cell_type": "code",
   "execution_count": 32,
   "id": "410650ed",
   "metadata": {},
   "outputs": [
    {
     "data": {
      "text/plain": [
       "array([1, 1, 0, ..., 1, 1, 1])"
      ]
     },
     "execution_count": 32,
     "metadata": {},
     "output_type": "execute_result"
    }
   ],
   "source": [
    "#test for other script\n",
    "X[:,1]"
   ]
  },
  {
   "cell_type": "code",
   "execution_count": 33,
   "id": "be97a346",
   "metadata": {},
   "outputs": [
    {
     "data": {
      "text/plain": [
       "array([[1, 1, 1, ..., 0, 0, 0],\n",
       "       [1, 1, 1, ..., 0, 0, 0],\n",
       "       [1, 0, 0, ..., 0, 0, 0],\n",
       "       ...,\n",
       "       [1, 1, 0, ..., 0, 0, 0],\n",
       "       [1, 1, 0, ..., 0, 0, 0],\n",
       "       [1, 1, 0, ..., 0, 0, 0]])"
      ]
     },
     "execution_count": 33,
     "metadata": {},
     "output_type": "execute_result"
    }
   ],
   "source": [
    "X"
   ]
  },
  {
   "cell_type": "code",
   "execution_count": 34,
   "id": "3b359c0e",
   "metadata": {},
   "outputs": [],
   "source": [
    "y=np.array(dataset.dot_product.to_list())"
   ]
  },
  {
   "cell_type": "code",
   "execution_count": 35,
   "id": "4714c0d7",
   "metadata": {},
   "outputs": [
    {
     "data": {
      "text/plain": [
       "6638.0"
      ]
     },
     "execution_count": 35,
     "metadata": {},
     "output_type": "execute_result"
    }
   ],
   "source": [
    "np.floor(0.8*len(X))"
   ]
  },
  {
   "cell_type": "code",
   "execution_count": 36,
   "id": "b8dccc82",
   "metadata": {},
   "outputs": [],
   "source": [
    "X_train=X[0:int(np.floor(0.8*len(X)))]\n",
    "y_train=y[0:int(np.floor(0.8*len(y)))]\n",
    "X_test=X[int(np.floor(0.8*len(X))):]\n",
    "y_test=y[int(np.floor(0.8*len(y))):]\n"
   ]
  },
  {
   "cell_type": "code",
   "execution_count": 37,
   "id": "10630f2c",
   "metadata": {},
   "outputs": [
    {
     "name": "stdout",
     "output_type": "stream",
     "text": [
      "6638\n",
      "6638\n",
      "1660\n",
      "1660\n"
     ]
    }
   ],
   "source": [
    "print(len(X_train))\n",
    "print(len(y_train))\n",
    "print(len(X_test))\n",
    "print(len(y_test))"
   ]
  },
  {
   "cell_type": "code",
   "execution_count": 38,
   "id": "d58e8748",
   "metadata": {},
   "outputs": [
    {
     "data": {
      "image/png": "[encoded data removed]",
      "text/plain": [
       "<Figure size 432x288 with 1 Axes>"
      ]
     },
     "metadata": {
      "needs_background": "light"
     },
     "output_type": "display_data"
    }
   ],
   "source": [
    "plt.hist(y_train,bins=20)\n",
    "plt.show()"
   ]
  },
  {
   "cell_type": "code",
   "execution_count": 39,
   "id": "85a6d05c",
   "metadata": {},
   "outputs": [
    {
     "data": {
      "image/png": "[encoded data removed]",
      "text/plain": [
       "<Figure size 432x288 with 1 Axes>"
      ]
     },
     "metadata": {
      "needs_background": "light"
     },
     "output_type": "display_data"
    }
   ],
   "source": [
    "plt.hist(y_test,bins=20)\n",
    "plt.show()"
   ]
  },
  {
   "cell_type": "code",
   "execution_count": 40,
   "id": "78a3a7f2",
   "metadata": {},
   "outputs": [],
   "source": [
    "\n",
    "my_RandomForestRegressor_Pipeline=Pipeline(\n",
    "    [\n",
    "        #('my_StandardScaler',StandardScaler()),\n",
    "        ('my_RandomForestRegressor',RandomForestRegressor())\n",
    "    ]\n",
    ")\n",
    "my_RandomForestRegressor_parameters=[\n",
    "    {\n",
    "        'my_RandomForestRegressor__n_estimators':[10,20,40,100,200],\n",
    "        'my_RandomForestRegressor__n_jobs':[4],\n",
    "        'my_RandomForestRegressor__random_state':[1337]#,\n",
    "        #'my_RandomForestRegressor__max_depth':[5]\n",
    "        \n",
    "    }\n",
    "]"
   ]
  },
  {
   "cell_type": "code",
   "execution_count": 41,
   "id": "71f2724d",
   "metadata": {},
   "outputs": [
    {
     "name": "stdout",
     "output_type": "stream",
     "text": [
      "0.22817529040933884 {'my_RandomForestRegressor__max_depth': 5, 'my_RandomForestRegressor__n_estimators': 10, 'my_RandomForestRegressor__n_jobs': 4, 'my_RandomForestRegressor__random_state': 1337}\n",
      "0.2276098170871379 {'my_RandomForestRegressor__max_depth': 5, 'my_RandomForestRegressor__n_estimators': 20, 'my_RandomForestRegressor__n_jobs': 4, 'my_RandomForestRegressor__random_state': 1337}\n",
      "0.22723627515525222 {'my_RandomForestRegressor__max_depth': 5, 'my_RandomForestRegressor__n_estimators': 40, 'my_RandomForestRegressor__n_jobs': 4, 'my_RandomForestRegressor__random_state': 1337}\n",
      "0.22716625929569004 {'my_RandomForestRegressor__max_depth': 5, 'my_RandomForestRegressor__n_estimators': 100, 'my_RandomForestRegressor__n_jobs': 4, 'my_RandomForestRegressor__random_state': 1337}\n",
      "0.22715302186978226 {'my_RandomForestRegressor__max_depth': 5, 'my_RandomForestRegressor__n_estimators': 200, 'my_RandomForestRegressor__n_jobs': 4, 'my_RandomForestRegressor__random_state': 1337}\n"
     ]
    }
   ],
   "source": [
    "my_RandomForestRegressor_Gridsearch=GridSearchCV(\n",
    "    my_RandomForestRegressor_Pipeline,\n",
    "    my_RandomForestRegressor_parameters,\n",
    "    cv=5,\n",
    "    scoring='neg_mean_squared_error',\n",
    "    return_train_score=True\n",
    ")\n",
    "\n",
    "my_RandomForestRegressor_Gridsearch.fit(X_train,y_train)\n",
    "\n",
    "my_RandomForestRegressor_Gridsearch_results=my_RandomForestRegressor_Gridsearch.cv_results_\n",
    "for mean_score, params in zip(my_RandomForestRegressor_Gridsearch_results[\"mean_test_score\"],my_RandomForestRegressor_Gridsearch_results[\"params\"]):\n",
    "    print(np.sqrt(-mean_score), params)\n",
    "    \n",
    "winner_RandomForestRegressor=my_RandomForestRegressor_Gridsearch.best_estimator_\n"
   ]
  },
  {
   "cell_type": "code",
   "execution_count": 42,
   "id": "7cc2e9a7",
   "metadata": {},
   "outputs": [],
   "source": [
    "#define a function to visualize how good each \"winning model\" does\n",
    "def plot_real_and_predict(temp_winning_model,temp_X_test,temp_y_test):\n",
    "    '''\n",
    "    Greetings\n",
    "    '''\n",
    "    temp_predictions=temp_winning_model.predict(temp_X_test)\n",
    "    difference_array=np.subtract(np.array(temp_predictions),np.array(temp_y_test))\n",
    "    #average_array=np.add(np.array(temp_predictions),np.array(temp_y_test))/2\n",
    "    #percent_error_array=np.divide(100*difference_array,average_array)\n",
    "    #plt.hist(percent_error_array,bins=100)\n",
    "    plt.hist(difference_array,bins=100)\n",
    "    plt.xlabel('dif')\n",
    "    plt.ylabel('number of compounds')\n",
    "    plt.show()"
   ]
  },
  {
   "cell_type": "code",
   "execution_count": 43,
   "id": "3259d14f",
   "metadata": {},
   "outputs": [
    {
     "data": {
      "image/png": "[encoded data removed]",
      "text/plain": [
       "<Figure size 432x288 with 1 Axes>"
      ]
     },
     "metadata": {
      "needs_background": "light"
     },
     "output_type": "display_data"
    }
   ],
   "source": [
    "plot_real_and_predict(winner_RandomForestRegressor,X_test,y_test)"
   ]
  },
  {
   "cell_type": "code",
   "execution_count": 44,
   "id": "67813cad",
   "metadata": {},
   "outputs": [],
   "source": [
    "forest=winner_RandomForestRegressor['my_RandomForestRegressor']"
   ]
  },
  {
   "cell_type": "code",
   "execution_count": null,
   "id": "3d8b866e",
   "metadata": {},
   "outputs": [],
   "source": []
  },
  {
   "cell_type": "code",
   "execution_count": 62,
   "id": "064221d1",
   "metadata": {},
   "outputs": [],
   "source": [
    "importances = forest.feature_importances_\n",
    "#feature_names = [f\"feature {i}\" for i in range(X.shape[1])]\n",
    "feature_names = [i for i in range(X.shape[1])]"
   ]
  },
  {
   "cell_type": "code",
   "execution_count": 63,
   "id": "ed16472a",
   "metadata": {},
   "outputs": [],
   "source": [
    "forest_importances = pd.Series(importances, index=feature_names)"
   ]
  },
  {
   "cell_type": "code",
   "execution_count": 64,
   "id": "11ab6f04",
   "metadata": {},
   "outputs": [
    {
     "data": {
      "text/plain": [
       "881"
      ]
     },
     "execution_count": 64,
     "metadata": {},
     "output_type": "execute_result"
    }
   ],
   "source": [
    "len(forest_importances)"
   ]
  },
  {
   "cell_type": "code",
   "execution_count": 65,
   "id": "90a22624",
   "metadata": {},
   "outputs": [
    {
     "data": {
      "image/png": "[encoded data removed]",
      "text/plain": [
       "<Figure size 432x288 with 1 Axes>"
      ]
     },
     "metadata": {
      "needs_background": "light"
     },
     "output_type": "display_data"
    }
   ],
   "source": [
    "plt.hist(forest_importances,bins=100)\n",
    "plt.show()"
   ]
  },
  {
   "cell_type": "code",
   "execution_count": 66,
   "id": "f73f099d",
   "metadata": {},
   "outputs": [
    {
     "data": {
      "text/plain": [
       "12"
      ]
     },
     "execution_count": 66,
     "metadata": {},
     "output_type": "execute_result"
    }
   ],
   "source": [
    "len(forest_importances[forest_importances>0.01])"
   ]
  },
  {
   "cell_type": "code",
   "execution_count": 67,
   "id": "75bf18b3",
   "metadata": {},
   "outputs": [],
   "source": [
    "#feature_names = [f\"feature {i}\" for i in range(X.shape[1])]\n",
    "forest_importances=forest_importances[forest_importances>0.01]\n",
    "feature_names=forest_importances.index.to_list()"
   ]
  },
  {
   "cell_type": "code",
   "execution_count": 68,
   "id": "25fee324",
   "metadata": {},
   "outputs": [],
   "source": [
    "#forest_importances"
   ]
  },
  {
   "cell_type": "code",
   "execution_count": 69,
   "id": "06a14948",
   "metadata": {},
   "outputs": [],
   "source": [
    "#forest_importances[forest_importances>0.005]"
   ]
  },
  {
   "cell_type": "code",
   "execution_count": 70,
   "id": "47303ab5",
   "metadata": {},
   "outputs": [
    {
     "data": {
      "text/plain": [
       "1      0.294915\n",
       "20     0.118020\n",
       "376    0.018514\n",
       "392    0.011558\n",
       "437    0.022700\n",
       "449    0.019627\n",
       "451    0.013591\n",
       "600    0.033717\n",
       "607    0.015451\n",
       "628    0.020780\n",
       "665    0.017259\n",
       "712    0.020596\n",
       "dtype: float64"
      ]
     },
     "execution_count": 70,
     "metadata": {},
     "output_type": "execute_result"
    }
   ],
   "source": [
    "forest_importances"
   ]
  },
  {
   "cell_type": "code",
   "execution_count": 71,
   "id": "ec2d1b97",
   "metadata": {},
   "outputs": [
    {
     "data": {
      "text/plain": [
       "[0.29491493131443397,\n",
       " 0.1180199582904192,\n",
       " 0.018513737603928233,\n",
       " 0.011558451619988346,\n",
       " 0.02269996714471919,\n",
       " 0.01962737800303683,\n",
       " 0.013591370536351236,\n",
       " 0.033716603144229924,\n",
       " 0.015451156651007726,\n",
       " 0.020779783733138317,\n",
       " 0.017258853114952358,\n",
       " 0.020595514860213448]"
      ]
     },
     "execution_count": 71,
     "metadata": {},
     "output_type": "execute_result"
    }
   ],
   "source": [
    "forest_importances.to_list()"
   ]
  },
  {
   "cell_type": "code",
   "execution_count": null,
   "id": "8d695ab8",
   "metadata": {},
   "outputs": [],
   "source": []
  },
  {
   "cell_type": "code",
   "execution_count": null,
   "id": "24b30dd3",
   "metadata": {},
   "outputs": [],
   "source": []
  },
  {
   "cell_type": "code",
   "execution_count": null,
   "id": "df983571",
   "metadata": {},
   "outputs": [],
   "source": []
  },
  {
   "cell_type": "code",
   "execution_count": null,
   "id": "b1e2ccbd",
   "metadata": {},
   "outputs": [],
   "source": []
  },
  {
   "cell_type": "code",
   "execution_count": null,
   "id": "d7282157",
   "metadata": {},
   "outputs": [],
   "source": []
  },
  {
   "cell_type": "code",
   "execution_count": 72,
   "id": "441539d8",
   "metadata": {},
   "outputs": [],
   "source": [
    "std = np.std([tree.feature_importances_ for tree in forest.estimators_], axis=0)"
   ]
  },
  {
   "cell_type": "code",
   "execution_count": 73,
   "id": "60ae302d",
   "metadata": {},
   "outputs": [
    {
     "data": {
      "text/plain": [
       "Int64Index([1, 20, 376, 392, 437, 449, 451, 600, 607, 628, 665, 712], dtype='int64')"
      ]
     },
     "execution_count": 73,
     "metadata": {},
     "output_type": "execute_result"
    }
   ],
   "source": [
    "forest_importances.index"
   ]
  },
  {
   "cell_type": "code",
   "execution_count": 74,
   "id": "8cb97ccf",
   "metadata": {},
   "outputs": [
    {
     "data": {
      "text/plain": [
       "array([0.02620039, 0.04192455, 0.02000626, 0.02025915, 0.04097033,\n",
       "       0.03868565, 0.01783591, 0.04672524, 0.02671243, 0.03136025,\n",
       "       0.0381363 , 0.03071252])"
      ]
     },
     "execution_count": 74,
     "metadata": {},
     "output_type": "execute_result"
    }
   ],
   "source": [
    "std=std[forest_importances.index]\n",
    "std"
   ]
  },
  {
   "cell_type": "code",
   "execution_count": 75,
   "id": "35863906",
   "metadata": {},
   "outputs": [
    {
     "data": {
      "image/png": "[encoded data removed]",
      "text/plain": [
       "<Figure size 720x720 with 1 Axes>"
      ]
     },
     "metadata": {
      "needs_background": "light"
     },
     "output_type": "display_data"
    }
   ],
   "source": [
    "#forest_importances = pd.Series(importances, index=feature_names)\n",
    "\n",
    "fig, ax = plt.subplots(figsize=(10,10))\n",
    "forest_importances.plot.bar(yerr=std, ax=ax)\n",
    "ax.set_title(\"Feature importances using MDI\")\n",
    "ax.set_ylabel(\"Mean decrease in impurity\")\n",
    "fig.tight_layout()"
   ]
  },
  {
   "cell_type": "code",
   "execution_count": null,
   "id": "c2f43ae0",
   "metadata": {},
   "outputs": [],
   "source": []
  },
  {
   "cell_type": "code",
   "execution_count": null,
   "id": "d1d205a2",
   "metadata": {},
   "outputs": [],
   "source": []
  }
 ],
 "metadata": {
  "kernelspec": {
   "display_name": "Python 3",
   "language": "python",
   "name": "python3"
  },
  "language_info": {
   "codemirror_mode": {
    "name": "ipython",
    "version": 3
   },
   "file_extension": ".py",
   "mimetype": "text/x-python",
   "name": "python",
   "nbconvert_exporter": "python",
   "pygments_lexer": "ipython3",
   "version": "3.8.8"
  }
 },
 "nbformat": 4,
 "nbformat_minor": 5
}
