{
 "cells": [
  {
   "cell_type": "code",
   "execution_count": 22,
   "id": "ce904a81",
   "metadata": {},
   "outputs": [],
   "source": [
    "import numpy as np\n",
    "import pandas as pd\n",
    "from sklearn.utils import shuffle\n",
    "from sklearn.ensemble import RandomForestRegressor\n",
    "import matplotlib.pyplot as plt\n",
    "from sklearn.pipeline import Pipeline\n",
    "from sklearn.model_selection import GridSearchCV\n",
    "from sklearn.linear_model import LinearRegression\n",
    "from sklearn.preprocessing import StandardScaler\n",
    "from sklearn.ensemble import RandomForestClassifier\n",
    "from sklearn.metrics import confusion_matrix"
   ]
  },
  {
   "cell_type": "code",
   "execution_count": 2,
   "id": "26f04b98",
   "metadata": {},
   "outputs": [],
   "source": [
    "cohort_input_address='/home/rictuar/coding_projects/fiehn_work/cfmid/cfmid_redo/results/compound_exploration/[M+H]+_hcd_cohort_fingerprints.bin'"
   ]
  },
  {
   "cell_type": "code",
   "execution_count": 3,
   "id": "926a3178",
   "metadata": {},
   "outputs": [],
   "source": [
    "dataset=pd.read_pickle(cohort_input_address)"
   ]
  },
  {
   "cell_type": "code",
   "execution_count": 4,
   "id": "37279317",
   "metadata": {},
   "outputs": [],
   "source": [
    "dataset=shuffle(dataset,random_state=1337)\n",
    "dataset.reset_index(inplace=True)"
   ]
  },
  {
   "cell_type": "code",
   "execution_count": 5,
   "id": "4249834a",
   "metadata": {},
   "outputs": [],
   "source": [
    "X=np.array(dataset.fingerprint_array.to_list())"
   ]
  },
  {
   "cell_type": "code",
   "execution_count": 6,
   "id": "bfe36320",
   "metadata": {},
   "outputs": [],
   "source": [
    "y=np.array(dataset.dot_product.to_list())"
   ]
  },
  {
   "cell_type": "code",
   "execution_count": 7,
   "id": "0f968414",
   "metadata": {},
   "outputs": [
    {
     "data": {
      "image/png": "[encoded data removed]",
      "text/plain": [
       "<Figure size 432x288 with 1 Axes>"
      ]
     },
     "metadata": {
      "needs_background": "light"
     },
     "output_type": "display_data"
    }
   ],
   "source": [
    "plt.hist(y)\n",
    "plt.show()"
   ]
  },
  {
   "cell_type": "code",
   "execution_count": 8,
   "id": "c2d15aba",
   "metadata": {},
   "outputs": [],
   "source": [
    "y[y<=0.3]=0\n",
    "y[y>0.1]=1"
   ]
  },
  {
   "cell_type": "code",
   "execution_count": 9,
   "id": "62c90a9a",
   "metadata": {},
   "outputs": [
    {
     "data": {
      "image/png": "[encoded data removed]",
      "text/plain": [
       "<Figure size 432x288 with 1 Axes>"
      ]
     },
     "metadata": {
      "needs_background": "light"
     },
     "output_type": "display_data"
    }
   ],
   "source": [
    "plt.hist(y)\n",
    "plt.show()"
   ]
  },
  {
   "cell_type": "code",
   "execution_count": 10,
   "id": "cc911934",
   "metadata": {},
   "outputs": [],
   "source": [
    "X_train=X[0:int(np.floor(0.8*len(X)))]\n",
    "y_train=y[0:int(np.floor(0.8*len(y)))]\n",
    "X_test=X[int(np.floor(0.8*len(X))):]\n",
    "y_test=y[int(np.floor(0.8*len(y))):]"
   ]
  },
  {
   "cell_type": "code",
   "execution_count": null,
   "id": "752ab6bd",
   "metadata": {},
   "outputs": [],
   "source": []
  },
  {
   "cell_type": "code",
   "execution_count": 15,
   "id": "62e2c5f1",
   "metadata": {},
   "outputs": [],
   "source": [
    "my_RandomForestClassifier_Pipeline=Pipeline(\n",
    "    [\n",
    "        #('my_StandardScaler',StandardScaler()),\n",
    "        ('my_RandomForestClassifier',RandomForestClassifier())\n",
    "    ]\n",
    ")\n",
    "my_RandomForestClassifier_parameters=[\n",
    "    {\n",
    "        'my_RandomForestClassifier__n_estimators':[10,20,40,100,200],\n",
    "        'my_RandomForestClassifier__n_jobs':[4],\n",
    "        'my_RandomForestClassifier__random_state':[1337]#,\n",
    "        #'my_RandomForestRegressor__max_depth':[5]\n",
    "        \n",
    "    }\n",
    "]"
   ]
  },
  {
   "cell_type": "code",
   "execution_count": 18,
   "id": "7eec4220",
   "metadata": {},
   "outputs": [
    {
     "name": "stdout",
     "output_type": "stream",
     "text": [
      "0.9535611757303066 {'my_RandomForestClassifier__n_estimators': 10, 'my_RandomForestClassifier__n_jobs': 4, 'my_RandomForestClassifier__random_state': 1337}\n",
      "0.956229861188502 {'my_RandomForestClassifier__n_estimators': 20, 'my_RandomForestClassifier__n_jobs': 4, 'my_RandomForestClassifier__random_state': 1337}\n",
      "0.9579182756217637 {'my_RandomForestClassifier__n_estimators': 40, 'my_RandomForestClassifier__n_jobs': 4, 'my_RandomForestClassifier__random_state': 1337}\n",
      "0.9583025764784319 {'my_RandomForestClassifier__n_estimators': 100, 'my_RandomForestClassifier__n_jobs': 4, 'my_RandomForestClassifier__random_state': 1337}\n",
      "0.9580483182103035 {'my_RandomForestClassifier__n_estimators': 200, 'my_RandomForestClassifier__n_jobs': 4, 'my_RandomForestClassifier__random_state': 1337}\n"
     ]
    }
   ],
   "source": [
    "my_RandomForestClassifier_Gridsearch=GridSearchCV(\n",
    "    my_RandomForestClassifier_Pipeline,\n",
    "    my_RandomForestClassifier_parameters,\n",
    "    cv=5,\n",
    "    scoring='f1',\n",
    "    return_train_score=True\n",
    ")\n",
    "\n",
    "my_RandomForestClassifier_Gridsearch.fit(X_train,y_train)\n",
    "\n",
    "my_RandomForestClassifier_Gridsearch_results=my_RandomForestClassifier_Gridsearch.cv_results_\n",
    "for mean_score, params in zip(my_RandomForestClassifier_Gridsearch_results[\"mean_test_score\"],my_RandomForestClassifier_Gridsearch_results[\"params\"]):\n",
    "    #print(np.sqrt(-mean_score), params)\n",
    "    print(mean_score,params)\n",
    "    \n",
    "winner_RandomForestClassifier=my_RandomForestClassifier_Gridsearch.best_estimator_"
   ]
  },
  {
   "cell_type": "code",
   "execution_count": 19,
   "id": "1af737b1",
   "metadata": {},
   "outputs": [
    {
     "name": "stdout",
     "output_type": "stream",
     "text": [
      "{'mean_fit_time': array([0.17836971, 0.20214982, 0.26204414, 0.45773149, 0.77950845]), 'std_fit_time': array([0.00766144, 0.00676543, 0.00763709, 0.01057246, 0.04253183]), 'mean_score_time': array([0.02299509, 0.0320178 , 0.04570079, 0.08945332, 0.19357743]), 'std_score_time': array([0.00161405, 0.00339325, 0.00575184, 0.00900562, 0.0192529 ]), 'param_my_RandomForestClassifier__n_estimators': masked_array(data=[10, 20, 40, 100, 200],\n",
      "             mask=[False, False, False, False, False],\n",
      "       fill_value='?',\n",
      "            dtype=object), 'param_my_RandomForestClassifier__n_jobs': masked_array(data=[4, 4, 4, 4, 4],\n",
      "             mask=[False, False, False, False, False],\n",
      "       fill_value='?',\n",
      "            dtype=object), 'param_my_RandomForestClassifier__random_state': masked_array(data=[1337, 1337, 1337, 1337, 1337],\n",
      "             mask=[False, False, False, False, False],\n",
      "       fill_value='?',\n",
      "            dtype=object), 'params': [{'my_RandomForestClassifier__n_estimators': 10, 'my_RandomForestClassifier__n_jobs': 4, 'my_RandomForestClassifier__random_state': 1337}, {'my_RandomForestClassifier__n_estimators': 20, 'my_RandomForestClassifier__n_jobs': 4, 'my_RandomForestClassifier__random_state': 1337}, {'my_RandomForestClassifier__n_estimators': 40, 'my_RandomForestClassifier__n_jobs': 4, 'my_RandomForestClassifier__random_state': 1337}, {'my_RandomForestClassifier__n_estimators': 100, 'my_RandomForestClassifier__n_jobs': 4, 'my_RandomForestClassifier__random_state': 1337}, {'my_RandomForestClassifier__n_estimators': 200, 'my_RandomForestClassifier__n_jobs': 4, 'my_RandomForestClassifier__random_state': 1337}], 'split0_test_score': array([0.95112179, 0.95527157, 0.95575927, 0.95710882, 0.95676319]), 'split1_test_score': array([0.95686901, 0.95745527, 0.95752283, 0.95917558, 0.95834986]), 'split2_test_score': array([0.95318127, 0.95374801, 0.95704057, 0.95666004, 0.95662555]), 'split3_test_score': array([0.9538338 , 0.95763389, 0.9597128 , 0.95898049, 0.95891504]), 'split4_test_score': array([0.9528    , 0.95704057, 0.95955591, 0.95958796, 0.95958796]), 'mean_test_score': array([0.95356118, 0.95622986, 0.95791828, 0.95830258, 0.95804832]), 'std_test_score': array([0.00188098, 0.00149721, 0.00151593, 0.00118295, 0.00117375]), 'rank_test_score': array([5, 4, 3, 1, 2], dtype=int32), 'split0_train_score': array([0.99591587, 0.99805627, 0.99856734, 0.998772  , 0.99877225]), 'split1_train_score': array([0.99713643, 0.99846547, 0.99907872, 0.99928315, 0.99928345]), 'split2_train_score': array([0.99631902, 0.99795166, 0.99846453, 0.99856734, 0.99856675]), 'split3_train_score': array([0.99601431, 0.9976461 , 0.99846516, 0.99856704, 0.99856704]), 'split4_train_score': array([0.99642602, 0.99764898, 0.9986698 , 0.99897688, 0.99897625]), 'mean_train_score': array([0.99636233, 0.9979537 , 0.99864911, 0.99883328, 0.99883315]), 'std_train_score': array([0.00043026, 0.00030328, 0.00022785, 0.00027143, 0.00027156])}\n"
     ]
    }
   ],
   "source": [
    "print(my_RandomForestClassifier_Gridsearch_results)"
   ]
  },
  {
   "cell_type": "code",
   "execution_count": 21,
   "id": "e0e9256f",
   "metadata": {},
   "outputs": [],
   "source": [
    "y_predict=winner_RandomForestClassifier.predict(X_test)"
   ]
  },
  {
   "cell_type": "code",
   "execution_count": 28,
   "id": "2daab5bc",
   "metadata": {},
   "outputs": [],
   "source": [
    "my_confusion=confusion_matrix(y_test,y_predict)\n"
   ]
  },
  {
   "cell_type": "code",
   "execution_count": 29,
   "id": "cba78939",
   "metadata": {},
   "outputs": [
    {
     "data": {
      "text/plain": [
       "array([[  37,  121],\n",
       "       [  16, 1486]])"
      ]
     },
     "execution_count": 29,
     "metadata": {},
     "output_type": "execute_result"
    }
   ],
   "source": [
    "my_confusion"
   ]
  },
  {
   "cell_type": "code",
   "execution_count": 30,
   "id": "432511d7",
   "metadata": {},
   "outputs": [
    {
     "data": {
      "text/plain": [
       "<AxesSubplot:>"
      ]
     },
     "execution_count": 30,
     "metadata": {},
     "output_type": "execute_result"
    },
    {
     "data": {
      "image/png": "[encoded data removed]",
      "text/plain": [
       "<Figure size 432x288 with 2 Axes>"
      ]
     },
     "metadata": {
      "needs_background": "light"
     },
     "output_type": "display_data"
    }
   ],
   "source": [
    "import seaborn as sns\n",
    "sns.heatmap(my_confusion/np.sum(my_confusion), annot=True, \n",
    "            fmt='.2%', cmap='Blues')"
   ]
  },
  {
   "cell_type": "code",
   "execution_count": 32,
   "id": "b8a6d895",
   "metadata": {},
   "outputs": [],
   "source": [
    "from imblearn.ensemble import BalancedRandomForestClassifier"
   ]
  },
  {
   "cell_type": "code",
   "execution_count": 37,
   "id": "5cbdc783",
   "metadata": {},
   "outputs": [],
   "source": [
    "my_BalancedRandomForestClassifier_Pipeline=Pipeline(\n",
    "    [\n",
    "        #('my_StandardScaler',StandardScaler()),\n",
    "        ('my_BalancedRandomForestClassifier',BalancedRandomForestClassifier())\n",
    "    ]\n",
    ")\n",
    "my_BalancedRandomForestClassifier_parameters=[\n",
    "    {\n",
    "        'my_BalancedRandomForestClassifier__n_estimators':[10,20,40,100,200],\n",
    "        'my_BalancedRandomForestClassifier__n_jobs':[5],\n",
    "        'my_BalancedRandomForestClassifier__random_state':[1337],\n",
    "        'my_BalancedRandomForestClassifier__criterion'=['gini','entropy'],\n",
    "        'my_BalancedRandomForestClassifier__sampling_strategy'=['not_majority','not_minority','all']\n",
    "        'my_BalancedRandomForestClassifier__replacement'=[True,False]\n",
    "        #,\n",
    "        #'my_BalancedRandomForestRegressor__max_depth':[5]\n",
    "        \n",
    "    }\n",
    "]"
   ]
  },
  {
   "cell_type": "code",
   "execution_count": 38,
   "id": "2a246b64",
   "metadata": {},
   "outputs": [
    {
     "name": "stdout",
     "output_type": "stream",
     "text": [
      "0.7380941694504131 {'my_BalancedRandomForestClassifier__n_estimators': 10, 'my_BalancedRandomForestClassifier__n_jobs': 4, 'my_BalancedRandomForestClassifier__random_state': 1337}\n",
      "0.7847040716192778 {'my_BalancedRandomForestClassifier__n_estimators': 20, 'my_BalancedRandomForestClassifier__n_jobs': 4, 'my_BalancedRandomForestClassifier__random_state': 1337}\n",
      "0.8093002975567186 {'my_BalancedRandomForestClassifier__n_estimators': 40, 'my_BalancedRandomForestClassifier__n_jobs': 4, 'my_BalancedRandomForestClassifier__random_state': 1337}\n",
      "0.8196735041708804 {'my_BalancedRandomForestClassifier__n_estimators': 100, 'my_BalancedRandomForestClassifier__n_jobs': 4, 'my_BalancedRandomForestClassifier__random_state': 1337}\n",
      "0.827943971278911 {'my_BalancedRandomForestClassifier__n_estimators': 200, 'my_BalancedRandomForestClassifier__n_jobs': 4, 'my_BalancedRandomForestClassifier__random_state': 1337}\n"
     ]
    }
   ],
   "source": [
    "my_BalancedRandomForestClassifier_Gridsearch=GridSearchCV(\n",
    "    my_BalancedRandomForestClassifier_Pipeline,\n",
    "    my_BalancedRandomForestClassifier_parameters,\n",
    "    cv=5,\n",
    "    scoring='f1',\n",
    "    return_train_score=True\n",
    ")\n",
    "\n",
    "my_BalancedRandomForestClassifier_Gridsearch.fit(X_train,y_train)\n",
    "\n",
    "my_BalancedRandomForestClassifier_Gridsearch_results=my_BalancedRandomForestClassifier_Gridsearch.cv_results_\n",
    "for mean_score, params in zip(my_BalancedRandomForestClassifier_Gridsearch_results[\"mean_test_score\"],my_BalancedRandomForestClassifier_Gridsearch_results[\"params\"]):\n",
    "    #print(np.sqrt(-mean_score), params)\n",
    "    print(mean_score,params)\n",
    "    \n",
    "winner_BalancedRandomForestClassifier=my_BalancedRandomForestClassifier_Gridsearch.best_estimator_"
   ]
  },
  {
   "cell_type": "code",
   "execution_count": 39,
   "id": "31d18a26",
   "metadata": {},
   "outputs": [
    {
     "data": {
      "text/plain": [
       "<AxesSubplot:>"
      ]
     },
     "execution_count": 39,
     "metadata": {},
     "output_type": "execute_result"
    },
    {
     "data": {
      "image/png": "[encoded data removed]",
      "text/plain": [
       "<Figure size 432x288 with 2 Axes>"
      ]
     },
     "metadata": {
      "needs_background": "light"
     },
     "output_type": "display_data"
    }
   ],
   "source": [
    "y_Balancedpredict=winner_BalancedRandomForestClassifier.predict(X_test)\n",
    "my_Balancedconfusion=confusion_matrix(y_test,y_Balancedpredict)\n",
    "import seaborn as sns\n",
    "sns.heatmap(my_Balancedconfusion/np.sum(my_Balancedconfusion), annot=True, \n",
    "            fmt='.2%', cmap='Blues')"
   ]
  },
  {
   "cell_type": "code",
   "execution_count": 41,
   "id": "f4a577b4",
   "metadata": {},
   "outputs": [
    {
     "data": {
      "image/png": "[encoded data removed]",
      "text/plain": [
       "<Figure size 432x288 with 1 Axes>"
      ]
     },
     "metadata": {
      "needs_background": "light"
     },
     "output_type": "display_data"
    }
   ],
   "source": [
    "forest=winner_BalancedRandomForestClassifier['my_BalancedRandomForestClassifier']\n",
    "importances = forest.feature_importances_\n",
    "#feature_names = [f\"feature {i}\" for i in range(X.shape[1])]\n",
    "feature_names = [i for i in range(X.shape[1])]\n",
    "forest_importances = pd.Series(importances, index=feature_names)\n",
    "forest_importances.sort_values(ascending=False,inplace=True)\n",
    "plt.hist(forest_importances,bins=100)\n",
    "plt.show()"
   ]
  },
  {
   "cell_type": "code",
   "execution_count": 42,
   "id": "579e0e1e",
   "metadata": {},
   "outputs": [],
   "source": [
    "forest_importances=forest_importances.iloc[0:50]\n",
    "feature_names=forest_importances.index.to_list()\n",
    "std = np.std([tree.feature_importances_ for tree in forest.estimators_], axis=0)\n",
    "std=std[forest_importances.index]"
   ]
  },
  {
   "cell_type": "code",
   "execution_count": 43,
   "id": "386c18d0",
   "metadata": {},
   "outputs": [
    {
     "data": {
      "image/png": "[encoded data removed]",
      "text/plain": [
       "<Figure size 720x720 with 1 Axes>"
      ]
     },
     "metadata": {
      "needs_background": "light"
     },
     "output_type": "display_data"
    }
   ],
   "source": [
    "fig, ax = plt.subplots(figsize=(10,10))\n",
    "forest_importances.plot.bar(yerr=std, ax=ax)\n",
    "ax.set_title(\"Feature importances using MDI\")\n",
    "ax.set_ylabel(\"Mean decrease in impurity\")\n",
    "fig.tight_layout()"
   ]
  },
  {
   "cell_type": "code",
   "execution_count": 44,
   "id": "d7279025",
   "metadata": {},
   "outputs": [
    {
     "data": {
      "text/plain": [
       "Int64Index([  1, 374,   2, 345, 712, 257, 696, 697, 185, 688, 333, 186, 643,\n",
       "            645, 439, 392, 656,  20, 665, 540, 181, 710, 346, 451, 709, 365,\n",
       "            449,  11, 143, 516, 391, 287, 818, 452, 356, 600, 611, 672, 528,\n",
       "             19, 335, 545, 430, 376, 340, 797, 440, 708, 241,  12],\n",
       "           dtype='int64')"
      ]
     },
     "execution_count": 44,
     "metadata": {},
     "output_type": "execute_result"
    }
   ],
   "source": [
    "forest_importances.index"
   ]
  }
 ],
 "metadata": {
  "kernelspec": {
   "display_name": "Python 3",
   "language": "python",
   "name": "python3"
  },
  "language_info": {
   "codemirror_mode": {
    "name": "ipython",
    "version": 3
   },
   "file_extension": ".py",
   "mimetype": "text/x-python",
   "name": "python",
   "nbconvert_exporter": "python",
   "pygments_lexer": "ipython3",
   "version": "3.8.8"
  }
 },
 "nbformat": 4,
 "nbformat_minor": 5
}
