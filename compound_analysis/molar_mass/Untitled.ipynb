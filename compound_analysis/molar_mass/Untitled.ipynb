{
 "cells": [
  {
   "cell_type": "code",
   "execution_count": 47,
   "id": "30607931",
   "metadata": {},
   "outputs": [],
   "source": [
    "import pubchempy\n",
    "import pandas as pd\n",
    "import time"
   ]
  },
  {
   "cell_type": "code",
   "execution_count": 48,
   "id": "fc888544",
   "metadata": {},
   "outputs": [],
   "source": [
    "# metlin_positive_address='/home/rictuar/coding_projects/fiehn_work/cfmid/cfmid_redo/resources/starting_files/metlin/metlin_inchikey_[M+H]+.inchi'\n",
    "# metlin_negative_address='/home/rictuar/coding_projects/fiehn_work/cfmid/cfmid_redo/resources/starting_files/metlin/metlin_inchikey_[M-H]-.inchi'\n",
    "# inchikey_list_pos=pd.read_csv(metlin_positive_address,header=None)[0].to_list()\n",
    "# inchikey_list_neg=pd.read_csv(metlin_negative_address,header=None)[0].to_list()"
   ]
  },
  {
   "cell_type": "code",
   "execution_count": 49,
   "id": "5d47b668",
   "metadata": {},
   "outputs": [],
   "source": [
    "adduct='[M+H]+'\n",
    "cohort='metlin'\n",
    "output_address='/home/rictuar/coding_projects/fiehn_work/cfmid/cfmid_redo/results/compound_exploration/molar_mass/metlin_positive_masses.bin'"
   ]
  },
  {
   "cell_type": "code",
   "execution_count": 50,
   "id": "65e235b4",
   "metadata": {
    "scrolled": true
   },
   "outputs": [],
   "source": [
    "inchikey_input_file_address='/home/rictuar/coding_projects/fiehn_work/cfmid/cfmid_redo/results/compound_exploration/[M+H]+_metlin_fingerprints.bin'\n",
    "inchikey_input_panda=pd.read_pickle(inchikey_input_file_address)\n",
    "inchikey_list=inchikey_input_panda['InChIKey'].to_list()"
   ]
  },
  {
   "cell_type": "code",
   "execution_count": null,
   "id": "bfe148e0",
   "metadata": {},
   "outputs": [],
   "source": []
  },
  {
   "cell_type": "code",
   "execution_count": null,
   "id": "bf596db0",
   "metadata": {},
   "outputs": [],
   "source": []
  },
  {
   "cell_type": "code",
   "execution_count": 51,
   "id": "c52eede5",
   "metadata": {},
   "outputs": [],
   "source": [
    "my_dict={\n",
    "    'inchikey':[],\n",
    "    'adduct':[],\n",
    "    'cohort':[],\n",
    "    'exact_mass':[],\n",
    "    'molecular_weight':[]\n",
    "}"
   ]
  },
  {
   "cell_type": "code",
   "execution_count": null,
   "id": "197d9951",
   "metadata": {},
   "outputs": [
    {
     "name": "stdout",
     "output_type": "stream",
     "text": [
      "0\n",
      "100\n",
      "200\n",
      "300\n",
      "400\n",
      "500\n",
      "600\n",
      "700\n",
      "800\n",
      "900\n",
      "1000\n",
      "1100\n",
      "1200\n"
     ]
    }
   ],
   "source": [
    "counter=0\n",
    "for temp_inchikey in inchikey_list:\n",
    "    if counter%100==0:\n",
    "        print(counter)\n",
    "    counter+=1\n",
    "    time.sleep(0.2)\n",
    "    temp_compound=pubchempy.get_compounds(temp_inchikey,'inchikey')\n",
    "    try:\n",
    "        temp_compound_dict=temp_compound[0].to_dict()\n",
    "        my_dict['inchikey'].append(temp_inchikey)\n",
    "        my_dict['adduct'].append(adduct)\n",
    "        my_dict['cohort'].append(cohort)\n",
    "        my_dict['exact_mass'].append(temp_compound_dict['exact_mass'])\n",
    "        my_dict['molecular_weight'].append(temp_compound_dict['molecular_weight'])\n",
    "    except IndexError:\n",
    "        my_dict['inchikey'].append(temp_inchikey)\n",
    "        my_dict['adduct'].append(adduct)\n",
    "        my_dict['cohort'].append(cohort)\n",
    "        my_dict['exact_mass'].append('null')\n",
    "        my_dict['molecular_weight'].append('null')\n",
    "        \n",
    "#     print(temp_compound_dict)\n",
    "#     hold=input('hold')\n"
   ]
  },
  {
   "cell_type": "code",
   "execution_count": null,
   "id": "477cd786",
   "metadata": {},
   "outputs": [],
   "source": [
    "output_panda=pd.DataFrame.from_dict(my_dict)"
   ]
  },
  {
   "cell_type": "code",
   "execution_count": null,
   "id": "3e156603",
   "metadata": {},
   "outputs": [],
   "source": [
    "output_panda.to_pickle(output_address)"
   ]
  }
 ],
 "metadata": {
  "kernelspec": {
   "display_name": "Python 3",
   "language": "python",
   "name": "python3"
  },
  "language_info": {
   "codemirror_mode": {
    "name": "ipython",
    "version": 3
   },
   "file_extension": ".py",
   "mimetype": "text/x-python",
   "name": "python",
   "nbconvert_exporter": "python",
   "pygments_lexer": "ipython3",
   "version": "3.8.8"
  }
 },
 "nbformat": 4,
 "nbformat_minor": 5
}
