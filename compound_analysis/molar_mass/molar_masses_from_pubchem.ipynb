{
 "cells": [
  {
   "cell_type": "code",
   "execution_count": 59,
   "id": "004bdd72",
   "metadata": {},
   "outputs": [],
   "source": [
    "import pubchempy\n",
    "import pandas as pd\n",
    "import time"
   ]
  },
  {
   "cell_type": "code",
   "execution_count": 60,
   "id": "c9c13682",
   "metadata": {},
   "outputs": [],
   "source": [
    "# metlin_positive_address='/home/rictuar/coding_projects/fiehn_work/cfmid/cfmid_redo/resources/starting_files/metlin/metlin_inchikey_[M+H]+.inchi'\n",
    "# metlin_negative_address='/home/rictuar/coding_projects/fiehn_work/cfmid/cfmid_redo/resources/starting_files/metlin/metlin_inchikey_[M-H]-.inchi'\n",
    "# inchikey_list_pos=pd.read_csv(metlin_positive_address,header=None)[0].to_list()\n",
    "# inchikey_list_neg=pd.read_csv(metlin_negative_address,header=None)[0].to_list()"
   ]
  },
  {
   "cell_type": "code",
   "execution_count": 61,
   "id": "97147378",
   "metadata": {},
   "outputs": [],
   "source": [
    "adduct='[M+H]+'\n",
    "cohort='nist20'\n",
    "output_address='/home/rictuar/coding_projects/fiehn_work/cfmid/cfmid_redo/results/compound_exploration/molar_mass/nist20_positive_masses.bin'"
   ]
  },
  {
   "cell_type": "code",
   "execution_count": 62,
   "id": "1f50ea89",
   "metadata": {
    "scrolled": true
   },
   "outputs": [],
   "source": [
    "inchikey_input_file_address='/home/rictuar/coding_projects/fiehn_work/cfmid/cfmid_redo/results/compound_exploration/[M+H]+_hcd_cohort_fingerprints.bin'\n",
    "inchikey_input_panda=pd.read_pickle(inchikey_input_file_address)\n",
    "inchikey_list=inchikey_input_panda['InChIKey'].to_list()"
   ]
  },
  {
   "cell_type": "code",
   "execution_count": null,
   "id": "8a4770ea",
   "metadata": {},
   "outputs": [],
   "source": []
  },
  {
   "cell_type": "code",
   "execution_count": null,
   "id": "3a180773",
   "metadata": {},
   "outputs": [],
   "source": []
  },
  {
   "cell_type": "code",
   "execution_count": 63,
   "id": "5529bf20",
   "metadata": {},
   "outputs": [],
   "source": [
    "my_dict={\n",
    "    'inchikey':[],\n",
    "    'adduct':[],\n",
    "    'cohort':[],\n",
    "    'exact_mass':[],\n",
    "    'molecular_weight':[]\n",
    "}"
   ]
  },
  {
   "cell_type": "code",
   "execution_count": 67,
   "id": "ae4b9364",
   "metadata": {},
   "outputs": [
    {
     "name": "stdout",
     "output_type": "stream",
     "text": [
      "0\n",
      "100\n",
      "200\n",
      "300\n",
      "400\n",
      "500\n",
      "600\n",
      "700\n",
      "800\n",
      "900\n",
      "1000\n",
      "1100\n",
      "1200\n",
      "1300\n",
      "1400\n",
      "1500\n",
      "1600\n",
      "1700\n",
      "1800\n",
      "1900\n",
      "2000\n",
      "2100\n",
      "2200\n",
      "2300\n",
      "2400\n",
      "2500\n",
      "2600\n",
      "2700\n",
      "2800\n",
      "2900\n",
      "3000\n",
      "3100\n",
      "3200\n",
      "3300\n",
      "3400\n",
      "3500\n",
      "3600\n",
      "3700\n",
      "3800\n",
      "3900\n",
      "4000\n",
      "4100\n",
      "4200\n",
      "4300\n",
      "4400\n",
      "4500\n",
      "4600\n",
      "4700\n",
      "4800\n",
      "4900\n",
      "5000\n",
      "5100\n",
      "5200\n",
      "5300\n",
      "5400\n",
      "5500\n",
      "5600\n",
      "5700\n",
      "5800\n",
      "5900\n",
      "6000\n",
      "6100\n",
      "6200\n",
      "6300\n",
      "6400\n",
      "6500\n",
      "6600\n",
      "6700\n",
      "6800\n",
      "6900\n",
      "7000\n",
      "7100\n",
      "7200\n",
      "7300\n",
      "7400\n",
      "7500\n",
      "7600\n",
      "7700\n",
      "7800\n",
      "7900\n",
      "8000\n",
      "8100\n",
      "8200\n"
     ]
    }
   ],
   "source": [
    "counter=0\n",
    "for temp_inchikey in inchikey_list:\n",
    "    if counter%100==0:\n",
    "        print(counter)\n",
    "    counter+=1\n",
    "    time.sleep(0.2)\n",
    "    temp_compound=pubchempy.get_compounds(temp_inchikey,'inchikey')\n",
    "    try:\n",
    "        temp_compound_dict=temp_compound[0].to_dict()\n",
    "        my_dict['inchikey'].append(temp_inchikey)\n",
    "        my_dict['adduct'].append(adduct)\n",
    "        my_dict['cohort'].append(cohort)\n",
    "        my_dict['exact_mass'].append(temp_compound_dict['exact_mass'])\n",
    "        my_dict['molecular_weight'].append(temp_compound_dict['molecular_weight'])\n",
    "    except IndexError:\n",
    "        my_dict['inchikey'].append(temp_inchikey)\n",
    "        my_dict['adduct'].append(adduct)\n",
    "        my_dict['cohort'].append(cohort)\n",
    "        my_dict['exact_mass'].append('null')\n",
    "        my_dict['molecular_weight'].append('null')\n",
    "        \n",
    "#     print(temp_compound_dict)\n",
    "#     hold=input('hold')\n"
   ]
  },
  {
   "cell_type": "code",
   "execution_count": 68,
   "id": "59bec56b",
   "metadata": {},
   "outputs": [],
   "source": [
    "output_panda=pd.DataFrame.from_dict(my_dict)"
   ]
  },
  {
   "cell_type": "code",
   "execution_count": 69,
   "id": "9d3f6e2c",
   "metadata": {},
   "outputs": [],
   "source": [
    "output_panda.to_pickle(output_address)"
   ]
  }
 ],
 "metadata": {
  "kernelspec": {
   "display_name": "Python 3",
   "language": "python",
   "name": "python3"
  },
  "language_info": {
   "codemirror_mode": {
    "name": "ipython",
    "version": 3
   },
   "file_extension": ".py",
   "mimetype": "text/x-python",
   "name": "python",
   "nbconvert_exporter": "python",
   "pygments_lexer": "ipython3",
   "version": "3.8.8"
  }
 },
 "nbformat": 4,
 "nbformat_minor": 5
}
